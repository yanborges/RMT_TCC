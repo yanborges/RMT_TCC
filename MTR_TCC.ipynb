{
 "cells": [
  {
   "cell_type": "markdown",
   "metadata": {},
   "source": [
    "# TCC 2 - Yan Borges "
   ]
  },
  {
   "cell_type": "markdown",
   "metadata": {},
   "source": [
    "## Importando bibliotecas "
   ]
  },
  {
   "cell_type": "code",
   "execution_count": 2,
   "metadata": {
    "id": "2cfVKzLtIRg1"
   },
   "outputs": [],
   "source": [
    "# -*- coding: utf-8 -*-\n",
    "import pandas as pd\n",
    "import numpy as np\n",
    "import math\n",
    "import random \n",
    "import config\n",
    "import matplotlib.pyplot as plt\n",
    "\n",
    "#Bibliotecas para a leitura dos dados\n",
    "from scipy.io.arff import loadarff\n",
    "\n",
    "#Bibliotecas para a análise de dados\n",
    "from sklearn.multioutput import MultiOutputRegressor\n",
    "from sklearn.tree import DecisionTreeRegressor\n",
    "from sklearn.ensemble import RandomForestRegressor\n",
    "from sklearn.preprocessing import StandardScaler\n",
    "from sklearn.multioutput import RegressorChain\n",
    "from sklearn.cluster import KMeans\n",
    "import xgboost as xgb\n",
    "\n",
    "#Bibliotecas para a avaliação dos modelos\n",
    "from sklearn.metrics import silhouette_score\n",
    "from sklearn.metrics import make_scorer\n",
    "\n",
    "#Bibliotecas para a validação cruzada\n",
    "from sklearn.model_selection import train_test_split\n",
    "from sklearn.model_selection import cross_validate\n",
    "from sklearn.model_selection import KFold\n",
    "from sklearn.model_selection import GridSearchCV\n",
    "\n",
    "#Bibliotecas para a análise de agrupamento\n",
    "from scipy.cluster.hierarchy import linkage, dendrogram, fcluster\n",
    "from scipy.spatial.distance import squareform"
   ]
  },
  {
   "cell_type": "markdown",
   "metadata": {
    "id": "PUh8kiCjVxO0"
   },
   "source": [
    "## Funções"
   ]
  },
  {
   "cell_type": "markdown",
   "metadata": {},
   "source": [
    "### Modelos"
   ]
  },
  {
   "cell_type": "code",
   "execution_count": 3,
   "metadata": {
    "id": "byiB0yYdVwHx"
   },
   "outputs": [],
   "source": [
    "def model_xgboost():\n",
    "    param = {'max_depth': 4,\n",
    "             'eta': 0.05, \n",
    "             'objective': 'reg:squarederror',\n",
    "             'booster': 'gbtree',\n",
    "            }\n",
    "    bst = xgb.XGBRegressor(**param, n_estimators=100)\n",
    "    return bst\n",
    "\n",
    "def model_xgboost_multi():\n",
    "    param = {'max_depth': 4,\n",
    "             'eta': 0.05, \n",
    "             'objective': 'reg:squarederror',\n",
    "             'booster': 'gbtree',\n",
    "            }\n",
    "    bst = xgb.XGBRegressor(**param, n_estimators=100, tree_method='hist', multi_strategy='multi_output_tree')\n",
    "    return bst\n",
    "\n",
    "def Chain_RandomForest():\n",
    "    reg_chain = RegressorChain(RandomForestRegressor(n_estimators = 50,n_jobs = -1, random_state=0))\n",
    "    return reg_chain\n",
    "\n",
    "def Chain_DecisionTree():\n",
    "    reg_chain = RegressorChain(DecisionTreeRegressor())\n",
    "    return reg_chain\n",
    "\n",
    "def model_randomForest():\n",
    "    regressor = RandomForestRegressor(n_estimators = 50,n_jobs = -1, random_state=0)\n",
    "    return regressor\n",
    "\n",
    "def model_dtree():\n",
    "    regressor = DecisionTreeRegressor()\n",
    "    return regressor\n",
    "\n",
    "def model_multi_dtree():\n",
    "    regressor = MultiOutputRegressor(DecisionTreeRegressor())\n",
    "    return regressor\n",
    "\n",
    "def model_multi_randomForest():\n",
    "    regressor = MultiOutputRegressor(RandomForestRegressor(n_estimators = 50,n_jobs = -1, random_state=0))\n",
    "    return regressor\n"
   ]
  },
  {
   "cell_type": "markdown",
   "metadata": {},
   "source": [
    "### Cálculo de erro "
   ]
  },
  {
   "cell_type": "code",
   "execution_count": 4,
   "metadata": {},
   "outputs": [],
   "source": [
    "def computer_RRMSE_list(real_test,result_p,real_target_mean):\n",
    "    \"\"\"RRMSE: Relative Root Mean Square Error\n",
    "        input: real_test: real test data\n",
    "              result_p: predicted data\n",
    "              real_target_mean: mean of real train data\n",
    "        output: RRMSE list \"\"\"\n",
    "    \n",
    "    _list = []\n",
    "\n",
    "    if result_p[1].shape == ():\n",
    "        numerador = 0\n",
    "        denominador = 0\n",
    "        for j in range(result_p.shape[0]):\n",
    "            numerador += (result_p[j] - real_test[j])**2\n",
    "            denominador += (real_target_mean - real_test[j])**2\n",
    "        _list.append(math.sqrt(numerador/denominador))    \n",
    "        return _list\n",
    "    else:\n",
    "        for i in range(result_p.shape[1]):\n",
    "            numerador = 0\n",
    "            denominador = 0\n",
    "            for j in range(result_p.shape[0]):\n",
    "                numerador += (result_p[j,i] - real_test[j,i])**2\n",
    "                denominador += (real_target_mean[i] - real_test[j,i])**2\n",
    "            _list.append(math.sqrt(numerador/denominador))    \n",
    "        return _list    \n",
    "\n",
    "def calculate_RRMSE(targets, predicted):\n",
    "    targets_mean = np.mean(targets, axis=0)\n",
    "    loss_list_RRMSE = computer_RRMSE_list(targets, predicted, targets_mean)\n",
    "    mean_error = np.array(loss_list_RRMSE).mean(axis=0)\n",
    "    return mean_error"
   ]
  },
  {
   "cell_type": "markdown",
   "metadata": {
    "id": "unpvRVKQSTwF"
   },
   "source": [
    "## Implementação"
   ]
  },
  {
   "cell_type": "code",
   "execution_count": 5,
   "metadata": {
    "colab": {
     "base_uri": "https://localhost:8080/"
    },
    "id": "Ohf0EgDuYRXL",
    "outputId": "04f5473d-f761-4005-d640-dae2cb96522e"
   },
   "outputs": [
    {
     "name": "stdout",
     "output_type": "stream",
     "text": [
      "Base oes10\n",
      "Shape (403, 299)\n",
      "Targets (403, 16)\n"
     ]
    }
   ],
   "source": [
    "path = \"../TCC/mtr-datasets/\"\n",
    "\n",
    "#text_file = input(\"dataset: \")\n",
    "text_file = 'oes10'\n",
    "data, meta = loadarff(path + text_file + \".arff\")\n",
    "data = pd.DataFrame(data)\n",
    "\n",
    "data.reset_index(inplace=True)\n",
    "data.replace('?', np.nan, inplace=True)\n",
    "data.replace('     ?', np.nan, inplace=True)\n",
    "data = data.applymap(float)\n",
    "\n",
    "#Caso de Exceção por ter coluna com muito Null\n",
    "if text_file == 'osales':\n",
    "    conta_na = data.isna().sum()\n",
    "    conta_na[conta_na > 70].index\n",
    "    data.drop(columns=conta_na[conta_na > 70].index, inplace=True)\n",
    "\n",
    "#Normalização\n",
    "scaler = StandardScaler()\n",
    "data = pd.DataFrame(scaler.fit_transform(data), columns=data.columns)\n",
    "\n",
    "if config.all_config[text_file].get('sample_random') == True:\n",
    "    data = data.sample(frac=1,random_state = config.all_config[text_file].get('sample_random_num')).reset_index(drop=True)\n",
    "data = data.fillna(pd.Series(np.nanmean(data,axis=0),index=data.columns))\n",
    "label = data.iloc[:,-config.all_config[text_file].get('targets_num'):].values\n",
    "data = data.iloc[:,:-config.all_config[text_file].get('targets_num')].values\n",
    "\n",
    "#Lista para comparar resultados de teste no final\n",
    "error_results = []\n",
    "\n",
    "print('Base', text_file)\n",
    "print('Shape', data.shape) \n",
    "print('Targets', label.shape)"
   ]
  },
  {
   "cell_type": "markdown",
   "metadata": {},
   "source": [
    "### Separação dos dados em Treino e Teste \n"
   ]
  },
  {
   "cell_type": "code",
   "execution_count": 7,
   "metadata": {},
   "outputs": [],
   "source": [
    "# Não estou usando mais \n",
    "x_train, x_test, y_train, y_test = train_test_split(data, label, test_size=0.25, random_state=42)\n",
    " \n",
    "label_mean = label.mean(axis=0)\n",
    "\n",
    "RRMSE_scorer = make_scorer(calculate_RRMSE, greater_is_better=False)\n",
    "\n",
    "if  text_file == 'rf1' or text_file == 'rf2' or text_file == 'scm1d' or text_file == 'scm20d':\n",
    "    kfold = KFold(n_splits=2, shuffle=True, random_state=42)\n",
    "else:\n",
    "    kfold = KFold(n_splits=5, shuffle=True, random_state=42)\n"
   ]
  },
  {
   "cell_type": "markdown",
   "metadata": {},
   "source": [
    "## Modelos Tradicionais"
   ]
  },
  {
   "cell_type": "markdown",
   "metadata": {},
   "source": [
    "#### Random Forest e Decision Tree com cross validate "
   ]
  },
  {
   "cell_type": "code",
   "execution_count": 16,
   "metadata": {},
   "outputs": [
    {
     "name": "stdout",
     "output_type": "stream",
     "text": [
      "0.845525914222384\n"
     ]
    }
   ],
   "source": [
    "score = cross_validate(model_randomForest(), data, label, cv=kfold, scoring=RRMSE_scorer)\n",
    "score = np.sqrt(-score['test_score']).mean()\n",
    "print(score)\n",
    "error_results.append(('RF',score))"
   ]
  },
  {
   "cell_type": "code",
   "execution_count": 17,
   "metadata": {},
   "outputs": [
    {
     "name": "stdout",
     "output_type": "stream",
     "text": [
      "0.9727132024613784\n"
     ]
    }
   ],
   "source": [
    "score = cross_validate(model_dtree(), data, label, cv=kfold, scoring=RRMSE_scorer)\n",
    "score = np.sqrt(-score['test_score']).mean()\n",
    "print(score)\n",
    "error_results.append(('DT',score))"
   ]
  },
  {
   "cell_type": "markdown",
   "metadata": {},
   "source": [
    "#### Decision Tree Local "
   ]
  },
  {
   "cell_type": "code",
   "execution_count": 20,
   "metadata": {},
   "outputs": [
    {
     "name": "stdout",
     "output_type": "stream",
     "text": [
      "Mean Score:  0.9296647865246012\n"
     ]
    }
   ],
   "source": [
    "scores = np.zeros(label.shape[1])\n",
    "\n",
    "for target in range(label.shape[1]):\n",
    "    y = label[:,[target]].ravel()\n",
    "\n",
    "    score = cross_validate(DecisionTreeRegressor(), data, y, cv=kfold, scoring=RRMSE_scorer)\n",
    "\n",
    "    scores[target] = np.sqrt(-score['test_score']).mean()\n",
    "\n",
    "print(\"Mean Score: \", scores.mean())"
   ]
  },
  {
   "cell_type": "markdown",
   "metadata": {},
   "source": [
    "#### Regressor Chain Padrão RF"
   ]
  },
  {
   "cell_type": "code",
   "execution_count": 21,
   "metadata": {},
   "outputs": [
    {
     "name": "stdout",
     "output_type": "stream",
     "text": [
      "Regressor chain of Random Forest:  0.8505639708954498\n"
     ]
    }
   ],
   "source": [
    "score = cross_validate(Chain_RandomForest(), data, label, cv=kfold, scoring=RRMSE_scorer)\n",
    "score = np.sqrt(-score['test_score']).mean()\n",
    "print(\"Regressor chain of Random Forest: \", score)\n",
    "error_results.append(('Chain of RF',score))"
   ]
  },
  {
   "cell_type": "markdown",
   "metadata": {},
   "source": [
    "#### Regressor Chain Padrão DT"
   ]
  },
  {
   "cell_type": "code",
   "execution_count": 22,
   "metadata": {},
   "outputs": [
    {
     "name": "stdout",
     "output_type": "stream",
     "text": [
      "Regressor chain of Random Forest:  0.9532570319748415\n"
     ]
    }
   ],
   "source": [
    "score = cross_validate(Chain_DecisionTree(), data, label, cv=kfold, scoring=RRMSE_scorer)\n",
    "score = np.sqrt(-score['test_score']).mean()\n",
    "print(\"Regressor chain of Random Forest: \", score)\n",
    "error_results.append(('Chain of DT',score))"
   ]
  },
  {
   "cell_type": "markdown",
   "metadata": {},
   "source": [
    "#### Multi Output Decision Tree"
   ]
  },
  {
   "cell_type": "code",
   "execution_count": 23,
   "metadata": {},
   "outputs": [
    {
     "name": "stdout",
     "output_type": "stream",
     "text": [
      "MultiOutput Regressor DT:  0.9659527463152479\n"
     ]
    }
   ],
   "source": [
    "score = cross_validate(model_multi_dtree(), data, label, cv=kfold, scoring=RRMSE_scorer)\n",
    "score = np.sqrt(-score['test_score']).mean()\n",
    "print(\"MultiOutput Regressor DT: \", score)\n",
    "error_results.append(('MultiOutput DT',score))"
   ]
  },
  {
   "cell_type": "markdown",
   "metadata": {},
   "source": [
    "#### Multi Output Random Forest"
   ]
  },
  {
   "cell_type": "code",
   "execution_count": 24,
   "metadata": {},
   "outputs": [
    {
     "name": "stdout",
     "output_type": "stream",
     "text": [
      "MultiOutput Regressor RF:  0.8355304289203251\n"
     ]
    }
   ],
   "source": [
    "score = cross_validate(model_multi_randomForest(), data, label, cv=kfold, scoring=RRMSE_scorer)\n",
    "score = np.sqrt(-score['test_score']).mean()\n",
    "print(\"MultiOutput Regressor RF: \", score)\n",
    "error_results.append(('MultiOutput RF',score))"
   ]
  },
  {
   "cell_type": "markdown",
   "metadata": {},
   "source": [
    "#### Xgboost"
   ]
  },
  {
   "cell_type": "markdown",
   "metadata": {},
   "source": [
    "Local"
   ]
  },
  {
   "cell_type": "code",
   "execution_count": 25,
   "metadata": {},
   "outputs": [
    {
     "name": "stdout",
     "output_type": "stream",
     "text": [
      "XGBoost:  0.8351173775227807\n"
     ]
    }
   ],
   "source": [
    "score = cross_validate(model_xgboost(), data, label, cv=kfold, scoring=RRMSE_scorer)\n",
    "score = np.sqrt(-score['test_score']).mean()\n",
    "print(\"XGBoost: \",score)\n",
    "error_results.append(('XGBoost',score))"
   ]
  },
  {
   "cell_type": "markdown",
   "metadata": {},
   "source": [
    "Multi"
   ]
  },
  {
   "cell_type": "code",
   "execution_count": 26,
   "metadata": {},
   "outputs": [
    {
     "name": "stdout",
     "output_type": "stream",
     "text": [
      "XGBoost:  0.8555800030383995\n"
     ]
    }
   ],
   "source": [
    "score = cross_validate(model_xgboost_multi(), data, label, cv=kfold, scoring=RRMSE_scorer)\n",
    "score = np.sqrt(-score['test_score']).mean()\n",
    "print(\"XGBoost: \",score)\n",
    "error_results.append(('XGBoost Multi',score))"
   ]
  },
  {
   "cell_type": "markdown",
   "metadata": {},
   "source": [
    "## Método de Clusterização"
   ]
  },
  {
   "cell_type": "markdown",
   "metadata": {},
   "source": [
    "### Matriz de Dissimilaridade "
   ]
  },
  {
   "cell_type": "code",
   "execution_count": 8,
   "metadata": {},
   "outputs": [
    {
     "data": {
      "image/png": "[encoded data removed]",
      "text/plain": [
       "<Figure size 640x480 with 2 Axes>"
      ]
     },
     "metadata": {},
     "output_type": "display_data"
    }
   ],
   "source": [
    "matriz_dissimilaridade = 1 - np.corrcoef(y_train.T)\n",
    "\n",
    "plt.imshow(matriz_dissimilaridade, cmap='viridis')\n",
    "plt.colorbar(label='Dissimilarity')\n",
    "plt.title('Dissimilarity Matrix')\n",
    "plt.show()"
   ]
  },
  {
   "cell_type": "code",
   "execution_count": 9,
   "metadata": {},
   "outputs": [
    {
     "data": {
      "image/png": "[encoded data removed]",
      "text/plain": [
       "<Figure size 800x600 with 1 Axes>"
      ]
     },
     "metadata": {},
     "output_type": "display_data"
    }
   ],
   "source": [
    "#Garante que a diagonal principal é zero\n",
    "np.fill_diagonal(matriz_dissimilaridade, 0)\n",
    "\n",
    "# Garante que a matriz de dissimilaridade seja simétrica\n",
    "matriz_dissimilaridade = (matriz_dissimilaridade + matriz_dissimilaridade.T) / 2\n",
    "\n",
    "# Converte a matriz de dissimilaridade quadrada para a forma condensada\n",
    "matriz_dissim_cond = squareform(matriz_dissimilaridade)\n",
    "\n",
    "linkage_matrix = linkage(matriz_dissim_cond, method='average')\n",
    "\n",
    "plt.figure(figsize=(8, 6))\n",
    "dendrogram(linkage_matrix)\n",
    "plt.title('Dendrograma Hierárquico')\n",
    "plt.xlabel('Índices dos Dados')\n",
    "plt.ylabel('Distância')\n",
    "plt.show()"
   ]
  },
  {
   "cell_type": "markdown",
   "metadata": {},
   "source": [
    "Precisa tratar o caso de erro de o ideal ser apenas um cluster"
   ]
  },
  {
   "cell_type": "code",
   "execution_count": 10,
   "metadata": {},
   "outputs": [
    {
     "data": {
      "image/png": "[encoded data removed]",
      "text/plain": [
       "<Figure size 640x480 with 1 Axes>"
      ]
     },
     "metadata": {},
     "output_type": "display_data"
    }
   ],
   "source": [
    "silhouette_scores = []\n",
    "\n",
    "min_clusters = 2\n",
    "if label.shape[1] < 10:\n",
    "    max_clusters = label.shape[1]+1\n",
    "else:\n",
    "    max_clusters = 10\n",
    "    \n",
    "\n",
    "for n_clusters in range(min_clusters, max_clusters):\n",
    "    cluster_labels = fcluster(linkage_matrix, n_clusters, criterion='maxclust')\n",
    "    silhouette_scores.append(silhouette_score(matriz_dissimilaridade, cluster_labels))\n",
    "    #Apenas para visualização, nao serve para nada no código\n",
    "    # print(f'Número de clusters: {n_clusters}')\n",
    "    # print(cluster_labels)\n",
    "\n",
    "plt.plot(range(min_clusters, max_clusters), silhouette_scores, marker='o')\n",
    "plt.xlabel('Número de Clusters')\n",
    "plt.ylabel('Silhouette Score')\n",
    "plt.title('Silhouette Score por Número de Clusters')\n",
    "plt.show()"
   ]
  },
  {
   "cell_type": "code",
   "execution_count": 11,
   "metadata": {},
   "outputs": [
    {
     "name": "stdout",
     "output_type": "stream",
     "text": [
      "Best number of clusters: 2\n",
      "Cluster: 0, Number of targets: 15\n",
      "Cluster: 1, Number of targets: 1\n"
     ]
    }
   ],
   "source": [
    "best_cut = silhouette_scores.index(max(silhouette_scores)) + min_clusters\n",
    "print('Best number of clusters:', best_cut)\n",
    "\n",
    "clusters = fcluster(linkage_matrix, best_cut, criterion='maxclust')\n",
    "\n",
    "label_cluster = [[] for _ in range(max(clusters))]\n",
    "\n",
    "# Split the targets into clusters\n",
    "for i, cluster in enumerate(clusters):\n",
    "    label_cluster[cluster-1].append(label[:, i])\n",
    "    # print('Cluster: {}, Target: {}'.format(cluster-1, i))\n",
    "\n",
    "label_cluster = [np.array(cluster).T for cluster in label_cluster]\n",
    "\n",
    "# print the number of targets in each cluster\n",
    "for i, cluster in enumerate(label_cluster):\n",
    "    print('Cluster: {}, Number of targets: {}'.format(i, cluster.shape[1]))"
   ]
  },
  {
   "cell_type": "markdown",
   "metadata": {},
   "source": [
    "### Regressor Chain de Random Forest Clusterizado"
   ]
  },
  {
   "cell_type": "code",
   "execution_count": null,
   "metadata": {},
   "outputs": [
    {
     "name": "stdout",
     "output_type": "stream",
     "text": [
      "Regressor chain of Random Forest Clusterizado:  0.736441936103712\n"
     ]
    }
   ],
   "source": [
    "errors = []\n",
    "\n",
    "for i in range(len(label_cluster)):\n",
    "    y = label_cluster[i]\n",
    "    score = cross_validate(Chain_RandomForest(), data, y, cv=kfold, scoring=RRMSE_scorer)\n",
    "    score = np.sqrt(-score['test_score']).mean()\n",
    "    errors.append(score)\n",
    "    # print(score)\n",
    "\n",
    "error = np.mean(errors)\n",
    "print(\"Regressor chain of Random Forest Clusterizado: \", error)\n",
    "error_results.append(('Clusterizado Chain of RF',error))"
   ]
  },
  {
   "cell_type": "markdown",
   "metadata": {},
   "source": [
    "### Regressor Chain de Decision Tree Clusterizado"
   ]
  },
  {
   "cell_type": "code",
   "execution_count": null,
   "metadata": {},
   "outputs": [
    {
     "name": "stdout",
     "output_type": "stream",
     "text": [
      "Regressor chain of Decision Tree Clusterizado:  0.8539995466549597\n"
     ]
    }
   ],
   "source": [
    "errors = []\n",
    "\n",
    "for i in range(len(label_cluster)):\n",
    "    y = label_cluster[i]\n",
    "    score = cross_validate(Chain_DecisionTree(), data, y, cv=kfold, scoring=RRMSE_scorer)\n",
    "    score = np.sqrt(-score['test_score']).mean()\n",
    "    errors.append(score)\n",
    "    # print(score)\n",
    "\n",
    "error = np.mean(errors)\n",
    "print(\"Regressor chain of Decision Tree Clusterizado: \", error)\n",
    "error_results.append(('Clusterizado Chain of DT',error))"
   ]
  },
  {
   "cell_type": "markdown",
   "metadata": {},
   "source": [
    "### Random forest Clusterizado"
   ]
  },
  {
   "cell_type": "code",
   "execution_count": null,
   "metadata": {},
   "outputs": [
    {
     "name": "stdout",
     "output_type": "stream",
     "text": [
      "Random Forest Clusterizado:  0.7519407559319299\n"
     ]
    }
   ],
   "source": [
    "errors = []\n",
    "\n",
    "for i in range(len(label_cluster)):\n",
    "    y = label_cluster[i]\n",
    "    if y.shape[1] == 1:\n",
    "        y = y.ravel()\n",
    "    score = cross_validate(model_randomForest(), data, y, cv=kfold, scoring=RRMSE_scorer)\n",
    "    score = np.sqrt(-score['test_score']).mean()\n",
    "    errors.append(score)\n",
    "    # print(score)\n",
    "\n",
    "error = np.mean(errors)\n",
    "print(\"Random Forest Clusterizado: \", error)\n",
    "error_results.append(('Clusterizado RF',error))"
   ]
  },
  {
   "cell_type": "markdown",
   "metadata": {},
   "source": [
    "### Decision Tree Clusterizado"
   ]
  },
  {
   "cell_type": "code",
   "execution_count": null,
   "metadata": {},
   "outputs": [
    {
     "name": "stdout",
     "output_type": "stream",
     "text": [
      "Decision Tree Clusterizado:  0.8290807902592826\n"
     ]
    }
   ],
   "source": [
    "errors = []\n",
    "\n",
    "for i in range(len(label_cluster)):\n",
    "    y = label_cluster[i]\n",
    "    if y.shape[1] == 1:\n",
    "        y = y.ravel()\n",
    "    score = cross_validate(model_dtree(), data, y, cv=kfold, scoring=RRMSE_scorer)\n",
    "    score = np.sqrt(-score['test_score']).mean()\n",
    "    errors.append(score)\n",
    "    # print(score)\n",
    "\n",
    "error = np.mean(errors)\n",
    "print(\"Decision Tree Clusterizado: \", error)\n",
    "error_results.append(('Clusterizado DT',error))"
   ]
  },
  {
   "cell_type": "markdown",
   "metadata": {},
   "source": [
    "### XGBoost Clusterizado"
   ]
  },
  {
   "cell_type": "markdown",
   "metadata": {},
   "source": [
    "Não faz sentido utilizar esse regressor em clusterizado se ele utiliza uma abordagem local"
   ]
  },
  {
   "cell_type": "code",
   "execution_count": null,
   "metadata": {},
   "outputs": [],
   "source": [
    "# errors = []\n",
    "\n",
    "# for i in range(len(label_cluster)):\n",
    "#     y = label_cluster[i]\n",
    "#     if y.shape[1] == 1:\n",
    "#         y = y.ravel()\n",
    "#     score = cross_validate(model_xgboost(), data, y, cv=kfold, scoring=RRMSE_scorer)\n",
    "#     score = np.sqrt(-score['test_score']).mean()\n",
    "#     errors.append(score)\n",
    "#     # print(score)\n",
    "\n",
    "# error = np.mean(errors)\n",
    "# print(\"XGBoost Clusterizado: \", error)\n",
    "# error_results.append(('Clusterizado XGBoost',error))"
   ]
  },
  {
   "cell_type": "code",
   "execution_count": null,
   "metadata": {},
   "outputs": [
    {
     "name": "stdout",
     "output_type": "stream",
     "text": [
      "XGBoost Clusterizado Multi:  0.76918749067141\n"
     ]
    }
   ],
   "source": [
    "errors = []\n",
    "\n",
    "for i in range(len(label_cluster)):\n",
    "    y = label_cluster[i]\n",
    "    if y.shape[1] == 1:\n",
    "        y = y.ravel()\n",
    "    score = cross_validate(model_xgboost_multi(), data, y, cv=kfold, scoring=RRMSE_scorer)\n",
    "    score = np.sqrt(-score['test_score']).mean()\n",
    "    errors.append(score)\n",
    "    # print(score)\n",
    "\n",
    "error = np.mean(errors)\n",
    "print(\"XGBoost Clusterizado Multi: \", error)\n",
    "error_results.append(('Clusterizado XGBoost Multi',error))"
   ]
  },
  {
   "cell_type": "markdown",
   "metadata": {},
   "source": [
    "## Método de Clusterização Randômica "
   ]
  },
  {
   "cell_type": "markdown",
   "metadata": {},
   "source": [
    "Antigo: pois agora itero 10 vezes para ter um resultado melhor "
   ]
  },
  {
   "cell_type": "code",
   "execution_count": null,
   "metadata": {},
   "outputs": [],
   "source": [
    "# ITER = 10\n",
    "\n",
    "# max_clusters = np.random.randint(2, label.shape[1])\n",
    "\n",
    "# label_cluster_random = [[] for _ in range(max_clusters)]\n",
    "\n",
    "# lista = list(range(label.shape[1]))\n",
    "\n",
    "# # Passo 1: Distribua pelo menos um elemento para cada cluster\n",
    "# for cluster in range(max_clusters):\n",
    "#     element = lista.pop(np.random.randint(0, len(lista)))\n",
    "#     label_cluster_random[cluster-1].append(label[:, element])\n",
    "#     # print('Initial Cluster: {}, Target: {}'.format(cluster, element))\n",
    "\n",
    "# # Passo 2: Distribua os elementos restantes de forma aleatória\n",
    "# while lista:\n",
    "#     cluster = np.random.randint(0, max_clusters)\n",
    "#     element = lista.pop(0)\n",
    "#     label_cluster_random[cluster-1].append(label[:, element])\n",
    "#     # print('Random Cluster: {}, Target: {}'.format(cluster, element))\n",
    "\n",
    "# # print()\n",
    "\n",
    "# for i in range(len(label_cluster_random)):\n",
    "#     print(np.array(label_cluster_random[i]).T.shape)"
   ]
  },
  {
   "cell_type": "code",
   "execution_count": null,
   "metadata": {},
   "outputs": [
    {
     "name": "stdout",
     "output_type": "stream",
     "text": [
      "Iteração 1:\n",
      "  Cluster 1: (334, 4)\n",
      "  Cluster 2: (334, 2)\n",
      "  Cluster 3: (334, 1)\n",
      "  Cluster 4: (334, 2)\n",
      "  Cluster 5: (334, 2)\n",
      "  Cluster 6: (334, 3)\n",
      "  Cluster 7: (334, 2)\n",
      "Iteração 2:\n",
      "  Cluster 1: (334, 2)\n",
      "  Cluster 2: (334, 1)\n",
      "  Cluster 3: (334, 3)\n",
      "  Cluster 4: (334, 1)\n",
      "  Cluster 5: (334, 1)\n",
      "  Cluster 6: (334, 1)\n",
      "  Cluster 7: (334, 1)\n",
      "  Cluster 8: (334, 2)\n",
      "  Cluster 9: (334, 1)\n",
      "  Cluster 10: (334, 1)\n",
      "  Cluster 11: (334, 2)\n",
      "Iteração 3:\n",
      "  Cluster 1: (334, 3)\n",
      "  Cluster 2: (334, 2)\n",
      "  Cluster 3: (334, 4)\n",
      "  Cluster 4: (334, 1)\n",
      "  Cluster 5: (334, 1)\n",
      "  Cluster 6: (334, 1)\n",
      "  Cluster 7: (334, 1)\n",
      "  Cluster 8: (334, 1)\n",
      "  Cluster 9: (334, 2)\n",
      "Iteração 4:\n",
      "  Cluster 1: (334, 4)\n",
      "  Cluster 2: (334, 4)\n",
      "  Cluster 3: (334, 2)\n",
      "  Cluster 4: (334, 6)\n",
      "Iteração 5:\n",
      "  Cluster 1: (334, 3)\n",
      "  Cluster 2: (334, 1)\n",
      "  Cluster 3: (334, 3)\n",
      "  Cluster 4: (334, 1)\n",
      "  Cluster 5: (334, 1)\n",
      "  Cluster 6: (334, 3)\n",
      "  Cluster 7: (334, 4)\n",
      "Iteração 6:\n",
      "  Cluster 1: (334, 2)\n",
      "  Cluster 2: (334, 2)\n",
      "  Cluster 3: (334, 1)\n",
      "  Cluster 4: (334, 1)\n",
      "  Cluster 5: (334, 1)\n",
      "  Cluster 6: (334, 1)\n",
      "  Cluster 7: (334, 1)\n",
      "  Cluster 8: (334, 1)\n",
      "  Cluster 9: (334, 1)\n",
      "  Cluster 10: (334, 1)\n",
      "  Cluster 11: (334, 1)\n",
      "  Cluster 12: (334, 1)\n",
      "  Cluster 13: (334, 1)\n",
      "  Cluster 14: (334, 1)\n",
      "Iteração 7:\n",
      "  Cluster 1: (334, 6)\n",
      "  Cluster 2: (334, 5)\n",
      "  Cluster 3: (334, 5)\n",
      "Iteração 8:\n",
      "  Cluster 1: (334, 1)\n",
      "  Cluster 2: (334, 2)\n",
      "  Cluster 3: (334, 1)\n",
      "  Cluster 4: (334, 1)\n",
      "  Cluster 5: (334, 3)\n",
      "  Cluster 6: (334, 1)\n",
      "  Cluster 7: (334, 1)\n",
      "  Cluster 8: (334, 1)\n",
      "  Cluster 9: (334, 2)\n",
      "  Cluster 10: (334, 1)\n",
      "  Cluster 11: (334, 2)\n",
      "Iteração 9:\n",
      "  Cluster 1: (334, 2)\n",
      "  Cluster 2: (334, 1)\n",
      "  Cluster 3: (334, 3)\n",
      "  Cluster 4: (334, 2)\n",
      "  Cluster 5: (334, 3)\n",
      "  Cluster 6: (334, 2)\n",
      "  Cluster 7: (334, 3)\n",
      "Iteração 10:\n",
      "  Cluster 1: (334, 5)\n",
      "  Cluster 2: (334, 2)\n",
      "  Cluster 3: (334, 3)\n",
      "  Cluster 4: (334, 3)\n",
      "  Cluster 5: (334, 3)\n"
     ]
    }
   ],
   "source": [
    "\n",
    "#VERIFICAÇÃO FEITA DEVIDA A TAMANHO DA BASE\n",
    "if  text_file == 'rf1' or text_file == 'rf2' or text_file == 'scm1d' or text_file == 'scm20d':\n",
    "    ITER = 5\n",
    "else:\n",
    "    ITER = 10\n",
    "\n",
    "# Inicializa a lista para armazenar os resultados de cada iteração\n",
    "clusters_rand = []\n",
    "\n",
    "for _ in range(ITER):\n",
    "    n_clusters = np.random.randint(2, label.shape[1])\n",
    "    target_cluster_random = [[] for _ in range(n_clusters)]\n",
    "    targets = list(range(label.shape[1]))\n",
    "    random.shuffle(targets)\n",
    "\n",
    "    # Passo 1: Distribua pelo menos um elemento para cada cluster\n",
    "    for cluster in range(n_clusters):\n",
    "        target = targets.pop(0)\n",
    "        target_cluster_random[cluster-1].append(label[:, target])\n",
    "\n",
    "    # Passo 2: Distribua os targets restantes de forma aleatória\n",
    "    while targets:\n",
    "        cluster = np.random.randint(0, n_clusters)\n",
    "        target = targets.pop(0)\n",
    "        target_cluster_random[cluster-1].append(label[:, target])\n",
    "\n",
    "    # Converte cada cluster em um array numpy e adiciona na lista de resultados\n",
    "    clusters_array = [np.array(cluster).T for cluster in target_cluster_random]\n",
    "    clusters_rand.append(clusters_array)\n",
    "\n",
    "\n",
    "# Exibindo as formas de cada iteração para verificação\n",
    "for i in range(len(clusters_rand)):\n",
    "    print(f'Iteração {i+1}:')\n",
    "    for j in range(len(clusters_rand[i])):\n",
    "        print(f'  Cluster {j+1}: {clusters_rand[i][j].shape}')\n"
   ]
  },
  {
   "cell_type": "code",
   "execution_count": null,
   "metadata": {},
   "outputs": [
    {
     "name": "stdout",
     "output_type": "stream",
     "text": [
      "Random Forest Clusterizado Random:  0.6942202819237183\n"
     ]
    }
   ],
   "source": [
    "errors = []\n",
    "\n",
    "for i in range(len(clusters_rand)):\n",
    "    for j in range(len(clusters_rand[i])):\n",
    "        y = clusters_rand[i][j]\n",
    "        if y.shape[1] == 1:\n",
    "            y = y.ravel()\n",
    "        score = cross_validate(model_randomForest(), data, y, cv=kfold, scoring=RRMSE_scorer)\n",
    "        score = np.sqrt(-score['test_score']).mean()\n",
    "        errors.append(score)\n",
    "        # print(score)\n",
    "\n",
    "error = np.mean(errors)\n",
    "print(\"Random Forest Clusterizado Random: \", error)\n",
    "error_results.append(('Random Cluster - RF',error))"
   ]
  },
  {
   "cell_type": "code",
   "execution_count": null,
   "metadata": {},
   "outputs": [
    {
     "name": "stdout",
     "output_type": "stream",
     "text": [
      "Decision Tree Clusterizado:  0.8204930365635938\n"
     ]
    }
   ],
   "source": [
    "errors = []\n",
    "\n",
    "for i in range(len(clusters_rand)):\n",
    "    for j in range(len(clusters_rand[i])):\n",
    "        y = clusters_rand[i][j]\n",
    "        if y.shape[1] == 1:\n",
    "            y = y.ravel()\n",
    "        score = cross_validate(model_dtree(), data, y, cv=kfold, scoring=RRMSE_scorer)\n",
    "        score = np.sqrt(-score['test_score']).mean()\n",
    "        errors.append(score)\n",
    "        # print(score)\n",
    "\n",
    "error = np.mean(errors)\n",
    "print(\"Decision Tree Clusterizado: \", np.mean(errors))\n",
    "error_results.append(('Random Cluster - DT',error))"
   ]
  },
  {
   "cell_type": "code",
   "execution_count": null,
   "metadata": {},
   "outputs": [
    {
     "name": "stdout",
     "output_type": "stream",
     "text": [
      "Regressor chain of Random Forest Clusterizado Random:  0.6862604326126208\n"
     ]
    }
   ],
   "source": [
    "errors = []\n",
    "\n",
    "for i in range(len(clusters_rand)):\n",
    "    for j in range(len(clusters_rand[i])):\n",
    "        y = clusters_rand[i][j]\n",
    "        score = cross_validate(Chain_RandomForest(), data, y, cv=kfold, scoring=RRMSE_scorer)\n",
    "        score = np.sqrt(-score['test_score']).mean()\n",
    "        errors.append(score)\n",
    "        # print(score)\n",
    "\n",
    "error = np.mean(errors)\n",
    "print(\"Regressor chain of Random Forest Clusterizado Random: \", error)\n",
    "error_results.append(('Random Cluster - Chain of RF',error))"
   ]
  },
  {
   "cell_type": "code",
   "execution_count": null,
   "metadata": {},
   "outputs": [
    {
     "name": "stdout",
     "output_type": "stream",
     "text": [
      "Regressor chain of Decision Tree Clusterizado Random:  0.8093219749570315\n"
     ]
    }
   ],
   "source": [
    "errors = []\n",
    "\n",
    "for i in range(len(clusters_rand)):\n",
    "    for j in range(len(clusters_rand[i])):\n",
    "        y = clusters_rand[i][j]\n",
    "        score = cross_validate(Chain_DecisionTree(), data, y, cv=kfold, scoring=RRMSE_scorer)\n",
    "        score = np.sqrt(-score['test_score']).mean()\n",
    "        errors.append(score)\n",
    "        # print(score)\n",
    "\n",
    "error = np.mean(errors)\n",
    "print(\"Regressor chain of Decision Tree Clusterizado Random: \", error)\n",
    "error_results.append(('Random Cluster - Chain of DT',error))"
   ]
  },
  {
   "cell_type": "markdown",
   "metadata": {},
   "source": [
    "Não faz sentido utilizar esse regressor se ele faz uso de uma abordagem local"
   ]
  },
  {
   "cell_type": "code",
   "execution_count": null,
   "metadata": {},
   "outputs": [],
   "source": [
    "# errors = []\n",
    "\n",
    "# for i in range(len(clusters_rand)):\n",
    "#     for j in range(len(clusters_rand[i])):\n",
    "#         y = clusters_rand[i][j]\n",
    "#         if y.shape[1] == 1:\n",
    "#             y = y.ravel()\n",
    "#         score = cross_validate(model_xgboost(), data, y, cv=kfold, scoring=RRMSE_scorer)\n",
    "#         score = np.sqrt(-score['test_score']).mean()\n",
    "#         errors.append(score)\n",
    "#         # print(score)\n",
    "\n",
    "# error = np.mean(errors)\n",
    "# print(\"XGBoost Clusterizado Randômico: \", np.mean(errors))\n",
    "# error_results.append(('Random Cluster - XGBoost',error))"
   ]
  },
  {
   "cell_type": "code",
   "execution_count": null,
   "metadata": {},
   "outputs": [
    {
     "name": "stdout",
     "output_type": "stream",
     "text": [
      "XGBoost Multi Clusterizado Randômico:  0.7318009353433712\n"
     ]
    }
   ],
   "source": [
    "errors = []\n",
    "\n",
    "for i in range(len(clusters_rand)):\n",
    "    for j in range(len(clusters_rand[i])):\n",
    "        y = clusters_rand[i][j]\n",
    "        if y.shape[1] == 1:\n",
    "            y = y.ravel()\n",
    "        score = cross_validate(model_xgboost_multi(), data, y, cv=kfold, scoring=RRMSE_scorer)\n",
    "        score = np.sqrt(-score['test_score']).mean()\n",
    "        errors.append(score)\n",
    "        # print(score)\n",
    "\n",
    "error = np.mean(errors)\n",
    "print(\"XGBoost Multi Clusterizado Randômico: \", np.mean(errors))\n",
    "error_results.append(('Random Cluster - XGBoost Multi',error))"
   ]
  },
  {
   "cell_type": "markdown",
   "metadata": {},
   "source": [
    "## Resultados "
   ]
  },
  {
   "cell_type": "code",
   "execution_count": null,
   "metadata": {},
   "outputs": [
    {
     "data": {
      "text/html": [
       "<div>\n",
       "<style scoped>\n",
       "    .dataframe tbody tr th:only-of-type {\n",
       "        vertical-align: middle;\n",
       "    }\n",
       "\n",
       "    .dataframe tbody tr th {\n",
       "        vertical-align: top;\n",
       "    }\n",
       "\n",
       "    .dataframe thead th {\n",
       "        text-align: right;\n",
       "    }\n",
       "</style>\n",
       "<table border=\"1\" class=\"dataframe\">\n",
       "  <thead>\n",
       "    <tr style=\"text-align: right;\">\n",
       "      <th></th>\n",
       "      <th>Model</th>\n",
       "      <th>RRMSE</th>\n",
       "    </tr>\n",
       "  </thead>\n",
       "  <tbody>\n",
       "    <tr>\n",
       "      <th>0</th>\n",
       "      <td>RF</td>\n",
       "      <td>0.715017</td>\n",
       "    </tr>\n",
       "    <tr>\n",
       "      <th>1</th>\n",
       "      <td>DT</td>\n",
       "      <td>0.878688</td>\n",
       "    </tr>\n",
       "    <tr>\n",
       "      <th>2</th>\n",
       "      <td>Chain of RF</td>\n",
       "      <td>0.691526</td>\n",
       "    </tr>\n",
       "    <tr>\n",
       "      <th>3</th>\n",
       "      <td>Chain of DT</td>\n",
       "      <td>0.817058</td>\n",
       "    </tr>\n",
       "    <tr>\n",
       "      <th>4</th>\n",
       "      <td>MultiOutput DT</td>\n",
       "      <td>0.831791</td>\n",
       "    </tr>\n",
       "    <tr>\n",
       "      <th>5</th>\n",
       "      <td>MultiOutput RF</td>\n",
       "      <td>0.690909</td>\n",
       "    </tr>\n",
       "    <tr>\n",
       "      <th>6</th>\n",
       "      <td>XGBoost</td>\n",
       "      <td>0.734127</td>\n",
       "    </tr>\n",
       "    <tr>\n",
       "      <th>7</th>\n",
       "      <td>XGBoost Multi</td>\n",
       "      <td>0.773786</td>\n",
       "    </tr>\n",
       "    <tr>\n",
       "      <th>8</th>\n",
       "      <td>Clusterizado Chain of RF</td>\n",
       "      <td>0.736442</td>\n",
       "    </tr>\n",
       "    <tr>\n",
       "      <th>9</th>\n",
       "      <td>Clusterizado Chain of DT</td>\n",
       "      <td>0.854000</td>\n",
       "    </tr>\n",
       "    <tr>\n",
       "      <th>10</th>\n",
       "      <td>Clusterizado RF</td>\n",
       "      <td>0.751941</td>\n",
       "    </tr>\n",
       "    <tr>\n",
       "      <th>11</th>\n",
       "      <td>Clusterizado DT</td>\n",
       "      <td>0.829081</td>\n",
       "    </tr>\n",
       "    <tr>\n",
       "      <th>12</th>\n",
       "      <td>Clusterizado XGBoost Multi</td>\n",
       "      <td>0.769187</td>\n",
       "    </tr>\n",
       "    <tr>\n",
       "      <th>13</th>\n",
       "      <td>Random Cluster - RF</td>\n",
       "      <td>0.694220</td>\n",
       "    </tr>\n",
       "    <tr>\n",
       "      <th>14</th>\n",
       "      <td>Random Cluster - DT</td>\n",
       "      <td>0.820493</td>\n",
       "    </tr>\n",
       "    <tr>\n",
       "      <th>15</th>\n",
       "      <td>Random Cluster - Chain of RF</td>\n",
       "      <td>0.686260</td>\n",
       "    </tr>\n",
       "    <tr>\n",
       "      <th>16</th>\n",
       "      <td>Random Cluster - Chain of DT</td>\n",
       "      <td>0.809322</td>\n",
       "    </tr>\n",
       "    <tr>\n",
       "      <th>17</th>\n",
       "      <td>Random Cluster - XGBoost Multi</td>\n",
       "      <td>0.731801</td>\n",
       "    </tr>\n",
       "  </tbody>\n",
       "</table>\n",
       "</div>"
      ],
      "text/plain": [
       "                             Model     RRMSE\n",
       "0                               RF  0.715017\n",
       "1                               DT  0.878688\n",
       "2                      Chain of RF  0.691526\n",
       "3                      Chain of DT  0.817058\n",
       "4                   MultiOutput DT  0.831791\n",
       "5                   MultiOutput RF  0.690909\n",
       "6                          XGBoost  0.734127\n",
       "7                    XGBoost Multi  0.773786\n",
       "8         Clusterizado Chain of RF  0.736442\n",
       "9         Clusterizado Chain of DT  0.854000\n",
       "10                 Clusterizado RF  0.751941\n",
       "11                 Clusterizado DT  0.829081\n",
       "12      Clusterizado XGBoost Multi  0.769187\n",
       "13             Random Cluster - RF  0.694220\n",
       "14             Random Cluster - DT  0.820493\n",
       "15    Random Cluster - Chain of RF  0.686260\n",
       "16    Random Cluster - Chain of DT  0.809322\n",
       "17  Random Cluster - XGBoost Multi  0.731801"
      ]
     },
     "execution_count": 71,
     "metadata": {},
     "output_type": "execute_result"
    }
   ],
   "source": [
    "error_results = pd.DataFrame(error_results, columns=['Model', 'RRMSE'])\n",
    "error_results"
   ]
  },
  {
   "cell_type": "code",
   "execution_count": null,
   "metadata": {},
   "outputs": [
    {
     "data": {
      "text/html": [
       "<div>\n",
       "<style scoped>\n",
       "    .dataframe tbody tr th:only-of-type {\n",
       "        vertical-align: middle;\n",
       "    }\n",
       "\n",
       "    .dataframe tbody tr th {\n",
       "        vertical-align: top;\n",
       "    }\n",
       "\n",
       "    .dataframe thead th {\n",
       "        text-align: right;\n",
       "    }\n",
       "</style>\n",
       "<table border=\"1\" class=\"dataframe\">\n",
       "  <thead>\n",
       "    <tr style=\"text-align: right;\">\n",
       "      <th></th>\n",
       "      <th>Model</th>\n",
       "      <th>RRMSE</th>\n",
       "    </tr>\n",
       "  </thead>\n",
       "  <tbody>\n",
       "    <tr>\n",
       "      <th>15</th>\n",
       "      <td>Random Cluster - Chain of RF</td>\n",
       "      <td>0.686260</td>\n",
       "    </tr>\n",
       "    <tr>\n",
       "      <th>5</th>\n",
       "      <td>MultiOutput RF</td>\n",
       "      <td>0.690909</td>\n",
       "    </tr>\n",
       "    <tr>\n",
       "      <th>2</th>\n",
       "      <td>Chain of RF</td>\n",
       "      <td>0.691526</td>\n",
       "    </tr>\n",
       "    <tr>\n",
       "      <th>13</th>\n",
       "      <td>Random Cluster - RF</td>\n",
       "      <td>0.694220</td>\n",
       "    </tr>\n",
       "    <tr>\n",
       "      <th>0</th>\n",
       "      <td>RF</td>\n",
       "      <td>0.715017</td>\n",
       "    </tr>\n",
       "    <tr>\n",
       "      <th>17</th>\n",
       "      <td>Random Cluster - XGBoost Multi</td>\n",
       "      <td>0.731801</td>\n",
       "    </tr>\n",
       "    <tr>\n",
       "      <th>6</th>\n",
       "      <td>XGBoost</td>\n",
       "      <td>0.734127</td>\n",
       "    </tr>\n",
       "    <tr>\n",
       "      <th>8</th>\n",
       "      <td>Clusterizado Chain of RF</td>\n",
       "      <td>0.736442</td>\n",
       "    </tr>\n",
       "    <tr>\n",
       "      <th>10</th>\n",
       "      <td>Clusterizado RF</td>\n",
       "      <td>0.751941</td>\n",
       "    </tr>\n",
       "    <tr>\n",
       "      <th>12</th>\n",
       "      <td>Clusterizado XGBoost Multi</td>\n",
       "      <td>0.769187</td>\n",
       "    </tr>\n",
       "    <tr>\n",
       "      <th>7</th>\n",
       "      <td>XGBoost Multi</td>\n",
       "      <td>0.773786</td>\n",
       "    </tr>\n",
       "    <tr>\n",
       "      <th>16</th>\n",
       "      <td>Random Cluster - Chain of DT</td>\n",
       "      <td>0.809322</td>\n",
       "    </tr>\n",
       "    <tr>\n",
       "      <th>3</th>\n",
       "      <td>Chain of DT</td>\n",
       "      <td>0.817058</td>\n",
       "    </tr>\n",
       "    <tr>\n",
       "      <th>14</th>\n",
       "      <td>Random Cluster - DT</td>\n",
       "      <td>0.820493</td>\n",
       "    </tr>\n",
       "    <tr>\n",
       "      <th>11</th>\n",
       "      <td>Clusterizado DT</td>\n",
       "      <td>0.829081</td>\n",
       "    </tr>\n",
       "    <tr>\n",
       "      <th>4</th>\n",
       "      <td>MultiOutput DT</td>\n",
       "      <td>0.831791</td>\n",
       "    </tr>\n",
       "    <tr>\n",
       "      <th>9</th>\n",
       "      <td>Clusterizado Chain of DT</td>\n",
       "      <td>0.854000</td>\n",
       "    </tr>\n",
       "    <tr>\n",
       "      <th>1</th>\n",
       "      <td>DT</td>\n",
       "      <td>0.878688</td>\n",
       "    </tr>\n",
       "  </tbody>\n",
       "</table>\n",
       "</div>"
      ],
      "text/plain": [
       "                             Model     RRMSE\n",
       "15    Random Cluster - Chain of RF  0.686260\n",
       "5                   MultiOutput RF  0.690909\n",
       "2                      Chain of RF  0.691526\n",
       "13             Random Cluster - RF  0.694220\n",
       "0                               RF  0.715017\n",
       "17  Random Cluster - XGBoost Multi  0.731801\n",
       "6                          XGBoost  0.734127\n",
       "8         Clusterizado Chain of RF  0.736442\n",
       "10                 Clusterizado RF  0.751941\n",
       "12      Clusterizado XGBoost Multi  0.769187\n",
       "7                    XGBoost Multi  0.773786\n",
       "16    Random Cluster - Chain of DT  0.809322\n",
       "3                      Chain of DT  0.817058\n",
       "14             Random Cluster - DT  0.820493\n",
       "11                 Clusterizado DT  0.829081\n",
       "4                   MultiOutput DT  0.831791\n",
       "9         Clusterizado Chain of DT  0.854000\n",
       "1                               DT  0.878688"
      ]
     },
     "execution_count": 72,
     "metadata": {},
     "output_type": "execute_result"
    }
   ],
   "source": [
    "#ordena os resultados por erro crescente\n",
    "error_results = error_results.sort_values(by='RRMSE', ascending=True)\n",
    "error_results"
   ]
  },
  {
   "cell_type": "code",
   "execution_count": null,
   "metadata": {},
   "outputs": [
    {
     "data": {
      "text/html": [
       "<div>\n",
       "<style scoped>\n",
       "    .dataframe tbody tr th:only-of-type {\n",
       "        vertical-align: middle;\n",
       "    }\n",
       "\n",
       "    .dataframe tbody tr th {\n",
       "        vertical-align: top;\n",
       "    }\n",
       "\n",
       "    .dataframe thead th {\n",
       "        text-align: right;\n",
       "    }\n",
       "</style>\n",
       "<table border=\"1\" class=\"dataframe\">\n",
       "  <thead>\n",
       "    <tr style=\"text-align: right;\">\n",
       "      <th></th>\n",
       "      <th>Model</th>\n",
       "      <th>RRMSE</th>\n",
       "    </tr>\n",
       "  </thead>\n",
       "  <tbody>\n",
       "    <tr>\n",
       "      <th>3</th>\n",
       "      <td>Chain of DT</td>\n",
       "      <td>0.817058</td>\n",
       "    </tr>\n",
       "    <tr>\n",
       "      <th>2</th>\n",
       "      <td>Chain of RF</td>\n",
       "      <td>0.691526</td>\n",
       "    </tr>\n",
       "    <tr>\n",
       "      <th>9</th>\n",
       "      <td>Clusterizado Chain of DT</td>\n",
       "      <td>0.854000</td>\n",
       "    </tr>\n",
       "    <tr>\n",
       "      <th>8</th>\n",
       "      <td>Clusterizado Chain of RF</td>\n",
       "      <td>0.736442</td>\n",
       "    </tr>\n",
       "    <tr>\n",
       "      <th>11</th>\n",
       "      <td>Clusterizado DT</td>\n",
       "      <td>0.829081</td>\n",
       "    </tr>\n",
       "    <tr>\n",
       "      <th>10</th>\n",
       "      <td>Clusterizado RF</td>\n",
       "      <td>0.751941</td>\n",
       "    </tr>\n",
       "    <tr>\n",
       "      <th>12</th>\n",
       "      <td>Clusterizado XGBoost Multi</td>\n",
       "      <td>0.769187</td>\n",
       "    </tr>\n",
       "    <tr>\n",
       "      <th>1</th>\n",
       "      <td>DT</td>\n",
       "      <td>0.878688</td>\n",
       "    </tr>\n",
       "    <tr>\n",
       "      <th>4</th>\n",
       "      <td>MultiOutput DT</td>\n",
       "      <td>0.831791</td>\n",
       "    </tr>\n",
       "    <tr>\n",
       "      <th>5</th>\n",
       "      <td>MultiOutput RF</td>\n",
       "      <td>0.690909</td>\n",
       "    </tr>\n",
       "    <tr>\n",
       "      <th>0</th>\n",
       "      <td>RF</td>\n",
       "      <td>0.715017</td>\n",
       "    </tr>\n",
       "    <tr>\n",
       "      <th>16</th>\n",
       "      <td>Random Cluster - Chain of DT</td>\n",
       "      <td>0.809322</td>\n",
       "    </tr>\n",
       "    <tr>\n",
       "      <th>15</th>\n",
       "      <td>Random Cluster - Chain of RF</td>\n",
       "      <td>0.686260</td>\n",
       "    </tr>\n",
       "    <tr>\n",
       "      <th>14</th>\n",
       "      <td>Random Cluster - DT</td>\n",
       "      <td>0.820493</td>\n",
       "    </tr>\n",
       "    <tr>\n",
       "      <th>13</th>\n",
       "      <td>Random Cluster - RF</td>\n",
       "      <td>0.694220</td>\n",
       "    </tr>\n",
       "    <tr>\n",
       "      <th>17</th>\n",
       "      <td>Random Cluster - XGBoost Multi</td>\n",
       "      <td>0.731801</td>\n",
       "    </tr>\n",
       "    <tr>\n",
       "      <th>6</th>\n",
       "      <td>XGBoost</td>\n",
       "      <td>0.734127</td>\n",
       "    </tr>\n",
       "    <tr>\n",
       "      <th>7</th>\n",
       "      <td>XGBoost Multi</td>\n",
       "      <td>0.773786</td>\n",
       "    </tr>\n",
       "  </tbody>\n",
       "</table>\n",
       "</div>"
      ],
      "text/plain": [
       "                             Model     RRMSE\n",
       "3                      Chain of DT  0.817058\n",
       "2                      Chain of RF  0.691526\n",
       "9         Clusterizado Chain of DT  0.854000\n",
       "8         Clusterizado Chain of RF  0.736442\n",
       "11                 Clusterizado DT  0.829081\n",
       "10                 Clusterizado RF  0.751941\n",
       "12      Clusterizado XGBoost Multi  0.769187\n",
       "1                               DT  0.878688\n",
       "4                   MultiOutput DT  0.831791\n",
       "5                   MultiOutput RF  0.690909\n",
       "0                               RF  0.715017\n",
       "16    Random Cluster - Chain of DT  0.809322\n",
       "15    Random Cluster - Chain of RF  0.686260\n",
       "14             Random Cluster - DT  0.820493\n",
       "13             Random Cluster - RF  0.694220\n",
       "17  Random Cluster - XGBoost Multi  0.731801\n",
       "6                          XGBoost  0.734127\n",
       "7                    XGBoost Multi  0.773786"
      ]
     },
     "execution_count": 73,
     "metadata": {},
     "output_type": "execute_result"
    }
   ],
   "source": [
    "#ordena os resultados por nome do modelo crescente\n",
    "error_results = error_results.sort_values(by='Model', ascending=True)\n",
    "error_results"
   ]
  }
 ],
 "metadata": {
  "colab": {
   "provenance": []
  },
  "kernelspec": {
   "display_name": "Python 3 (ipykernel)",
   "language": "python",
   "name": "python3"
  },
  "language_info": {
   "codemirror_mode": {
    "name": "ipython",
    "version": 3
   },
   "file_extension": ".py",
   "mimetype": "text/x-python",
   "name": "python",
   "nbconvert_exporter": "python",
   "pygments_lexer": "ipython3",
   "version": "3.10.9"
  }
 },
 "nbformat": 4,
 "nbformat_minor": 1
}
