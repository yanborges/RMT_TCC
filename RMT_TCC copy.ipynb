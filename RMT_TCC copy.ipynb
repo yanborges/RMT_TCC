{
 "cells": [
  {
   "cell_type": "markdown",
   "metadata": {},
   "source": [
    "## Importando bibliotecas "
   ]
  },
  {
   "cell_type": "code",
   "execution_count": 1,
   "metadata": {
    "id": "2cfVKzLtIRg1"
   },
   "outputs": [],
   "source": [
    "#Importando as bibliotecas necessárias\n",
    "import pandas as pd\n",
    "import numpy as np\n",
    "import math\n",
    "import config\n",
    "import matplotlib.pyplot as plt\n",
    "\n",
    "from scipy.io.arff import loadarff\n",
    "\n",
    "from sklearn.multioutput import MultiOutputRegressor\n",
    "from sklearn.tree import DecisionTreeRegressor\n",
    "from sklearn.ensemble import RandomForestRegressor\n",
    "from sklearn.svm import SVR\n",
    "from sklearn.preprocessing import StandardScaler\n",
    "from sklearn.multioutput import RegressorChain\n",
    "\n",
    "from sklearn.model_selection import KFold\n",
    "\n",
    "#Importando as bibliotecas referentes ao XGBoost\n",
    "import xgboost as xgb\n",
    "\n",
    "#Importando as bibliotecas referentes ao ANN\n",
    "from tensorflow.keras.layers import Dense, Dropout, Input\n",
    "from tensorflow.keras.models import Sequential\n",
    "\n",
    "#Biblioteca do Kmeans\n",
    "from sklearn.cluster import KMeans\n",
    "from sklearn.model_selection import train_test_split"
   ]
  },
  {
   "cell_type": "markdown",
   "metadata": {
    "id": "RhU0QgcMSZyD"
   },
   "source": [
    "## A fazer\n",
    "Kmeans do dados sem targets e agrupa pelo numero de grupos ótimos \n",
    "\n",
    "Mesma coisa com o dataset só dos targets \n",
    "\n",
    "Regressor Chain comum pelos targets\n",
    "\n",
    "Regressor chain pelos grupos dos Kmeans \n",
    "\n",
    "Ensenmble de regressor chain\n",
    "\n"
   ]
  },
  {
   "cell_type": "markdown",
   "metadata": {
    "id": "xunbDQxaSAan"
   },
   "source": [
    "## Duvidas"
   ]
  },
  {
   "cell_type": "markdown",
   "metadata": {
    "id": "PUh8kiCjVxO0"
   },
   "source": [
    "## Funções"
   ]
  },
  {
   "cell_type": "markdown",
   "metadata": {},
   "source": [
    "### Modelos"
   ]
  },
  {
   "cell_type": "code",
   "execution_count": 2,
   "metadata": {
    "id": "byiB0yYdVwHx"
   },
   "outputs": [],
   "source": [
    "#DecisionTree\n",
    "def model_dtree(x_train,y_train,x_test,booster,eta,max_depth,colsample_bytree,subsample,min_child_weight,reg_lambda,num_boost,my_num):\n",
    "    bst = DecisionTreeRegressor().fit(x_train, y_train)\n",
    "    predict = bst.predict(x_test)\n",
    "    return predict\n",
    "\n",
    "#RandomForestRegressor\n",
    "def model_randomForest(x_train,y_train,x_test,my_num):\n",
    "    #booster,eta,max_depth,colsample_bytree,subsample,min_child_weight,reg_lambda,num_boost):\n",
    "    bst = RandomForestRegressor(n_estimators = my_num,n_jobs = -1).fit(x_train,y_train)\n",
    "    predict = bst.predict(x_test)\n",
    "    return predict\n",
    "\n",
    "#SVR\n",
    "def model_svr(x_train,y_train,x_test,ker,gam,c,epsi,shrink,verb,max_it):\n",
    "    bst = SVR(kernel=ker, gamma=gam, C=c, epsilon=epsi, shrinking=shrink, verbose=verb, max_iter=max_it).fit(x_train,y_train)\n",
    "    predict = bst.predict(x_test)\n",
    "    return predict\n",
    "\n",
    "def model_multi_dtree(x_train, y_train, x_test):\n",
    "    model = DecisionTreeRegressor()\n",
    "    bst = MultiOutputRegressor(model).fit(x_train, y_train)\n",
    "    predict = bst.predict(x_test)\n",
    "    return predict\n",
    "\n",
    "def model_ann_global(x_train, y_train, x_test):\n",
    "    model = Sequential()\n",
    "    model.add(Input(shape = (x_train.shape[1])))\n",
    "    model.add(Dense(64, activation='relu'))\n",
    "    model.add(Dropout(0.2))\n",
    "    model.add(Dense(32, activation='relu'))\n",
    "    model.add(Dropout(0.2))\n",
    "    model.add(Dense(y_train.shape[1], activation='linear'))\n",
    "\n",
    "    model.compile(optimizer='adam', loss='mse', metrics=['accuracy'])\n",
    "    model.fit(x_train, y_train, epochs=10, batch_size=32, verbose=0, validation_split=0.2)\n",
    "    \n",
    "    predict = model.predict(x_test)\n",
    "    return predict\n",
    "\n",
    "def model_ann_local(x_train, y_train, x_test):\n",
    "    predict_list = []\n",
    "    for i in range(y_train.shape[1]):\n",
    "        model = Sequential()\n",
    "        model.add(Input(shape = x_train.shape[1]))\n",
    "        model.add(Dense(x_train.shape[1]//2, activation='relu'))\n",
    "        model.add(Dropout(0.2))\n",
    "        model.add(Dense(x_train.shape[1]//6, activation='relu'))\n",
    "        model.add(Dropout(0.2))\n",
    "        model.add(Dense(x_train.shape[1]//18, activation='relu'))\n",
    "        model.add(Dropout(0.2))\n",
    "        model.add(Dense(1, activation='linear'))\n",
    "\n",
    "        model.compile(optimizer='adam', loss='mse', metrics=['accuracy'])\n",
    "        model.fit(x_train, y_train[:,i], epochs=10, batch_size=32, verbose=0, validation_split=0.2)\n",
    "\n",
    "        predict = model.predict(x_test)\n",
    "        predict_list.append(predict)\n",
    "    \n",
    "    predictions = np.concatenate(predict_list, axis=1)\n",
    "\n",
    "    return predictions\n",
    "\n",
    "\n",
    "def model_xgboost(x_train, y_train, x_test):\n",
    "    param = {'max_depth': 4,\n",
    "             'eta': 0.05, \n",
    "             'objective': 'reg:squarederror',\n",
    "             'booster': 'gbtree',\n",
    "            }\n",
    "    bst = xgb.XGBRegressor(**param, n_estimators=100)\n",
    "    bst.fit(x_train, y_train) \n",
    "    predict = bst.predict(x_test)\n",
    "    return predict\n"
   ]
  },
  {
   "cell_type": "markdown",
   "metadata": {},
   "source": [
    "### Cálculo de erro "
   ]
  },
  {
   "cell_type": "code",
   "execution_count": 3,
   "metadata": {},
   "outputs": [],
   "source": [
    "def computer_RRMSE_list(real_test,result_p,real_train_mean):\n",
    "    \"\"\"RRMSE: Relative Root Mean Square Error\n",
    "        input: real_test: real test data\n",
    "              result_p: predicted data\n",
    "              real_train_mean: mean of real train data\n",
    "        output: RRMSE list \"\"\"\n",
    "\n",
    "    _list = []\n",
    "    for i in range(result_p.shape[1]):\n",
    "        fenzi = 0\n",
    "        fenmu = 0\n",
    "        for j in range(result_p.shape[0]):\n",
    "            fenzi += (result_p[j,i] - real_test[j,i])**2\n",
    "            fenmu += (real_train_mean[i] - real_test[j,i])**2\n",
    "        _list.append(math.sqrt(fenzi/fenmu))    \n",
    "    return _list"
   ]
  },
  {
   "cell_type": "markdown",
   "metadata": {
    "id": "unpvRVKQSTwF"
   },
   "source": [
    "## Implementação"
   ]
  },
  {
   "cell_type": "code",
   "execution_count": 4,
   "metadata": {
    "colab": {
     "base_uri": "https://localhost:8080/"
    },
    "id": "Ohf0EgDuYRXL",
    "outputId": "04f5473d-f761-4005-d640-dae2cb96522e"
   },
   "outputs": [],
   "source": [
    "path = \"../TCC/mtr-datasets/\"\n",
    "\n",
    "#text_file = input(\"dataset: \")\n",
    "text_file = 'andro'\n",
    "data, meta = loadarff(path + text_file + \".arff\")\n",
    "data = pd.DataFrame(data)\n",
    "\n",
    "data.reset_index(inplace=True)\n",
    "data.replace('?', np.nan, inplace=True)\n",
    "data.replace('     ?', np.nan, inplace=True)\n",
    "data = data.applymap(float)\n",
    "\n",
    "#Normalização\n",
    "scaler = StandardScaler()\n",
    "data = pd.DataFrame(scaler.fit_transform(data), columns=data.columns)\n",
    "\n",
    "\n",
    "if config.all_config[text_file].get('sample_random') == True:\n",
    "    data = data.sample(frac=1,random_state = config.all_config[text_file].get('sample_random_num')).reset_index(drop=True)\n",
    "data = data.fillna(pd.Series(np.nanmean(data,axis=0),index=data.columns))\n",
    "label = data.iloc[:,-config.all_config[text_file].get('targets_num'):].values\n",
    "data = data.iloc[:,:-config.all_config[text_file].get('targets_num')].values\n",
    "\n",
    "error_results = []"
   ]
  },
  {
   "cell_type": "markdown",
   "metadata": {},
   "source": [
    "### Separação dos dados em Treino e Teste \n"
   ]
  },
  {
   "cell_type": "code",
   "execution_count": 5,
   "metadata": {},
   "outputs": [],
   "source": [
    "x_train, x_test, y_train, y_test = train_test_split(data, label, test_size=0.2, random_state=42)"
   ]
  },
  {
   "cell_type": "markdown",
   "metadata": {},
   "source": [
    "### Kmeans dos dados"
   ]
  },
  {
   "cell_type": "code",
   "execution_count": 6,
   "metadata": {},
   "outputs": [
    {
     "data": {
      "image/png": "[encoded data removed]",
      "text/plain": [
       "<Figure size 640x480 with 1 Axes>"
      ]
     },
     "metadata": {},
     "output_type": "display_data"
    }
   ],
   "source": [
    "inertia_values = []\n",
    "for i in range(1, 10):\n",
    "    kmeans = KMeans(n_clusters=i, random_state=0, n_init='auto').fit(x_train)\n",
    "    inertia_values.append(kmeans.inertia_)\n",
    "\n",
    "plt.plot(range(1, 10), inertia_values, marker='o')\n",
    "plt.xlabel('Number of clusters')\n",
    "plt.ylabel('Inertia')\n",
    "plt.title('Elbow Method')\n",
    "plt.show()"
   ]
  },
  {
   "cell_type": "code",
   "execution_count": 7,
   "metadata": {},
   "outputs": [],
   "source": [
    "NUM_CLUSTER = config.all_config[text_file].get('num_cluster')\n",
    "k_optimal = NUM_CLUSTER\n",
    "kmeans_optimal = KMeans(n_clusters=k_optimal, random_state=0, n_init='auto').fit(x_train)\n",
    "\n",
    "cluster_labels = kmeans_optimal.labels_"
   ]
  },
  {
   "cell_type": "markdown",
   "metadata": {},
   "source": [
    "### Kmeans só dos targets"
   ]
  },
  {
   "cell_type": "code",
   "execution_count": 8,
   "metadata": {},
   "outputs": [
    {
     "data": {
      "image/png": "[encoded data removed]",
      "text/plain": [
       "<Figure size 640x480 with 1 Axes>"
      ]
     },
     "metadata": {},
     "output_type": "display_data"
    }
   ],
   "source": [
    "inertia_values = []\n",
    "\n",
    "for i in range(1, 10):\n",
    "    kmeans = KMeans(n_clusters=i, random_state=0, n_init='auto').fit(y_train)\n",
    "    inertia_values.append(kmeans.inertia_)\n",
    "\n",
    "plt.plot(range(1, 10), inertia_values, marker='o')\n",
    "plt.xlabel('Number of clusters')\n",
    "plt.ylabel('Inertia')\n",
    "plt.title('Elbow Method')\n",
    "plt.show()"
   ]
  },
  {
   "cell_type": "code",
   "execution_count": 9,
   "metadata": {},
   "outputs": [],
   "source": [
    "k_optimal = config.all_config[text_file].get(\"num_cluster_targets\")\n",
    "kmeans_optimal = KMeans(n_clusters=k_optimal, random_state=0, n_init='auto').fit(y_train)\n",
    "\n",
    "cluster_labels_target = kmeans_optimal.labels_"
   ]
  },
  {
   "cell_type": "markdown",
   "metadata": {},
   "source": [
    "### Regressor Chain Padrão"
   ]
  },
  {
   "cell_type": "code",
   "execution_count": 10,
   "metadata": {},
   "outputs": [],
   "source": [
    "RANDOM_STATE = 0 \n",
    "real_test_mean = y_test.mean(axis=0)\n",
    "real_train_mean = y_train.mean(axis=0)"
   ]
  },
  {
   "cell_type": "markdown",
   "metadata": {},
   "source": [
    "#### Caso de treino\n"
   ]
  },
  {
   "cell_type": "code",
   "execution_count": 12,
   "metadata": {},
   "outputs": [
    {
     "name": "stdout",
     "output_type": "stream",
     "text": [
      "0.21766086518349556\n"
     ]
    }
   ],
   "source": [
    "loss_list_RRMSE = []\n",
    "\n",
    "reg_chain = RegressorChain(RandomForestRegressor(random_state=RANDOM_STATE))\n",
    "reg_chain.fit(x_train, y_train)\n",
    "y_pred = reg_chain.predict(x_train)\n",
    "\n",
    "loss_list_RRMSE = computer_RRMSE_list(y_train,y_pred,real_train_mean)\n",
    "loss_list_RRMSE_np = np.array(loss_list_RRMSE)\n",
    "mean_error = loss_list_RRMSE_np.mean(axis=0)\n",
    "print(mean_error)"
   ]
  },
  {
   "cell_type": "markdown",
   "metadata": {},
   "source": [
    "#### Caso de teste"
   ]
  },
  {
   "cell_type": "code",
   "execution_count": 14,
   "metadata": {},
   "outputs": [
    {
     "name": "stdout",
     "output_type": "stream",
     "text": [
      "0.5377979510870844\n"
     ]
    }
   ],
   "source": [
    "y_pred = reg_chain.predict(x_test)\n",
    "\n",
    "loss_list_RRMSE = computer_RRMSE_list(y_test,y_pred,real_test_mean)\n",
    "loss_list_RRMSE_np = np.array(loss_list_RRMSE)\n",
    "mean_error = np.mean(loss_list_RRMSE_np,axis=0)\n",
    "print(mean_error)\n",
    "error_results.append(('Regressor Chain Padrão', loss_list_RRMSE_np.mean(axis=0)))"
   ]
  },
  {
   "cell_type": "markdown",
   "metadata": {},
   "source": [
    "### Regressor Chain pelos grupos dos Kmeans"
   ]
  },
  {
   "cell_type": "markdown",
   "metadata": {},
   "source": [
    "conferir se deve separar a funcao para só dar o fit e depois predizer o caso de treino. pq ai consegue usar melhor no dicionario de predicoes "
   ]
  },
  {
   "cell_type": "code",
   "execution_count": 15,
   "metadata": {},
   "outputs": [
    {
     "name": "stdout",
     "output_type": "stream",
     "text": [
      "0.49434303860919293\n",
      "0.4249124983042649\n",
      "0.5084712448844999\n"
     ]
    }
   ],
   "source": [
    "# Define the train_regressor function\n",
    "def train_regressor(cluster_train_data, label):\n",
    "    indices = cluster_train_data.index\n",
    "    y_train_cluster = label[indices]\n",
    "\n",
    "    reg_chain = RegressorChain(RandomForestRegressor(random_state=RANDOM_STATE))\n",
    "    reg_chain.fit(cluster_train_data, y_train_cluster)  \n",
    "\n",
    "    y_pred = reg_chain.predict(cluster_train_data)\n",
    "\n",
    "    real_train_mean_cluster = y_train_cluster.mean(axis=0)\n",
    "\n",
    "    loss_list_RRMSE = computer_RRMSE_list(y_train_cluster, y_pred, real_train_mean_cluster)\n",
    "    loss_list_RRMSE_np = np.array(loss_list_RRMSE)\n",
    "    \n",
    "    # Calculate the mean of the loss_list_RRMSE\n",
    "    mean_loss_RRMSE = loss_list_RRMSE_np.mean(axis=0)\n",
    "    print(mean_loss_RRMSE)\n",
    "\n",
    "    return reg_chain\n",
    "\n",
    "# Create a DataFrame with x_train data\n",
    "data_cluster = pd.DataFrame(x_train)\n",
    "data_cluster['cluster'] = cluster_labels\n",
    "\n",
    "# Split the data into clusters\n",
    "train_cluster = {cluster_label: data_cluster[data_cluster['cluster'] == cluster_label].drop(['cluster'], axis=1) for cluster_label in range(NUM_CLUSTER)}\n",
    "\n",
    "# Train regressors for each cluster\n",
    "trained_regressors = {cluster_label: train_regressor(cluster_train_data, label) for cluster_label, cluster_train_data in train_cluster.items()}"
   ]
  },
  {
   "cell_type": "code",
   "execution_count": 16,
   "metadata": {},
   "outputs": [],
   "source": [
    "def calculate_RRMSE(targets, valor, targets_mean):\n",
    "    loss_list_RRMSE = computer_RRMSE_list(targets, valor, targets_mean)\n",
    "    loss_list_RRMSE_np = np.array(loss_list_RRMSE)\n",
    "    print('Valor:', loss_list_RRMSE_np.mean(axis=0))"
   ]
  },
  {
   "cell_type": "code",
   "execution_count": 17,
   "metadata": {},
   "outputs": [
    {
     "name": "stdout",
     "output_type": "stream",
     "text": [
      "Valor: 0.9777541968796526\n",
      "Valor: 1.2800620738054465\n",
      "Valor: 1.14530679659355\n"
     ]
    }
   ],
   "source": [
    "y_pred_dict = {cluster_label: regressor.predict(x_test) for cluster_label, regressor in trained_regressors.items()}\n",
    "\n",
    "for chave, value in y_pred_dict.items():\n",
    "    calculate_RRMSE(y_test, y_pred_dict[chave], real_test_mean)"
   ]
  },
  {
   "cell_type": "markdown",
   "metadata": {},
   "source": [
    "Caso de treino "
   ]
  },
  {
   "cell_type": "code",
   "execution_count": 18,
   "metadata": {},
   "outputs": [],
   "source": [
    "y_pred_dict_train = {cluster_label: regressor.predict(x_train) for cluster_label, regressor in trained_regressors.items()}\n",
    "\n",
    "#convertendo o dicionário para um array \n",
    "array_y_pred_train = np.array(list(y_pred_dict_train.values()))\n",
    "\n",
    "valor_maximo = np.max(array_y_pred_train, axis=0)\n",
    "valor_medio = np.mean(array_y_pred_train, axis=0)\n",
    "valor_minimo = np.min(array_y_pred_train, axis=0)   "
   ]
  },
  {
   "cell_type": "code",
   "execution_count": 19,
   "metadata": {},
   "outputs": [
    {
     "name": "stdout",
     "output_type": "stream",
     "text": [
      "Maxímo Valor: 1.1629924192798111\n",
      "Média Valor: 0.9391589532305816\n",
      "Mínimo Valor: 0.9897436065436951\n"
     ]
    }
   ],
   "source": [
    "# Call the function with different values\n",
    "print(\"Maxímo \", end=\"\")\n",
    "calculate_RRMSE(y_train, valor_maximo, real_train_mean)\n",
    "print(\"Média \", end=\"\")\n",
    "calculate_RRMSE(y_train, valor_medio, real_train_mean)\n",
    "print(\"Mínimo \", end=\"\")\n",
    "calculate_RRMSE(y_train, valor_minimo, real_train_mean)\n"
   ]
  },
  {
   "cell_type": "markdown",
   "metadata": {},
   "source": [
    "Caso de Teste "
   ]
  },
  {
   "cell_type": "code",
   "execution_count": 20,
   "metadata": {},
   "outputs": [],
   "source": [
    "# aqui esta com x_test. precisa ver se é x_test ou x_train\n",
    "y_pred_dict = {cluster_label: regressor.predict(x_test) for cluster_label, regressor in trained_regressors.items()}\n",
    "\n",
    "#convertendo o dicionário para um array \n",
    "array_y_pred = np.array(list(y_pred_dict.values()))\n",
    "\n",
    "valor_maximo = np.max(array_y_pred, axis=0)\n",
    "valor_medio = np.mean(array_y_pred, axis=0)\n",
    "valor_minimo = np.min(array_y_pred, axis=0)"
   ]
  },
  {
   "cell_type": "code",
   "execution_count": 21,
   "metadata": {},
   "outputs": [
    {
     "name": "stdout",
     "output_type": "stream",
     "text": [
      "Maxímo: Valor: 1.139380422095753\n",
      "Média: Valor: 1.0674882930148861\n",
      "Mínimo: Valor: 1.2248825329740778\n"
     ]
    }
   ],
   "source": [
    "# Call the function with different values\n",
    "print(\"Maxímo: \", end=\"\")\n",
    "calculate_RRMSE(y_test, valor_maximo, real_test_mean)\n",
    "print(\"Média: \", end=\"\")\n",
    "calculate_RRMSE(y_test, valor_medio, real_test_mean)\n",
    "print(\"Mínimo: \", end=\"\")\n",
    "calculate_RRMSE(y_test, valor_minimo, real_test_mean)"
   ]
  },
  {
   "cell_type": "markdown",
   "metadata": {},
   "source": [
    "Como cada cluster só ve o seu conjunto, depois na hora de pegar o maximo minimo e media, vem valores ruins pq os outros regressores nao foram treinados em conjuntos de dados semelhantes a esse "
   ]
  },
  {
   "cell_type": "markdown",
   "metadata": {},
   "source": [
    "### Ensemble Regressor Chain "
   ]
  },
  {
   "cell_type": "code",
   "execution_count": 22,
   "metadata": {},
   "outputs": [
    {
     "name": "stdout",
     "output_type": "stream",
     "text": [
      "0.5611256934149038\n"
     ]
    }
   ],
   "source": [
    "num_chain = label.shape[1]\n",
    "\n",
    "ensemble = [RegressorChain(RandomForestRegressor(random_state=i)) for i in range(num_chain)]\n",
    "for i, reg_chain in enumerate(ensemble):\n",
    "    reg_chain.fit(x_train, y_train[:, [i]])\n",
    "\n",
    "y_preds = np.column_stack([reg_chain.predict(x_test) for reg_chain in ensemble])\n",
    "\n",
    "loss_list_RRMSE = computer_RRMSE_list(y_test, y_preds, real_train_mean)\n",
    "loss_list_RRMSE_np = np.array(loss_list_RRMSE)\n",
    "print(loss_list_RRMSE_np.mean(axis=0))\n",
    "error_results.append(('Ensemble de Regressor Chain', loss_list_RRMSE_np.mean(axis=0)))"
   ]
  },
  {
   "cell_type": "code",
   "execution_count": 23,
   "metadata": {},
   "outputs": [
    {
     "name": "stdout",
     "output_type": "stream",
     "text": [
      "Regressor Chain Padrão RRMSE: 0.5377979510870844\n",
      "Ensemble de Regressor Chain RRMSE: 0.5611256934149038\n"
     ]
    }
   ],
   "source": [
    "# print the name and value of each model's error result\n",
    "for model, error in error_results:\n",
    "    print(f'{model} RRMSE: {error}')"
   ]
  },
  {
   "cell_type": "markdown",
   "metadata": {},
   "source": [
    "## Modelos"
   ]
  },
  {
   "cell_type": "markdown",
   "metadata": {},
   "source": [
    "#### MultiOutput Dtree"
   ]
  },
  {
   "cell_type": "code",
   "execution_count": 21,
   "metadata": {},
   "outputs": [
    {
     "name": "stdout",
     "output_type": "stream",
     "text": [
      "RRMSE:  0.5548410827525724\n"
     ]
    }
   ],
   "source": [
    "# Teste Multi-dtree\n",
    "real_train_mean = y_train.mean(axis=0)\n",
    "\n",
    "kf = KFold(n_splits=config.all_config[text_file].get('paper_kFold'), shuffle=config.all_config[text_file].get('kfold_random'))\n",
    "for train_index , test_index in kf.split(data):\n",
    "    x_train, x_test = data[train_index], data[test_index]\n",
    "    y_train, y_test = label[train_index], label[test_index]\n",
    "    \n",
    "    result_p_train = model_multi_dtree(x_train, y_train, x_test)\n",
    "    loss_list_RRMSE = computer_RRMSE_list(y_test,result_p_train,real_train_mean)\n",
    "    loss_list_RRMSE_np = np.array(loss_list_RRMSE)\n",
    "    mean_error = loss_list_RRMSE_np.mean(axis=0)\n",
    "\n",
    "error_results.append(('MultiOutput Decision Tree: ', mean_error))\n",
    "print(\"RRMSE: \", mean_error)"
   ]
  },
  {
   "cell_type": "markdown",
   "metadata": {},
   "source": [
    "#### Random Forest Global "
   ]
  },
  {
   "cell_type": "code",
   "execution_count": 26,
   "metadata": {},
   "outputs": [],
   "source": [
    "loss_list_RRMSE = []\n",
    "\n",
    "kf = KFold(n_splits=config.all_config[text_file].get('paper_kFold'),\n",
    "            shuffle=config.all_config[text_file].get('kfold_random'),\n",
    "            random_state=config.all_config[text_file].get('kfold_random_num'))\n",
    "\n",
    "for train_index, test_index in kf.split(data):\n",
    "    x_train, x_test = data[train_index], data[test_index]\n",
    "    y_train, y_test = label[train_index], label[test_index]\n",
    "\n",
    "    result_p_train = model_randomForest(x_train, y_train, x_test, my_num=100) #call model_randomForest once\n",
    "    \n",
    "    real_train_mean = y_train.mean(axis=0)    \n",
    "    loss_list_RRMSE.append(computer_RRMSE_list(y_test, result_p_train, real_train_mean))\n",
    "\n",
    "loss_list_RRMSE_np = np.array(loss_list_RRMSE)\n",
    "error_results.append(('Random Forest Global', loss_list_RRMSE_np.mean(axis=0)))\n",
    "# print('RRMSE: ', loss_list_RRMSE_np)\n",
    "# print('RRMSE mean: ', loss_list_RRMSE_np.mean(axis=0))"
   ]
  },
  {
   "cell_type": "markdown",
   "metadata": {},
   "source": [
    "#### Random Forest Local "
   ]
  },
  {
   "cell_type": "code",
   "execution_count": 7,
   "metadata": {},
   "outputs": [],
   "source": [
    "loss_list_RRMSE = []\n",
    "\n",
    "kf = KFold(n_splits=config.all_config[text_file].get('paper_kFold'),\n",
    "            shuffle=config.all_config[text_file].get('kfold_random'),\n",
    "            random_state=config.all_config[text_file].get('kfold_random_num'))\n",
    "\n",
    "for train_index, test_index in kf.split(data):\n",
    "    x_train, x_test = data[train_index], data[test_index]\n",
    "    y_train, y_test = label[train_index], label[test_index]\n",
    "\n",
    "    result_p_train = []\n",
    "    \n",
    "    for i in range(label.shape[1]):\n",
    "\n",
    "        predicted_test = None \n",
    "\n",
    "        if text_file in ['sf1', 'sf2']:\n",
    "            predicted_test = model_svr(x_train, y_train[:,i], x_test,\n",
    "                                    config.all_config[text_file].get('svr1_kernel'),\n",
    "                                    config.all_config[text_file].get('svr1_gamma'),\n",
    "                                    config.all_config[text_file].get('svr1_C'),\n",
    "                                    config.all_config[text_file].get('svr1_epsilon'),\n",
    "                                    config.all_config[text_file].get('svr1_shrinking'),\n",
    "                                    config.all_config[text_file].get('svr1_verbose'),\n",
    "                                    config.all_config[text_file].get('svr1_max_iter'))\n",
    "        else:\n",
    "            predicted_test = model_randomForest(x_train, y_train[:,i], x_test, my_num=100)\n",
    "            \n",
    "        result_p_train.append(predicted_test)\n",
    "\n",
    "    result_p_train = pd.DataFrame(result_p_train).T.values\n",
    "    real_train_mean = y_train.mean(axis=0)    \n",
    "    loss_list_RRMSE.append(computer_RRMSE_list(y_test,result_p_train,real_train_mean))\n",
    "\n",
    "\n",
    "loss_list_RRMSE_np = np.array(loss_list_RRMSE)\n",
    "error_results.append(('Random Forest Local', loss_list_RRMSE_np.mean(axis=0)))\n",
    "# print('RRMSE: ', loss_list_RRMSE_np)\n",
    "# print('RRMSE mean: ',loss_list_RRMSE_np.mean(axis=0))\n"
   ]
  },
  {
   "cell_type": "markdown",
   "metadata": {},
   "source": [
    "#### ANN Global "
   ]
  },
  {
   "cell_type": "code",
   "execution_count": 8,
   "metadata": {},
   "outputs": [
    {
     "name": "stderr",
     "output_type": "stream",
     "text": [
      "2023-11-24 19:17:43.857152: W tensorflow/tsl/platform/profile_utils/cpu_utils.cc:128] Failed to get CPU frequency: 0 Hz\n"
     ]
    },
    {
     "name": "stdout",
     "output_type": "stream",
     "text": [
      "1/1 [==============================] - 0s 61ms/step\n",
      "1/1 [==============================] - 0s 39ms/step\n",
      "1/1 [==============================] - 0s 39ms/step\n",
      "1/1 [==============================] - 0s 40ms/step\n",
      "WARNING:tensorflow:5 out of the last 5 calls to <function Model.make_predict_function.<locals>.predict_function at 0x290bf0160> triggered tf.function retracing. Tracing is expensive and the excessive number of tracings could be due to (1) creating @tf.function repeatedly in a loop, (2) passing tensors with different shapes, (3) passing Python objects instead of tensors. For (1), please define your @tf.function outside of the loop. For (2), @tf.function has reduce_retracing=True option that can avoid unnecessary retracing. For (3), please refer to https://www.tensorflow.org/guide/function#controlling_retracing and https://www.tensorflow.org/api_docs/python/tf/function for  more details.\n",
      "1/1 [==============================] - 0s 40ms/step\n",
      "WARNING:tensorflow:6 out of the last 6 calls to <function Model.make_predict_function.<locals>.predict_function at 0x290bf2170> triggered tf.function retracing. Tracing is expensive and the excessive number of tracings could be due to (1) creating @tf.function repeatedly in a loop, (2) passing tensors with different shapes, (3) passing Python objects instead of tensors. For (1), please define your @tf.function outside of the loop. For (2), @tf.function has reduce_retracing=True option that can avoid unnecessary retracing. For (3), please refer to https://www.tensorflow.org/guide/function#controlling_retracing and https://www.tensorflow.org/api_docs/python/tf/function for  more details.\n",
      "1/1 [==============================] - 0s 39ms/step\n",
      "1/1 [==============================] - 0s 40ms/step\n",
      "1/1 [==============================] - 0s 39ms/step\n",
      "1/1 [==============================] - 0s 39ms/step\n",
      "1/1 [==============================] - 0s 39ms/step\n"
     ]
    }
   ],
   "source": [
    "loss_list_RRMSE = []\n",
    "\n",
    "kf = KFold(n_splits=config.all_config[text_file].get('paper_kFold'),\n",
    "            shuffle=config.all_config[text_file].get('kfold_random'),\n",
    "            random_state=config.all_config[text_file].get('kfold_random_num'))\n",
    "\n",
    "for train_index, test_index in kf.split(data):\n",
    "    x_train, x_test = data[train_index], data[test_index]\n",
    "    y_train, y_test = label[train_index], label[test_index]\n",
    "\n",
    "    result_p_train = model_ann_global(x_train, y_train, x_test)  # Call model_ann_global once\n",
    "    \n",
    "    real_train_mean = y_train.mean(axis=0)    \n",
    "    loss_list_RRMSE.append(computer_RRMSE_list(y_test, result_p_train, real_train_mean))\n",
    "\n",
    "loss_list_RRMSE_np = np.array(loss_list_RRMSE)\n",
    "error_results.append(('ANN Global', loss_list_RRMSE_np.mean(axis=0)))\n",
    "# print('RRMSE: ', loss_list_RRMSE_np)\n",
    "# print('RRMSE mean: ', loss_list_RRMSE_np.mean(axis=0))"
   ]
  },
  {
   "cell_type": "markdown",
   "metadata": {},
   "source": [
    "#### ANN Local"
   ]
  },
  {
   "cell_type": "code",
   "execution_count": 9,
   "metadata": {},
   "outputs": [
    {
     "name": "stdout",
     "output_type": "stream",
     "text": [
      "1/1 [==============================] - 0s 43ms/step\n",
      "1/1 [==============================] - 0s 43ms/step\n",
      "1/1 [==============================] - 0s 44ms/step\n",
      "1/1 [==============================] - 0s 44ms/step\n",
      "1/1 [==============================] - 0s 45ms/step\n",
      "1/1 [==============================] - 0s 43ms/step\n",
      "1/1 [==============================] - 0s 44ms/step\n",
      "1/1 [==============================] - 0s 44ms/step\n",
      "1/1 [==============================] - 0s 49ms/step\n",
      "1/1 [==============================] - 0s 43ms/step\n",
      "1/1 [==============================] - 0s 43ms/step\n",
      "1/1 [==============================] - 0s 45ms/step\n",
      "1/1 [==============================] - 0s 44ms/step\n",
      "1/1 [==============================] - 0s 43ms/step\n",
      "1/1 [==============================] - 0s 45ms/step\n",
      "1/1 [==============================] - 0s 51ms/step\n",
      "1/1 [==============================] - 0s 44ms/step\n",
      "1/1 [==============================] - 0s 44ms/step\n",
      "1/1 [==============================] - 0s 44ms/step\n",
      "1/1 [==============================] - 0s 43ms/step\n",
      "1/1 [==============================] - 0s 45ms/step\n",
      "1/1 [==============================] - 0s 44ms/step\n",
      "1/1 [==============================] - 0s 44ms/step\n",
      "1/1 [==============================] - 0s 46ms/step\n",
      "1/1 [==============================] - 0s 44ms/step\n",
      "1/1 [==============================] - 0s 43ms/step\n",
      "1/1 [==============================] - 0s 44ms/step\n",
      "1/1 [==============================] - 0s 44ms/step\n",
      "1/1 [==============================] - 0s 43ms/step\n",
      "1/1 [==============================] - 0s 43ms/step\n",
      "1/1 [==============================] - 0s 43ms/step\n",
      "1/1 [==============================] - 0s 44ms/step\n",
      "1/1 [==============================] - 0s 44ms/step\n",
      "1/1 [==============================] - 0s 44ms/step\n",
      "1/1 [==============================] - 0s 44ms/step\n",
      "1/1 [==============================] - 0s 46ms/step\n",
      "1/1 [==============================] - 0s 43ms/step\n",
      "1/1 [==============================] - 0s 44ms/step\n",
      "1/1 [==============================] - 0s 43ms/step\n",
      "1/1 [==============================] - 0s 43ms/step\n",
      "1/1 [==============================] - 0s 44ms/step\n",
      "1/1 [==============================] - 0s 46ms/step\n",
      "1/1 [==============================] - 0s 45ms/step\n",
      "1/1 [==============================] - 0s 60ms/step\n",
      "1/1 [==============================] - 0s 45ms/step\n",
      "1/1 [==============================] - 0s 43ms/step\n",
      "1/1 [==============================] - 0s 44ms/step\n",
      "1/1 [==============================] - 0s 47ms/step\n",
      "1/1 [==============================] - 0s 45ms/step\n",
      "1/1 [==============================] - 0s 43ms/step\n",
      "1/1 [==============================] - 0s 45ms/step\n",
      "1/1 [==============================] - 0s 44ms/step\n",
      "1/1 [==============================] - 0s 44ms/step\n",
      "1/1 [==============================] - 0s 44ms/step\n",
      "1/1 [==============================] - 0s 44ms/step\n",
      "1/1 [==============================] - 0s 45ms/step\n",
      "1/1 [==============================] - 0s 44ms/step\n",
      "1/1 [==============================] - 0s 44ms/step\n",
      "1/1 [==============================] - 0s 44ms/step\n",
      "1/1 [==============================] - 0s 43ms/step\n"
     ]
    }
   ],
   "source": [
    "loss_list_RRMSE = []\n",
    "\n",
    "kf = KFold(n_splits=config.all_config[text_file].get('paper_kFold'),\n",
    "            shuffle=config.all_config[text_file].get('kfold_random'),\n",
    "            random_state=config.all_config[text_file].get('kfold_random_num'))\n",
    "\n",
    "for train_index, test_index in kf.split(data):\n",
    "    x_train, x_test = data[train_index], data[test_index]\n",
    "    y_train, y_test = label[train_index], label[test_index]\n",
    "\n",
    "    result_p_train = model_ann_local(x_train, y_train, x_test)\n",
    "   \n",
    "    real_train_mean = y_train.mean(axis=0)    \n",
    "\n",
    "    result_p_train = pd.DataFrame(result_p_train).values\n",
    "    loss_list_RRMSE.append(computer_RRMSE_list(y_test, result_p_train, real_train_mean))\n",
    "\n",
    "    \n",
    "loss_list_RRMSE_np = np.array(loss_list_RRMSE)\n",
    "error_results.append(('ANN Local', loss_list_RRMSE_np.mean(axis=0)))\n",
    "# print('RRMSE: ', loss_list_RRMSE_np)\n",
    "# print('RRMSE mean: ',loss_list_RRMSE_np.mean(axis=0))"
   ]
  },
  {
   "cell_type": "markdown",
   "metadata": {},
   "source": [
    "#### XGBoost Local"
   ]
  },
  {
   "cell_type": "code",
   "execution_count": 10,
   "metadata": {},
   "outputs": [],
   "source": [
    "loss_list_RRMSE = []\n",
    "\n",
    "kf = KFold(n_splits=config.all_config[text_file].get('paper_kFold'),\n",
    "            shuffle=config.all_config[text_file].get('kfold_random'),\n",
    "            random_state=config.all_config[text_file].get('kfold_random_num'))\n",
    "\n",
    "for train_index, test_index in kf.split(data):\n",
    "    x_train, x_test = data[train_index], data[test_index]\n",
    "    y_train, y_test = label[train_index], label[test_index]\n",
    "\n",
    "    result_p_train = model_xgboost(x_train, y_train, x_test)\n",
    "    \n",
    "    real_train_mean = y_train.mean(axis=0)    \n",
    "    loss_list_RRMSE.append(computer_RRMSE_list(y_test, result_p_train, real_train_mean))\n",
    "\n",
    "loss_list_RRMSE_np = np.array(loss_list_RRMSE)\n",
    "error_results.append(('XGBoost Local', loss_list_RRMSE_np.mean(axis=0)))\n",
    "# print('RRMSE: ', loss_list_RRMSE_np)\n",
    "# print('RRMSE mean: ', loss_list_RRMSE_np.mean(axis=0))"
   ]
  },
  {
   "cell_type": "code",
   "execution_count": 11,
   "metadata": {},
   "outputs": [
    {
     "name": "stdout",
     "output_type": "stream",
     "text": [
      "MultiOutput Decision Tree RRMSE: [0.40023333002332506, 0.02044705362869795, 0.7193043548966468, 0.7086654929709483, 0.6964982862873742, 0.9877161312990153]\n",
      "Random Forest Global RRMSE: [0.31629909 0.2966071  0.30712246 0.30812334 0.52160143 0.55041904]\n",
      "Random Forest Local RRMSE: [0.39453565 0.27027068 0.33402029 0.34314087 0.6460256  0.59859992]\n",
      "ANN Global RRMSE: [0.87905475 0.86252126 0.96865246 0.99411114 1.03802282 1.00851647]\n",
      "ANN Local RRMSE: [1.05904199 0.98890408 0.98386921 1.01469382 0.97670647 0.94233438]\n",
      "XGBoost Local RRMSE: [0.3899991  0.13958916 0.36069351 0.33912269 0.6791775  0.6680659 ]\n"
     ]
    }
   ],
   "source": [
    "# print the name and value of each model's error result\n",
    "for model, error in error_results:\n",
    "    print(f'{model} RRMSE: {error}')"
   ]
  },
  {
   "cell_type": "markdown",
   "metadata": {},
   "source": [
    "#### Parte errada ainda "
   ]
  },
  {
   "cell_type": "code",
   "execution_count": 12,
   "metadata": {},
   "outputs": [],
   "source": [
    "# # Ta errado ainda, \n",
    "# # A funcao model_ann_local ta iterando sobre as colunas\n",
    "# # e nesse código ta iterando de novo sobre as colunas\n",
    "\n",
    "# loss_list_RRMSE = []\n",
    "\n",
    "# kf = KFold(n_splits=config.all_config[text_file].get('paper_kFold'),\n",
    "#             shuffle=config.all_config[text_file].get('kfold_random'),\n",
    "#             random_state=config.all_config[text_file].get('kfold_random_num'))\n",
    "\n",
    "# for train_index, test_index in kf.split(data):\n",
    "#     x_train, x_test = data[train_index], data[test_index]\n",
    "#     y_train, y_test = label[train_index], label[test_index]\n",
    "\n",
    "#     result_p_test = []\n",
    "\n",
    "#     for i in range(label.shape[1]):\n",
    "        \n",
    "#         predicted_test = None \n",
    "\n",
    "#         if text_file in ['sf1', 'sf2']:\n",
    "#             predicted_test = model_svr(x_train, y_train[:,i], x_test, y_test[:,i],\n",
    "#                                     config.all_config[text_file].get('svr1_kernel'),\n",
    "#                                     config.all_config[text_file].get('svr1_gamma'),\n",
    "#                                     config.all_config[text_file].get('svr1_C'),\n",
    "#                                     config.all_config[text_file].get('svr1_epsilon'),\n",
    "#                                     config.all_config[text_file].get('svr1_shrinking'),\n",
    "#                                     config.all_config[text_file].get('svr1_verbose'),\n",
    "#                                     config.all_config[text_file].get('svr1_max_iter'))\n",
    "#         else:\n",
    "#             predicted_test = model_ann_local(x_train, y_train, x_test)\n",
    "        \n",
    "#         result_p_test.append(predicted_test)\n",
    "\n",
    "#     result_p_test = pd.DataFrame(result_p_test).T.values\n",
    "#     real_train_mean = y_train.mean(axis=0)    \n",
    "#     loss_list_RRMSE.append(computer_RRMSE_list(y_test,result_p_test,real_train_mean))\n",
    "\n",
    "\n",
    "# loss_list_RRMSE_np = np.array(loss_list_RRMSE)         \n",
    "# print('RRMSE: ',np.mean(loss_list_RRMSE_np))"
   ]
  }
 ],
 "metadata": {
  "colab": {
   "provenance": []
  },
  "kernelspec": {
   "display_name": "Python 3 (ipykernel)",
   "language": "python",
   "name": "python3"
  },
  "language_info": {
   "codemirror_mode": {
    "name": "ipython",
    "version": 3
   },
   "file_extension": ".py",
   "mimetype": "text/x-python",
   "name": "python",
   "nbconvert_exporter": "python",
   "pygments_lexer": "ipython3",
   "version": "3.10.9"
  }
 },
 "nbformat": 4,
 "nbformat_minor": 1
}
