{
 "cells": [
  {
   "cell_type": "markdown",
   "metadata": {},
   "source": [
    "# TCC 2 - Yan Borges "
   ]
  },
  {
   "cell_type": "markdown",
   "metadata": {},
   "source": [
    "## Importando bibliotecas "
   ]
  },
  {
   "cell_type": "code",
   "execution_count": 1,
   "metadata": {
    "id": "2cfVKzLtIRg1"
   },
   "outputs": [],
   "source": [
    "#Importando as bibliotecas necessárias\n",
    "import pandas as pd\n",
    "import numpy as np\n",
    "import math\n",
    "import config\n",
    "import matplotlib.pyplot as plt\n",
    "\n",
    "from scipy.io.arff import loadarff\n",
    "\n",
    "from sklearn.multioutput import MultiOutputRegressor\n",
    "from sklearn.tree import DecisionTreeRegressor\n",
    "from sklearn.ensemble import RandomForestRegressor\n",
    "from sklearn.svm import SVR\n",
    "from sklearn.preprocessing import StandardScaler\n",
    "from sklearn.multioutput import RegressorChain\n",
    "from sklearn.model_selection import GridSearchCV\n",
    "\n",
    "from sklearn.model_selection import KFold\n",
    "\n",
    "#Importando as bibliotecas referentes ao XGBoost\n",
    "import xgboost as xgb\n",
    "\n",
    "#Biblioteca do Kmeans\n",
    "from sklearn.cluster import KMeans\n",
    "from sklearn.metrics import silhouette_score\n",
    "\n",
    "# from sklearn.model_selection import train_test_split"
   ]
  },
  {
   "cell_type": "markdown",
   "metadata": {
    "id": "PUh8kiCjVxO0"
   },
   "source": [
    "## Funções"
   ]
  },
  {
   "cell_type": "markdown",
   "metadata": {},
   "source": [
    "### Modelos"
   ]
  },
  {
   "cell_type": "code",
   "execution_count": 2,
   "metadata": {
    "id": "byiB0yYdVwHx"
   },
   "outputs": [],
   "source": [
    "from sklearn import tree\n",
    "\n",
    "\n",
    "def model_xgboost():\n",
    "    param = {'max_depth': 4,\n",
    "             'eta': 0.05, \n",
    "             'objective': 'reg:squarederror',\n",
    "             'booster': 'gbtree',\n",
    "            }\n",
    "    bst = xgb.XGBRegressor(**param, n_estimators=100)\n",
    "    return bst\n",
    "\n",
    "def model_xgboost_multi():\n",
    "    param = {'max_depth': 4,\n",
    "             'eta': 0.05, \n",
    "             'objective': 'reg:squarederror',\n",
    "             'booster': 'gbtree',\n",
    "            }\n",
    "    bst = xgb.XGBRegressor(**param, n_estimators=100, tree_method='hist', multi_strategy='multi_output_tree')\n",
    "    return bst\n",
    "\n",
    "def Chain_RandomForest():\n",
    "    reg_chain = RegressorChain(RandomForestRegressor(n_estimators = 50,n_jobs = -1, random_state=0))\n",
    "    return reg_chain\n",
    "\n",
    "def Chain_DecisionTree():\n",
    "    reg_chain = RegressorChain(DecisionTreeRegressor())\n",
    "    return reg_chain\n",
    "\n",
    "def model_randomForest():\n",
    "    regressor = RandomForestRegressor(n_estimators = 50,n_jobs = -1, random_state=0)\n",
    "    return regressor\n",
    "\n",
    "def model_dtree():\n",
    "    regressor = DecisionTreeRegressor()\n",
    "    return regressor\n",
    "\n",
    "def model_multi_dtree():\n",
    "    regressor = MultiOutputRegressor(DecisionTreeRegressor())\n",
    "    return regressor\n",
    "\n",
    "def model_multi_randomForest():\n",
    "    regressor = MultiOutputRegressor(RandomForestRegressor(n_estimators = 50,n_jobs = -1, random_state=0))\n",
    "    return regressor\n"
   ]
  },
  {
   "cell_type": "markdown",
   "metadata": {},
   "source": [
    "### Cálculo de erro "
   ]
  },
  {
   "cell_type": "code",
   "execution_count": 3,
   "metadata": {},
   "outputs": [],
   "source": [
    "def computer_RRMSE_list(real_test,result_p,real_train_mean):\n",
    "    \"\"\"RRMSE: Relative Root Mean Square Error\n",
    "        input: real_test: real test data\n",
    "              result_p: predicted data\n",
    "              real_train_mean: mean of real train data\n",
    "        output: RRMSE list \"\"\"\n",
    "    \n",
    "    _list = []\n",
    "\n",
    "    if result_p[1].shape == ():\n",
    "        fenzi = 0\n",
    "        fenmu = 0\n",
    "        for j in range(result_p.shape[0]):\n",
    "            fenzi += (result_p[j] - real_test[j])**2\n",
    "            fenmu += (real_train_mean - real_test[j])**2\n",
    "        _list.append(math.sqrt(fenzi/fenmu))    \n",
    "        return _list\n",
    "    else:\n",
    "        for i in range(result_p.shape[1]):\n",
    "            fenzi = 0\n",
    "            fenmu = 0\n",
    "            for j in range(result_p.shape[0]):\n",
    "                fenzi += (result_p[j,i] - real_test[j,i])**2\n",
    "                fenmu += (real_train_mean[i] - real_test[j,i])**2\n",
    "            _list.append(math.sqrt(fenzi/fenmu))    \n",
    "        return _list    \n",
    "\n",
    "\n",
    "# def calculate_RRMSE(targets, valor, targets_mean):\n",
    "#     loss_list_RRMSE = computer_RRMSE_list(targets, valor, targets_mean)\n",
    "#     loss_list_RRMSE_np = np.array(loss_list_RRMSE)\n",
    "#     mean_error = loss_list_RRMSE_np.mean(axis=0)\n",
    "#     return mean_error\n",
    "\n",
    "def calculate_RRMSE(targets, predicted):\n",
    "    targets_mean = np.mean(targets, axis=0)\n",
    "    loss_list_RRMSE = computer_RRMSE_list(targets, predicted, targets_mean)\n",
    "    mean_error = np.array(loss_list_RRMSE).mean(axis=0)\n",
    "    return mean_error\n"
   ]
  },
  {
   "cell_type": "markdown",
   "metadata": {
    "id": "unpvRVKQSTwF"
   },
   "source": [
    "## Implementação"
   ]
  },
  {
   "cell_type": "code",
   "execution_count": 4,
   "metadata": {
    "colab": {
     "base_uri": "https://localhost:8080/"
    },
    "id": "Ohf0EgDuYRXL",
    "outputId": "04f5473d-f761-4005-d640-dae2cb96522e"
   },
   "outputs": [],
   "source": [
    "path = \"../TCC/mtr-datasets/\"\n",
    "\n",
    "#text_file = input(\"dataset: \")\n",
    "text_file = 'atp1d'\n",
    "data, meta = loadarff(path + text_file + \".arff\")\n",
    "data = pd.DataFrame(data)\n",
    "\n",
    "data.reset_index(inplace=True)\n",
    "data.replace('?', np.nan, inplace=True)\n",
    "data.replace('     ?', np.nan, inplace=True)\n",
    "data = data.applymap(float)\n",
    "\n",
    "#Caso de Exceção por ter coluna com muito Null\n",
    "if text_file == 'osales':\n",
    "    conta_na = data.isna().sum()\n",
    "    conta_na[conta_na > 70].index\n",
    "    data.drop(columns=conta_na[conta_na > 70].index, inplace=True)\n",
    "\n",
    "#Normalização\n",
    "scaler = StandardScaler()\n",
    "data = pd.DataFrame(scaler.fit_transform(data), columns=data.columns)\n",
    "\n",
    "if config.all_config[text_file].get('sample_random') == True:\n",
    "    data = data.sample(frac=1,random_state = config.all_config[text_file].get('sample_random_num')).reset_index(drop=True)\n",
    "data = data.fillna(pd.Series(np.nanmean(data,axis=0),index=data.columns))\n",
    "label = data.iloc[:,-config.all_config[text_file].get('targets_num'):].values\n",
    "data = data.iloc[:,:-config.all_config[text_file].get('targets_num')].values\n",
    "\n",
    "#Lista para comparar resultados de teste no final\n",
    "error_results = []"
   ]
  },
  {
   "cell_type": "markdown",
   "metadata": {},
   "source": [
    "### Separação dos dados em Treino e Teste \n"
   ]
  },
  {
   "cell_type": "code",
   "execution_count": 5,
   "metadata": {},
   "outputs": [],
   "source": [
    "# Não estou usando mais \n",
    "# x_train, x_test, y_train, y_test = train_test_split(data, label, test_size=0.25, random_state=42)\n",
    "\n",
    "# Variables to calculate RRMSE\n",
    "# real_test_mean = y_test.mean(axis=0)\n",
    "# real_train_mean = y_train.mean(axis=0)\n",
    "label_mean = label.mean(axis=0)"
   ]
  },
  {
   "cell_type": "markdown",
   "metadata": {},
   "source": [
    "## Modelos Tradicionais"
   ]
  },
  {
   "cell_type": "markdown",
   "metadata": {},
   "source": [
    "### Baseline Regressor \n"
   ]
  },
  {
   "cell_type": "code",
   "execution_count": 8,
   "metadata": {},
   "outputs": [],
   "source": [
    "from sklearn.model_selection import cross_validate\n",
    "from sklearn.metrics import make_scorer\n",
    "\n",
    "RRMSE_scorer = make_scorer(calculate_RRMSE, greater_is_better=False)\n",
    "kfold = KFold(n_splits=5, shuffle=True, random_state=42)"
   ]
  },
  {
   "cell_type": "markdown",
   "metadata": {},
   "source": [
    "#### Random Forest e Decision Tree com cross validate "
   ]
  },
  {
   "cell_type": "code",
   "execution_count": 121,
   "metadata": {},
   "outputs": [
    {
     "name": "stdout",
     "output_type": "stream",
     "text": [
      "0.6284699803105241\n"
     ]
    }
   ],
   "source": [
    "score = cross_validate(model_randomForest(), data, label, cv=kfold, scoring=RRMSE_scorer)\n",
    "score = np.sqrt(-score['test_score']).mean()\n",
    "print(score)\n",
    "error_results.append(('RF',score))"
   ]
  },
  {
   "cell_type": "code",
   "execution_count": 122,
   "metadata": {},
   "outputs": [
    {
     "name": "stdout",
     "output_type": "stream",
     "text": [
      "0.7321736767142738\n"
     ]
    }
   ],
   "source": [
    "score = cross_validate(model_dtree(), data, label, cv=kfold, scoring=RRMSE_scorer)\n",
    "score = np.sqrt(-score['test_score']).mean()\n",
    "print(score)\n",
    "error_results.append(('DT',score))"
   ]
  },
  {
   "cell_type": "markdown",
   "metadata": {},
   "source": [
    "#### Buscando melhores hiperparâmetros com GridSearchCV"
   ]
  },
  {
   "cell_type": "code",
   "execution_count": 123,
   "metadata": {},
   "outputs": [
    {
     "name": "stdout",
     "output_type": "stream",
     "text": [
      "{'max_depth': 10, 'min_samples_leaf': 6, 'min_samples_split': 6, 'splitter': 'random'}\n",
      "0.6807295949456877\n"
     ]
    }
   ],
   "source": [
    "# param_grid = {\n",
    "#     'splitter': ['best', 'random'],\n",
    "#     'max_depth': [2, 4, 6, 8, 10],\n",
    "#     'min_samples_split': [2, 4, 6, 8, 10],\n",
    "#     'min_samples_leaf': [1, 2, 4, 6, 8, 10]}\n",
    "\n",
    "# grid_search = GridSearchCV(DecisionTreeRegressor(), param_grid=param_grid, cv=kfold, scoring=RRMSE_scorer)\n",
    "\n",
    "# grid_search.fit(data, label)\n",
    "# print(grid_search.best_params_)\n",
    "# print(np.sqrt(-grid_search.best_score_))\n",
    "# best_param = grid_search.best_params_\n",
    "\n",
    "# score = cross_validate(DecisionTreeRegressor(max_depth=best_param['max_depth'], min_samples_split=best_param['min_samples_split'], min_samples_leaf=best_param['min_samples_leaf']), data, label, cv=kfold, scoring=RRMSE_scorer)\n",
    "# score = np.sqrt(-score['test_score']).mean()\n",
    "# print(score)\n",
    "# error_results.append(('DT c/ hiperparâmetro',score))"
   ]
  },
  {
   "cell_type": "code",
   "execution_count": 138,
   "metadata": {},
   "outputs": [],
   "source": [
    "# param_grid = {\n",
    "#     'max_depth': [2, 4, 6, 8, 10],\n",
    "#     'min_samples_split': [2, 4, 6, 8, 10],\n",
    "#     'min_samples_leaf': [1, 2, 4, 6, 8, 10]}\n",
    "\n",
    "# grid_search = GridSearchCV(RandomForestRegressor(), param_grid=param_grid, cv=kfold, scoring=RRMSE_scorer)\n",
    "\n",
    "# grid_search.fit(data, label)\n",
    "# print(grid_search.best_params_)\n",
    "# print(np.sqrt(-grid_search.best_score_))\n",
    "# best_param = grid_search.best_params_\n",
    "\n",
    "# score = cross_validate(RandomForestRegressor(\n",
    "#                                             n_estimators=50,\n",
    "#                                             max_depth=best_param['max_depth'], \n",
    "#                                             min_samples_split=best_param['min_samples_split'], \n",
    "#                                             min_samples_leaf=best_param['min_samples_leaf']), \n",
    "#                        data, label, cv=kfold, scoring=RRMSE_scorer)\n",
    "# score = np.sqrt(-score['test_score']).mean()\n",
    "# print(score)\n",
    "\n"
   ]
  },
  {
   "cell_type": "markdown",
   "metadata": {},
   "source": [
    "#### Decision Tree Local "
   ]
  },
  {
   "cell_type": "code",
   "execution_count": 126,
   "metadata": {},
   "outputs": [
    {
     "name": "stdout",
     "output_type": "stream",
     "text": [
      "Mean Score:  0.7151314250166899\n"
     ]
    }
   ],
   "source": [
    "scores = np.zeros(label.shape[1])\n",
    "\n",
    "for target in range(label.shape[1]):\n",
    "    y = label[:,[target]].ravel()\n",
    "\n",
    "    score = cross_validate(DecisionTreeRegressor(), data, y, cv=kfold, scoring=RRMSE_scorer)\n",
    "\n",
    "    scores[target] = np.sqrt(-score['test_score']).mean()\n",
    "\n",
    "print(\"Mean Score: \", scores.mean())"
   ]
  },
  {
   "cell_type": "markdown",
   "metadata": {},
   "source": [
    "#### Regressor Chain Padrão RF"
   ]
  },
  {
   "cell_type": "code",
   "execution_count": 127,
   "metadata": {},
   "outputs": [
    {
     "name": "stdout",
     "output_type": "stream",
     "text": [
      "Regressor chain of Random Forest:  0.6168778160626983\n"
     ]
    }
   ],
   "source": [
    "score = cross_validate(Chain_RandomForest(), data, label, cv=kfold, scoring=RRMSE_scorer)\n",
    "score = np.sqrt(-score['test_score']).mean()\n",
    "print(\"Regressor chain of Random Forest: \", score)\n",
    "error_results.append(('Chain of RF',score))"
   ]
  },
  {
   "cell_type": "markdown",
   "metadata": {},
   "source": [
    "#### Regressor Chain Padrão DT"
   ]
  },
  {
   "cell_type": "code",
   "execution_count": 128,
   "metadata": {},
   "outputs": [
    {
     "name": "stdout",
     "output_type": "stream",
     "text": [
      "Regressor chain of Random Forest:  0.7209656576732939\n"
     ]
    }
   ],
   "source": [
    "score = cross_validate(Chain_DecisionTree(), data, label, cv=kfold, scoring=RRMSE_scorer)\n",
    "score = np.sqrt(-score['test_score']).mean()\n",
    "print(\"Regressor chain of Random Forest: \", score)\n",
    "error_results.append(('Chain of DT',score))"
   ]
  },
  {
   "cell_type": "markdown",
   "metadata": {},
   "source": [
    "#### Multi Output Decision Tree"
   ]
  },
  {
   "cell_type": "code",
   "execution_count": 129,
   "metadata": {},
   "outputs": [
    {
     "name": "stdout",
     "output_type": "stream",
     "text": [
      "MultiOutput Regressor DT:  0.7218491943666001\n"
     ]
    }
   ],
   "source": [
    "score = cross_validate(model_multi_dtree(), data, label, cv=kfold, scoring=RRMSE_scorer)\n",
    "score = np.sqrt(-score['test_score']).mean()\n",
    "print(\"MultiOutput Regressor DT: \", score)\n",
    "error_results.append(('MultiOutput DT',score))"
   ]
  },
  {
   "cell_type": "markdown",
   "metadata": {},
   "source": [
    "#### Multi Output Random Forest"
   ]
  },
  {
   "cell_type": "code",
   "execution_count": 130,
   "metadata": {},
   "outputs": [
    {
     "name": "stdout",
     "output_type": "stream",
     "text": [
      "MultiOutput Regressor RF:  0.6127940564192164\n"
     ]
    }
   ],
   "source": [
    "score = cross_validate(model_multi_randomForest(), data, label, cv=kfold, scoring=RRMSE_scorer)\n",
    "score = np.sqrt(-score['test_score']).mean()\n",
    "print(\"MultiOutput Regressor RF: \", score)\n",
    "error_results.append(('MultiOutput RF',score))"
   ]
  },
  {
   "cell_type": "markdown",
   "metadata": {},
   "source": [
    "#### Xgboost"
   ]
  },
  {
   "cell_type": "markdown",
   "metadata": {},
   "source": [
    "Local"
   ]
  },
  {
   "cell_type": "code",
   "execution_count": 135,
   "metadata": {},
   "outputs": [
    {
     "name": "stdout",
     "output_type": "stream",
     "text": [
      "XGBoost:  0.6100128516029643\n"
     ]
    }
   ],
   "source": [
    "score = cross_validate(model_xgboost(), data, label, cv=kfold, scoring=RRMSE_scorer)\n",
    "score = np.sqrt(-score['test_score']).mean()\n",
    "print(\"XGBoost: \",score)\n",
    "# error_results.append(('XGBoost',score))"
   ]
  },
  {
   "cell_type": "markdown",
   "metadata": {},
   "source": [
    "Multi"
   ]
  },
  {
   "cell_type": "code",
   "execution_count": 136,
   "metadata": {},
   "outputs": [
    {
     "name": "stdout",
     "output_type": "stream",
     "text": [
      "XGBoost:  0.6041342800042961\n"
     ]
    }
   ],
   "source": [
    "score = cross_validate(model_xgboost_multi(), data, label, cv=kfold, scoring=RRMSE_scorer)\n",
    "score = np.sqrt(-score['test_score']).mean()\n",
    "print(\"XGBoost: \",score)\n",
    "# error_results.append(('XGBoost',score))"
   ]
  },
  {
   "cell_type": "markdown",
   "metadata": {},
   "source": [
    "## Método de Clusterização"
   ]
  },
  {
   "cell_type": "markdown",
   "metadata": {},
   "source": [
    "### Matriz de Dissimilaridade "
   ]
  },
  {
   "cell_type": "code",
   "execution_count": 31,
   "metadata": {},
   "outputs": [
    {
     "data": {
      "image/png": "[encoded data removed]",
      "text/plain": [
       "<Figure size 640x480 with 2 Axes>"
      ]
     },
     "metadata": {},
     "output_type": "display_data"
    }
   ],
   "source": [
    "matriz_dissimilaridade = 1 - np.corrcoef(label.T)\n",
    "\n",
    "plt.imshow(matriz_dissimilaridade, cmap='viridis')\n",
    "plt.colorbar(label='Dissimilarity')\n",
    "plt.title('Dissimilarity Matrix')\n",
    "plt.show()"
   ]
  },
  {
   "cell_type": "code",
   "execution_count": 32,
   "metadata": {},
   "outputs": [
    {
     "name": "stderr",
     "output_type": "stream",
     "text": [
      "/var/folders/0f/cyrznsrn06xcrs6sr4j3d8100000gn/T/ipykernel_784/21108651.py:4: ClusterWarning: scipy.cluster: The symmetric non-negative hollow observation matrix looks suspiciously like an uncondensed distance matrix\n",
      "  linkage_matrix = linkage(matriz_dissimilaridade, method='average')\n"
     ]
    },
    {
     "data": {
      "image/png": "[encoded data removed]",
      "text/plain": [
       "<Figure size 800x600 with 1 Axes>"
      ]
     },
     "metadata": {},
     "output_type": "display_data"
    }
   ],
   "source": [
    "from scipy.cluster.hierarchy import linkage, dendrogram, fcluster\n",
    "# from scipy.spatial.distance import squareform\n",
    "\n",
    "linkage_matrix = linkage(matriz_dissimilaridade, method='average')\n",
    "\n",
    "plt.figure(figsize=(8, 6))\n",
    "dendrogram(linkage_matrix)\n",
    "plt.title('Dendrograma Hierárquico')\n",
    "plt.xlabel('Índices dos Dados')\n",
    "plt.ylabel('Distância')\n",
    "plt.show()"
   ]
  },
  {
   "cell_type": "markdown",
   "metadata": {},
   "source": [
    "Precisa tratar o caso de erro de o ideal ser apenas um cluster"
   ]
  },
  {
   "cell_type": "code",
   "execution_count": 33,
   "metadata": {},
   "outputs": [
    {
     "data": {
      "image/png": "[encoded data removed]",
      "text/plain": [
       "<Figure size 640x480 with 1 Axes>"
      ]
     },
     "metadata": {},
     "output_type": "display_data"
    }
   ],
   "source": [
    "silhouette_scores = []\n",
    "\n",
    "min_clusters = 2\n",
    "if label.shape[1] < 10:\n",
    "    max_clusters = label.shape[1]+1\n",
    "else:\n",
    "    max_clusters = 10\n",
    "\n",
    "for n_clusters in range(min_clusters, max_clusters):\n",
    "    cluster_labels = fcluster(linkage_matrix, n_clusters, criterion='maxclust')\n",
    "    silhouette_scores.append(silhouette_score(matriz_dissimilaridade, cluster_labels))\n",
    "\n",
    "plt.plot(range(min_clusters, max_clusters), silhouette_scores, marker='o')\n",
    "plt.xlabel('Número de Clusters')\n",
    "plt.ylabel('Silhouette Score')\n",
    "plt.title('Silhouette Score por Número de Clusters')\n",
    "plt.show()\n"
   ]
  },
  {
   "cell_type": "markdown",
   "metadata": {},
   "source": [
    "antigo"
   ]
  },
  {
   "cell_type": "code",
   "execution_count": 34,
   "metadata": {},
   "outputs": [],
   "source": [
    "# best_cut = silhouette_scores.index(max(silhouette_scores)) + min_clusters\n",
    "# print('Best number of clusters:', best_cut)\n",
    "\n",
    "# clusters = fcluster(linkage_matrix, best_cut, criterion='maxclust')\n",
    "\n",
    "# y_train_cluster = [[] for _ in range(max(clusters))]\n",
    "# y_test_cluster = [[] for _ in range(max(clusters))]\n",
    "\n",
    "# # Split the targets into clusters\n",
    "# for i, cluster in enumerate(clusters):\n",
    "#     y_train_cluster[cluster-1].append(y_train[:, i])\n",
    "#     print('Cluster: {}, Target: {}'.format(cluster, i))\n",
    "#     y_test_cluster[cluster-1].append(y_test[:, i]) "
   ]
  },
  {
   "cell_type": "code",
   "execution_count": 40,
   "metadata": {},
   "outputs": [
    {
     "name": "stdout",
     "output_type": "stream",
     "text": [
      "Best number of clusters: 2\n",
      "Cluster: 0, Number of targets: 3\n",
      "Cluster: 1, Number of targets: 3\n"
     ]
    }
   ],
   "source": [
    "best_cut = silhouette_scores.index(max(silhouette_scores)) + min_clusters\n",
    "print('Best number of clusters:', best_cut)\n",
    "\n",
    "clusters = fcluster(linkage_matrix, best_cut, criterion='maxclust')\n",
    "\n",
    "label_cluster = [[] for _ in range(max(clusters))]\n",
    "\n",
    "# Split the targets into clusters\n",
    "for i, cluster in enumerate(clusters):\n",
    "    label_cluster[cluster-1].append(label[:, i])\n",
    "    # print('Cluster: {}, Target: {}'.format(cluster-1, i))\n",
    "\n",
    "label_cluster = [np.array(cluster).T for cluster in label_cluster]\n",
    "\n",
    "# print the number of targets in each cluster\n",
    "for i, cluster in enumerate(label_cluster):\n",
    "    print('Cluster: {}, Number of targets: {}'.format(i, cluster.shape[1]))"
   ]
  },
  {
   "cell_type": "markdown",
   "metadata": {},
   "source": [
    "### Regressor Chain de Random Forest Clusterizado"
   ]
  },
  {
   "cell_type": "code",
   "execution_count": 37,
   "metadata": {},
   "outputs": [
    {
     "name": "stdout",
     "output_type": "stream",
     "text": [
      "Regressor chain of Random Forest Clusterizado:  0.6122266126923178\n"
     ]
    }
   ],
   "source": [
    "errors = []\n",
    "\n",
    "for i in range(len(label_cluster)):\n",
    "    y = label_cluster[i]\n",
    "    score = cross_validate(Chain_RandomForest(), data, y, cv=kfold, scoring=RRMSE_scorer)\n",
    "    score = np.sqrt(-score['test_score']).mean()\n",
    "    errors.append(score)\n",
    "    # print(score)\n",
    "\n",
    "error = np.mean(errors)\n",
    "print(\"Regressor chain of Random Forest Clusterizado: \", error)\n",
    "error_results.append(('Clusterizado Chain of RF',error))"
   ]
  },
  {
   "cell_type": "markdown",
   "metadata": {},
   "source": [
    "### Regressor Chain de Decision Tree Clusterizado"
   ]
  },
  {
   "cell_type": "code",
   "execution_count": 38,
   "metadata": {},
   "outputs": [
    {
     "name": "stdout",
     "output_type": "stream",
     "text": [
      "Regressor chain of Decision Tree Clusterizado:  0.7313384916660741\n"
     ]
    }
   ],
   "source": [
    "errors = []\n",
    "\n",
    "for i in range(len(label_cluster)):\n",
    "    y = label_cluster[i]\n",
    "    score = cross_validate(Chain_DecisionTree(), data, y, cv=kfold, scoring=RRMSE_scorer)\n",
    "    score = np.sqrt(-score['test_score']).mean()\n",
    "    errors.append(score)\n",
    "    # print(score)\n",
    "\n",
    "error = np.mean(errors)\n",
    "print(\"Regressor chain of Decision Tree Clusterizado: \", error)\n",
    "error_results.append(('Clusterizado Chain of DT',error))"
   ]
  },
  {
   "cell_type": "markdown",
   "metadata": {},
   "source": [
    "### Random forest Clusterizado"
   ]
  },
  {
   "cell_type": "code",
   "execution_count": 39,
   "metadata": {},
   "outputs": [
    {
     "name": "stdout",
     "output_type": "stream",
     "text": [
      "Random Forest Clusterizado:  0.6038325347822753\n"
     ]
    }
   ],
   "source": [
    "errors = []\n",
    "\n",
    "for i in range(len(label_cluster)):\n",
    "    y = label_cluster[i]\n",
    "    if y.shape[1] == 1:\n",
    "        y = y.ravel()\n",
    "    score = cross_validate(model_randomForest(), data, y, cv=kfold, scoring=RRMSE_scorer)\n",
    "    score = np.sqrt(-score['test_score']).mean()\n",
    "    errors.append(score)\n",
    "    # print(score)\n",
    "\n",
    "error = np.mean(errors)\n",
    "print(\"Random Forest Clusterizado: \", error)\n",
    "error_results.append(('Clusterizado RF',error))"
   ]
  },
  {
   "cell_type": "markdown",
   "metadata": {},
   "source": [
    "### Decision Tree Clusterizado"
   ]
  },
  {
   "cell_type": "code",
   "execution_count": 147,
   "metadata": {},
   "outputs": [
    {
     "name": "stdout",
     "output_type": "stream",
     "text": [
      "Decision Tree Clusterizado:  0.7241701718681511\n"
     ]
    }
   ],
   "source": [
    "errors = []\n",
    "\n",
    "for i in range(len(label_cluster)):\n",
    "    y = label_cluster[i]\n",
    "    if y.shape[1] == 1:\n",
    "        y = y.ravel()\n",
    "    score = cross_validate(model_dtree(), data, y, cv=kfold, scoring=RRMSE_scorer)\n",
    "    score = np.sqrt(-score['test_score']).mean()\n",
    "    errors.append(score)\n",
    "    # print(score)\n",
    "\n",
    "error = np.mean(errors)\n",
    "print(\"Decision Tree Clusterizado: \", error)\n",
    "error_results.append(('Clusterizado DT',error))"
   ]
  },
  {
   "cell_type": "markdown",
   "metadata": {},
   "source": [
    "### XGBoost Clusterizado"
   ]
  },
  {
   "cell_type": "code",
   "execution_count": 148,
   "metadata": {},
   "outputs": [
    {
     "name": "stdout",
     "output_type": "stream",
     "text": [
      "XGBoost Clusterizado:  0.6096394090519638\n"
     ]
    }
   ],
   "source": [
    "errors = []\n",
    "\n",
    "for i in range(len(label_cluster)):\n",
    "    y = label_cluster[i]\n",
    "    if y.shape[1] == 1:\n",
    "        y = y.ravel()\n",
    "    score = cross_validate(model_xgboost(), data, y, cv=kfold, scoring=RRMSE_scorer)\n",
    "    score = np.sqrt(-score['test_score']).mean()\n",
    "    errors.append(score)\n",
    "    # print(score)\n",
    "\n",
    "error = np.mean(errors)\n",
    "print(\"XGBoost Clusterizado: \", error)\n",
    "error_results.append(('Clusterizado XGBoost',error))"
   ]
  },
  {
   "cell_type": "code",
   "execution_count": 149,
   "metadata": {},
   "outputs": [
    {
     "name": "stdout",
     "output_type": "stream",
     "text": [
      "XGBoost Clusterizado Multi:  0.6098006808664792\n"
     ]
    }
   ],
   "source": [
    "errors = []\n",
    "\n",
    "for i in range(len(label_cluster)):\n",
    "    y = label_cluster[i]\n",
    "    if y.shape[1] == 1:\n",
    "        y = y.ravel()\n",
    "    score = cross_validate(model_xgboost_multi(), data, y, cv=kfold, scoring=RRMSE_scorer)\n",
    "    score = np.sqrt(-score['test_score']).mean()\n",
    "    errors.append(score)\n",
    "    # print(score)\n",
    "\n",
    "error = np.mean(errors)\n",
    "print(\"XGBoost Clusterizado Multi: \", error)\n",
    "error_results.append(('Clusterizado XGBoost Multi',error))"
   ]
  },
  {
   "cell_type": "markdown",
   "metadata": {},
   "source": [
    "## Método de Clusterização Randômica "
   ]
  },
  {
   "cell_type": "markdown",
   "metadata": {},
   "source": [
    "Antigo: pois agora itero 10 vezes para ter um resultado melhor "
   ]
  },
  {
   "cell_type": "code",
   "execution_count": 28,
   "metadata": {},
   "outputs": [],
   "source": [
    "# ITER = 10\n",
    "\n",
    "# max_clusters = np.random.randint(2, label.shape[1])\n",
    "\n",
    "# label_cluster_random = [[] for _ in range(max_clusters)]\n",
    "\n",
    "# lista = list(range(label.shape[1]))\n",
    "\n",
    "# # Passo 1: Distribua pelo menos um elemento para cada cluster\n",
    "# for cluster in range(max_clusters):\n",
    "#     element = lista.pop(np.random.randint(0, len(lista)))\n",
    "#     label_cluster_random[cluster-1].append(label[:, element])\n",
    "#     # print('Initial Cluster: {}, Target: {}'.format(cluster, element))\n",
    "\n",
    "# # Passo 2: Distribua os elementos restantes de forma aleatória\n",
    "# while lista:\n",
    "#     cluster = np.random.randint(0, max_clusters)\n",
    "#     element = lista.pop(0)\n",
    "#     label_cluster_random[cluster-1].append(label[:, element])\n",
    "#     # print('Random Cluster: {}, Target: {}'.format(cluster, element))\n",
    "\n",
    "# # print()\n",
    "\n",
    "# for i in range(len(label_cluster_random)):\n",
    "#     print(np.array(label_cluster_random[i]).T.shape)"
   ]
  },
  {
   "cell_type": "code",
   "execution_count": 41,
   "metadata": {},
   "outputs": [],
   "source": [
    "ITER = 10\n",
    "\n",
    "# Inicializa a lista para armazenar os resultados de cada iteração\n",
    "clusters_rand = []\n",
    "\n",
    "for _ in range(ITER):\n",
    "    max_clusters = np.random.randint(2, label.shape[1])\n",
    "    label_cluster_random = [[] for _ in range(max_clusters)]\n",
    "    lista = list(range(label.shape[1]))\n",
    "\n",
    "    # Passo 1: Distribua pelo menos um elemento para cada cluster\n",
    "    for cluster in range(max_clusters):\n",
    "        element = lista.pop(np.random.randint(0, len(lista)))\n",
    "        label_cluster_random[cluster-1].append(label[:, element])\n",
    "\n",
    "    # Passo 2: Distribua os elementos restantes de forma aleatória\n",
    "    while lista:\n",
    "        cluster = np.random.randint(0, max_clusters)\n",
    "        element = lista.pop(0)\n",
    "        label_cluster_random[cluster-1].append(label[:, element])\n",
    "\n",
    "    # Converte cada cluster em um array numpy e adiciona na lista de resultados\n",
    "    clusters_array = [np.array(cluster).T for cluster in label_cluster_random]\n",
    "    clusters_rand.append(clusters_array)\n",
    "\n",
    "\n",
    "# Exibindo as formas de cada iteração para verificação\n",
    "# for i in range(len(clusters_rand)):\n",
    "#     print(f'Iteração {i+1}:')\n",
    "#     for j in range(len(clusters_rand[i])):\n",
    "#         print(f'  Cluster {j+1}: {clusters_rand[i][j].shape}')\n"
   ]
  },
  {
   "cell_type": "code",
   "execution_count": 25,
   "metadata": {},
   "outputs": [
    {
     "name": "stdout",
     "output_type": "stream",
     "text": [
      "Random Forest Clusterizado Random:  0.6079620503097666\n"
     ]
    }
   ],
   "source": [
    "errors = []\n",
    "\n",
    "for i in range(len(clusters_rand)):\n",
    "    for j in range(len(clusters_rand[i])):\n",
    "        y = clusters_rand[i][j]\n",
    "        if y.shape[1] == 1:\n",
    "            y = y.ravel()\n",
    "        score = cross_validate(model_randomForest(), data, y, cv=kfold, scoring=RRMSE_scorer)\n",
    "        score = np.sqrt(-score['test_score']).mean()\n",
    "        errors.append(score)\n",
    "        # print(score)\n",
    "error = np.mean(errors)\n",
    "print(\"Random Forest Clusterizado Random: \", error)"
   ]
  },
  {
   "cell_type": "code",
   "execution_count": 27,
   "metadata": {},
   "outputs": [
    {
     "name": "stdout",
     "output_type": "stream",
     "text": [
      "Random Forest Clusterizado Random:  0.5852107469909058\n"
     ]
    }
   ],
   "source": [
    "errors = []\n",
    "\n",
    "for i in range(len(clusters_rand)):\n",
    "    for j in range(len(clusters_rand[i])):\n",
    "        y = clusters_rand[i][j]\n",
    "        if y.shape[1] == 1:\n",
    "            y = y.ravel()\n",
    "        score = cross_validate(model_randomForest(), data, y, cv=kfold, scoring=RRMSE_scorer)\n",
    "        score = np.sqrt(-score['test_score']).mean()\n",
    "        errors.append(score)\n",
    "        # print(score)\n",
    "\n",
    "error = np.mean(errors)\n",
    "print(\"Random Forest Clusterizado Random: \", error)\n",
    "error_results.append(('Random Cluster - RF',error))"
   ]
  },
  {
   "cell_type": "code",
   "execution_count": 152,
   "metadata": {},
   "outputs": [
    {
     "name": "stdout",
     "output_type": "stream",
     "text": [
      "Decision Tree Clusterizado:  0.6871690211457031\n"
     ]
    }
   ],
   "source": [
    "errors = []\n",
    "\n",
    "for i in range(len(clusters_rand)):\n",
    "    for j in range(len(clusters_rand[i])):\n",
    "        y = clusters_rand[i][j]\n",
    "        if y.shape[1] == 1:\n",
    "            y = y.ravel()\n",
    "        score = cross_validate(model_dtree(), data, y, cv=kfold, scoring=RRMSE_scorer)\n",
    "        score = np.sqrt(-score['test_score']).mean()\n",
    "        errors.append(score)\n",
    "        # print(score)\n",
    "\n",
    "error = np.mean(errors)\n",
    "print(\"Decision Tree Clusterizado: \", np.mean(errors))\n",
    "error_results.append(('Random Cluster - DT',error))"
   ]
  },
  {
   "cell_type": "code",
   "execution_count": 153,
   "metadata": {},
   "outputs": [
    {
     "name": "stdout",
     "output_type": "stream",
     "text": [
      "Regressor chain of Random Forest Clusterizado Random:  0.59010249346819\n"
     ]
    }
   ],
   "source": [
    "errors = []\n",
    "\n",
    "for i in range(len(clusters_rand)):\n",
    "    for j in range(len(clusters_rand[i])):\n",
    "        y = clusters_rand[i][j]\n",
    "        score = cross_validate(Chain_RandomForest(), data, y, cv=kfold, scoring=RRMSE_scorer)\n",
    "        score = np.sqrt(-score['test_score']).mean()\n",
    "        errors.append(score)\n",
    "        # print(score)\n",
    "\n",
    "error = np.mean(errors)\n",
    "print(\"Regressor chain of Random Forest Clusterizado Random: \", error)\n",
    "error_results.append(('Random Cluster - Chain of RF',error))"
   ]
  },
  {
   "cell_type": "code",
   "execution_count": 154,
   "metadata": {},
   "outputs": [
    {
     "name": "stdout",
     "output_type": "stream",
     "text": [
      "Regressor chain of Decision Tree Clusterizado Random:  0.6868797066433097\n"
     ]
    }
   ],
   "source": [
    "errors = []\n",
    "\n",
    "for i in range(len(clusters_rand)):\n",
    "    for j in range(len(clusters_rand[i])):\n",
    "        y = clusters_rand[i][j]\n",
    "        score = cross_validate(Chain_DecisionTree(), data, y, cv=kfold, scoring=RRMSE_scorer)\n",
    "        score = np.sqrt(-score['test_score']).mean()\n",
    "        errors.append(score)\n",
    "        # print(score)\n",
    "\n",
    "error = np.mean(errors)\n",
    "print(\"Regressor chain of Decision Tree Clusterizado Random: \", error)\n",
    "error_results.append(('Random Cluster - Chain of DT',error))"
   ]
  },
  {
   "cell_type": "code",
   "execution_count": 155,
   "metadata": {},
   "outputs": [
    {
     "name": "stdout",
     "output_type": "stream",
     "text": [
      "XGBoost Clusterizado Randômico:  0.5946698997399864\n"
     ]
    }
   ],
   "source": [
    "errors = []\n",
    "\n",
    "for i in range(len(clusters_rand)):\n",
    "    for j in range(len(clusters_rand[i])):\n",
    "        y = clusters_rand[i][j]\n",
    "        if y.shape[1] == 1:\n",
    "            y = y.ravel()\n",
    "        score = cross_validate(model_xgboost(), data, y, cv=kfold, scoring=RRMSE_scorer)\n",
    "        score = np.sqrt(-score['test_score']).mean()\n",
    "        errors.append(score)\n",
    "        # print(score)\n",
    "\n",
    "error = np.mean(errors)\n",
    "print(\"XGBoost Clusterizado Randômico: \", np.mean(errors))\n",
    "error_results.append(('Random Cluster - XGBoost',error))"
   ]
  },
  {
   "cell_type": "code",
   "execution_count": 157,
   "metadata": {},
   "outputs": [
    {
     "name": "stdout",
     "output_type": "stream",
     "text": [
      "XGBoost Multi Clusterizado Randômico:  0.5984787822967055\n"
     ]
    }
   ],
   "source": [
    "errors = []\n",
    "\n",
    "for i in range(len(clusters_rand)):\n",
    "    for j in range(len(clusters_rand[i])):\n",
    "        y = clusters_rand[i][j]\n",
    "        if y.shape[1] == 1:\n",
    "            y = y.ravel()\n",
    "        score = cross_validate(model_xgboost_multi(), data, y, cv=kfold, scoring=RRMSE_scorer)\n",
    "        score = np.sqrt(-score['test_score']).mean()\n",
    "        errors.append(score)\n",
    "        # print(score)\n",
    "\n",
    "error = np.mean(errors)\n",
    "print(\"XGBoost Multi Clusterizado Randômico: \", np.mean(errors))\n",
    "error_results.append(('Random Cluster - XGBoost Multi',error))"
   ]
  },
  {
   "cell_type": "markdown",
   "metadata": {},
   "source": [
    "#### Elbow Method dos targets"
   ]
  },
  {
   "cell_type": "code",
   "execution_count": 34,
   "metadata": {},
   "outputs": [
    {
     "data": {
      "image/png": "[encoded data removed]",
      "text/plain": [
       "<Figure size 640x480 with 1 Axes>"
      ]
     },
     "metadata": {},
     "output_type": "display_data"
    }
   ],
   "source": [
    "inertia_values = []\n",
    "\n",
    "for i in range(1, 10):\n",
    "    kmeans = KMeans(n_clusters=i, random_state=0, n_init='auto').fit(label)\n",
    "    inertia_values.append(kmeans.inertia_)\n",
    "\n",
    "plt.plot(range(1, 10), inertia_values, marker='o')\n",
    "plt.xlabel('Number of clusters')\n",
    "plt.ylabel('Inertia')\n",
    "plt.title('Elbow Method')\n",
    "plt.show()"
   ]
  },
  {
   "cell_type": "markdown",
   "metadata": {},
   "source": [
    "## Resultados "
   ]
  },
  {
   "cell_type": "code",
   "execution_count": 158,
   "metadata": {},
   "outputs": [
    {
     "data": {
      "text/html": [
       "<div>\n",
       "<style scoped>\n",
       "    .dataframe tbody tr th:only-of-type {\n",
       "        vertical-align: middle;\n",
       "    }\n",
       "\n",
       "    .dataframe tbody tr th {\n",
       "        vertical-align: top;\n",
       "    }\n",
       "\n",
       "    .dataframe thead th {\n",
       "        text-align: right;\n",
       "    }\n",
       "</style>\n",
       "<table border=\"1\" class=\"dataframe\">\n",
       "  <thead>\n",
       "    <tr style=\"text-align: right;\">\n",
       "      <th></th>\n",
       "      <th>Model</th>\n",
       "      <th>RRMSE</th>\n",
       "    </tr>\n",
       "  </thead>\n",
       "  <tbody>\n",
       "    <tr>\n",
       "      <th>0</th>\n",
       "      <td>RF</td>\n",
       "      <td>0.628470</td>\n",
       "    </tr>\n",
       "    <tr>\n",
       "      <th>1</th>\n",
       "      <td>DT</td>\n",
       "      <td>0.732174</td>\n",
       "    </tr>\n",
       "    <tr>\n",
       "      <th>2</th>\n",
       "      <td>DT c/ hiperparâmetro</td>\n",
       "      <td>0.689862</td>\n",
       "    </tr>\n",
       "    <tr>\n",
       "      <th>3</th>\n",
       "      <td>Chain of RF</td>\n",
       "      <td>0.616878</td>\n",
       "    </tr>\n",
       "    <tr>\n",
       "      <th>4</th>\n",
       "      <td>Chain of DT</td>\n",
       "      <td>0.720966</td>\n",
       "    </tr>\n",
       "    <tr>\n",
       "      <th>5</th>\n",
       "      <td>MultiOutput DT</td>\n",
       "      <td>0.721849</td>\n",
       "    </tr>\n",
       "    <tr>\n",
       "      <th>6</th>\n",
       "      <td>MultiOutput RF</td>\n",
       "      <td>0.612794</td>\n",
       "    </tr>\n",
       "    <tr>\n",
       "      <th>7</th>\n",
       "      <td>Clusterizado Chain of RF</td>\n",
       "      <td>0.611170</td>\n",
       "    </tr>\n",
       "    <tr>\n",
       "      <th>8</th>\n",
       "      <td>Clusterizado Chain of DT</td>\n",
       "      <td>0.720623</td>\n",
       "    </tr>\n",
       "    <tr>\n",
       "      <th>9</th>\n",
       "      <td>Clusterizado RF</td>\n",
       "      <td>0.609152</td>\n",
       "    </tr>\n",
       "    <tr>\n",
       "      <th>10</th>\n",
       "      <td>Clusterizado DT</td>\n",
       "      <td>0.724170</td>\n",
       "    </tr>\n",
       "    <tr>\n",
       "      <th>11</th>\n",
       "      <td>Clusterizado XGBoost</td>\n",
       "      <td>0.609639</td>\n",
       "    </tr>\n",
       "    <tr>\n",
       "      <th>12</th>\n",
       "      <td>Clusterizado XGBoost Multi</td>\n",
       "      <td>0.609801</td>\n",
       "    </tr>\n",
       "    <tr>\n",
       "      <th>13</th>\n",
       "      <td>Random Cluster - RF</td>\n",
       "      <td>0.589734</td>\n",
       "    </tr>\n",
       "    <tr>\n",
       "      <th>14</th>\n",
       "      <td>Random Cluster - DT</td>\n",
       "      <td>0.687169</td>\n",
       "    </tr>\n",
       "    <tr>\n",
       "      <th>15</th>\n",
       "      <td>Random Cluster - Chain of RF</td>\n",
       "      <td>0.590102</td>\n",
       "    </tr>\n",
       "    <tr>\n",
       "      <th>16</th>\n",
       "      <td>Random Cluster - Chain of DT</td>\n",
       "      <td>0.686880</td>\n",
       "    </tr>\n",
       "    <tr>\n",
       "      <th>17</th>\n",
       "      <td>Random Cluster - XGBoost</td>\n",
       "      <td>0.594670</td>\n",
       "    </tr>\n",
       "    <tr>\n",
       "      <th>18</th>\n",
       "      <td>Random Cluster - XGBoost Multi</td>\n",
       "      <td>0.594670</td>\n",
       "    </tr>\n",
       "    <tr>\n",
       "      <th>19</th>\n",
       "      <td>Random Cluster - XGBoost Multi</td>\n",
       "      <td>0.598479</td>\n",
       "    </tr>\n",
       "  </tbody>\n",
       "</table>\n",
       "</div>"
      ],
      "text/plain": [
       "                             Model     RRMSE\n",
       "0                               RF  0.628470\n",
       "1                               DT  0.732174\n",
       "2             DT c/ hiperparâmetro  0.689862\n",
       "3                      Chain of RF  0.616878\n",
       "4                      Chain of DT  0.720966\n",
       "5                   MultiOutput DT  0.721849\n",
       "6                   MultiOutput RF  0.612794\n",
       "7         Clusterizado Chain of RF  0.611170\n",
       "8         Clusterizado Chain of DT  0.720623\n",
       "9                  Clusterizado RF  0.609152\n",
       "10                 Clusterizado DT  0.724170\n",
       "11            Clusterizado XGBoost  0.609639\n",
       "12      Clusterizado XGBoost Multi  0.609801\n",
       "13             Random Cluster - RF  0.589734\n",
       "14             Random Cluster - DT  0.687169\n",
       "15    Random Cluster - Chain of RF  0.590102\n",
       "16    Random Cluster - Chain of DT  0.686880\n",
       "17        Random Cluster - XGBoost  0.594670\n",
       "18  Random Cluster - XGBoost Multi  0.594670\n",
       "19  Random Cluster - XGBoost Multi  0.598479"
      ]
     },
     "execution_count": 158,
     "metadata": {},
     "output_type": "execute_result"
    }
   ],
   "source": [
    "error_results = pd.DataFrame(error_results, columns=['Model', 'RRMSE'])\n",
    "error_results"
   ]
  },
  {
   "cell_type": "code",
   "execution_count": 159,
   "metadata": {},
   "outputs": [
    {
     "data": {
      "text/html": [
       "<div>\n",
       "<style scoped>\n",
       "    .dataframe tbody tr th:only-of-type {\n",
       "        vertical-align: middle;\n",
       "    }\n",
       "\n",
       "    .dataframe tbody tr th {\n",
       "        vertical-align: top;\n",
       "    }\n",
       "\n",
       "    .dataframe thead th {\n",
       "        text-align: right;\n",
       "    }\n",
       "</style>\n",
       "<table border=\"1\" class=\"dataframe\">\n",
       "  <thead>\n",
       "    <tr style=\"text-align: right;\">\n",
       "      <th></th>\n",
       "      <th>Model</th>\n",
       "      <th>RRMSE</th>\n",
       "    </tr>\n",
       "  </thead>\n",
       "  <tbody>\n",
       "    <tr>\n",
       "      <th>13</th>\n",
       "      <td>Random Cluster - RF</td>\n",
       "      <td>0.589734</td>\n",
       "    </tr>\n",
       "    <tr>\n",
       "      <th>15</th>\n",
       "      <td>Random Cluster - Chain of RF</td>\n",
       "      <td>0.590102</td>\n",
       "    </tr>\n",
       "    <tr>\n",
       "      <th>17</th>\n",
       "      <td>Random Cluster - XGBoost</td>\n",
       "      <td>0.594670</td>\n",
       "    </tr>\n",
       "    <tr>\n",
       "      <th>18</th>\n",
       "      <td>Random Cluster - XGBoost Multi</td>\n",
       "      <td>0.594670</td>\n",
       "    </tr>\n",
       "    <tr>\n",
       "      <th>19</th>\n",
       "      <td>Random Cluster - XGBoost Multi</td>\n",
       "      <td>0.598479</td>\n",
       "    </tr>\n",
       "    <tr>\n",
       "      <th>9</th>\n",
       "      <td>Clusterizado RF</td>\n",
       "      <td>0.609152</td>\n",
       "    </tr>\n",
       "    <tr>\n",
       "      <th>11</th>\n",
       "      <td>Clusterizado XGBoost</td>\n",
       "      <td>0.609639</td>\n",
       "    </tr>\n",
       "    <tr>\n",
       "      <th>12</th>\n",
       "      <td>Clusterizado XGBoost Multi</td>\n",
       "      <td>0.609801</td>\n",
       "    </tr>\n",
       "    <tr>\n",
       "      <th>7</th>\n",
       "      <td>Clusterizado Chain of RF</td>\n",
       "      <td>0.611170</td>\n",
       "    </tr>\n",
       "    <tr>\n",
       "      <th>6</th>\n",
       "      <td>MultiOutput RF</td>\n",
       "      <td>0.612794</td>\n",
       "    </tr>\n",
       "    <tr>\n",
       "      <th>3</th>\n",
       "      <td>Chain of RF</td>\n",
       "      <td>0.616878</td>\n",
       "    </tr>\n",
       "    <tr>\n",
       "      <th>0</th>\n",
       "      <td>RF</td>\n",
       "      <td>0.628470</td>\n",
       "    </tr>\n",
       "    <tr>\n",
       "      <th>16</th>\n",
       "      <td>Random Cluster - Chain of DT</td>\n",
       "      <td>0.686880</td>\n",
       "    </tr>\n",
       "    <tr>\n",
       "      <th>14</th>\n",
       "      <td>Random Cluster - DT</td>\n",
       "      <td>0.687169</td>\n",
       "    </tr>\n",
       "    <tr>\n",
       "      <th>2</th>\n",
       "      <td>DT c/ hiperparâmetro</td>\n",
       "      <td>0.689862</td>\n",
       "    </tr>\n",
       "    <tr>\n",
       "      <th>8</th>\n",
       "      <td>Clusterizado Chain of DT</td>\n",
       "      <td>0.720623</td>\n",
       "    </tr>\n",
       "    <tr>\n",
       "      <th>4</th>\n",
       "      <td>Chain of DT</td>\n",
       "      <td>0.720966</td>\n",
       "    </tr>\n",
       "    <tr>\n",
       "      <th>5</th>\n",
       "      <td>MultiOutput DT</td>\n",
       "      <td>0.721849</td>\n",
       "    </tr>\n",
       "    <tr>\n",
       "      <th>10</th>\n",
       "      <td>Clusterizado DT</td>\n",
       "      <td>0.724170</td>\n",
       "    </tr>\n",
       "    <tr>\n",
       "      <th>1</th>\n",
       "      <td>DT</td>\n",
       "      <td>0.732174</td>\n",
       "    </tr>\n",
       "  </tbody>\n",
       "</table>\n",
       "</div>"
      ],
      "text/plain": [
       "                             Model     RRMSE\n",
       "13             Random Cluster - RF  0.589734\n",
       "15    Random Cluster - Chain of RF  0.590102\n",
       "17        Random Cluster - XGBoost  0.594670\n",
       "18  Random Cluster - XGBoost Multi  0.594670\n",
       "19  Random Cluster - XGBoost Multi  0.598479\n",
       "9                  Clusterizado RF  0.609152\n",
       "11            Clusterizado XGBoost  0.609639\n",
       "12      Clusterizado XGBoost Multi  0.609801\n",
       "7         Clusterizado Chain of RF  0.611170\n",
       "6                   MultiOutput RF  0.612794\n",
       "3                      Chain of RF  0.616878\n",
       "0                               RF  0.628470\n",
       "16    Random Cluster - Chain of DT  0.686880\n",
       "14             Random Cluster - DT  0.687169\n",
       "2             DT c/ hiperparâmetro  0.689862\n",
       "8         Clusterizado Chain of DT  0.720623\n",
       "4                      Chain of DT  0.720966\n",
       "5                   MultiOutput DT  0.721849\n",
       "10                 Clusterizado DT  0.724170\n",
       "1                               DT  0.732174"
      ]
     },
     "execution_count": 159,
     "metadata": {},
     "output_type": "execute_result"
    }
   ],
   "source": [
    "#ordena os resultados por erro crescente\n",
    "error_results = error_results.sort_values(by='RRMSE', ascending=True)\n",
    "error_results"
   ]
  },
  {
   "cell_type": "code",
   "execution_count": 160,
   "metadata": {},
   "outputs": [
    {
     "data": {
      "text/html": [
       "<div>\n",
       "<style scoped>\n",
       "    .dataframe tbody tr th:only-of-type {\n",
       "        vertical-align: middle;\n",
       "    }\n",
       "\n",
       "    .dataframe tbody tr th {\n",
       "        vertical-align: top;\n",
       "    }\n",
       "\n",
       "    .dataframe thead th {\n",
       "        text-align: right;\n",
       "    }\n",
       "</style>\n",
       "<table border=\"1\" class=\"dataframe\">\n",
       "  <thead>\n",
       "    <tr style=\"text-align: right;\">\n",
       "      <th></th>\n",
       "      <th>Model</th>\n",
       "      <th>RRMSE</th>\n",
       "    </tr>\n",
       "  </thead>\n",
       "  <tbody>\n",
       "    <tr>\n",
       "      <th>4</th>\n",
       "      <td>Chain of DT</td>\n",
       "      <td>0.720966</td>\n",
       "    </tr>\n",
       "    <tr>\n",
       "      <th>3</th>\n",
       "      <td>Chain of RF</td>\n",
       "      <td>0.616878</td>\n",
       "    </tr>\n",
       "    <tr>\n",
       "      <th>8</th>\n",
       "      <td>Clusterizado Chain of DT</td>\n",
       "      <td>0.720623</td>\n",
       "    </tr>\n",
       "    <tr>\n",
       "      <th>7</th>\n",
       "      <td>Clusterizado Chain of RF</td>\n",
       "      <td>0.611170</td>\n",
       "    </tr>\n",
       "    <tr>\n",
       "      <th>10</th>\n",
       "      <td>Clusterizado DT</td>\n",
       "      <td>0.724170</td>\n",
       "    </tr>\n",
       "    <tr>\n",
       "      <th>9</th>\n",
       "      <td>Clusterizado RF</td>\n",
       "      <td>0.609152</td>\n",
       "    </tr>\n",
       "    <tr>\n",
       "      <th>11</th>\n",
       "      <td>Clusterizado XGBoost</td>\n",
       "      <td>0.609639</td>\n",
       "    </tr>\n",
       "    <tr>\n",
       "      <th>12</th>\n",
       "      <td>Clusterizado XGBoost Multi</td>\n",
       "      <td>0.609801</td>\n",
       "    </tr>\n",
       "    <tr>\n",
       "      <th>1</th>\n",
       "      <td>DT</td>\n",
       "      <td>0.732174</td>\n",
       "    </tr>\n",
       "    <tr>\n",
       "      <th>2</th>\n",
       "      <td>DT c/ hiperparâmetro</td>\n",
       "      <td>0.689862</td>\n",
       "    </tr>\n",
       "    <tr>\n",
       "      <th>5</th>\n",
       "      <td>MultiOutput DT</td>\n",
       "      <td>0.721849</td>\n",
       "    </tr>\n",
       "    <tr>\n",
       "      <th>6</th>\n",
       "      <td>MultiOutput RF</td>\n",
       "      <td>0.612794</td>\n",
       "    </tr>\n",
       "    <tr>\n",
       "      <th>0</th>\n",
       "      <td>RF</td>\n",
       "      <td>0.628470</td>\n",
       "    </tr>\n",
       "    <tr>\n",
       "      <th>16</th>\n",
       "      <td>Random Cluster - Chain of DT</td>\n",
       "      <td>0.686880</td>\n",
       "    </tr>\n",
       "    <tr>\n",
       "      <th>15</th>\n",
       "      <td>Random Cluster - Chain of RF</td>\n",
       "      <td>0.590102</td>\n",
       "    </tr>\n",
       "    <tr>\n",
       "      <th>14</th>\n",
       "      <td>Random Cluster - DT</td>\n",
       "      <td>0.687169</td>\n",
       "    </tr>\n",
       "    <tr>\n",
       "      <th>13</th>\n",
       "      <td>Random Cluster - RF</td>\n",
       "      <td>0.589734</td>\n",
       "    </tr>\n",
       "    <tr>\n",
       "      <th>17</th>\n",
       "      <td>Random Cluster - XGBoost</td>\n",
       "      <td>0.594670</td>\n",
       "    </tr>\n",
       "    <tr>\n",
       "      <th>19</th>\n",
       "      <td>Random Cluster - XGBoost Multi</td>\n",
       "      <td>0.598479</td>\n",
       "    </tr>\n",
       "    <tr>\n",
       "      <th>18</th>\n",
       "      <td>Random Cluster - XGBoost Multi</td>\n",
       "      <td>0.594670</td>\n",
       "    </tr>\n",
       "  </tbody>\n",
       "</table>\n",
       "</div>"
      ],
      "text/plain": [
       "                             Model     RRMSE\n",
       "4                      Chain of DT  0.720966\n",
       "3                      Chain of RF  0.616878\n",
       "8         Clusterizado Chain of DT  0.720623\n",
       "7         Clusterizado Chain of RF  0.611170\n",
       "10                 Clusterizado DT  0.724170\n",
       "9                  Clusterizado RF  0.609152\n",
       "11            Clusterizado XGBoost  0.609639\n",
       "12      Clusterizado XGBoost Multi  0.609801\n",
       "1                               DT  0.732174\n",
       "2             DT c/ hiperparâmetro  0.689862\n",
       "5                   MultiOutput DT  0.721849\n",
       "6                   MultiOutput RF  0.612794\n",
       "0                               RF  0.628470\n",
       "16    Random Cluster - Chain of DT  0.686880\n",
       "15    Random Cluster - Chain of RF  0.590102\n",
       "14             Random Cluster - DT  0.687169\n",
       "13             Random Cluster - RF  0.589734\n",
       "17        Random Cluster - XGBoost  0.594670\n",
       "19  Random Cluster - XGBoost Multi  0.598479\n",
       "18  Random Cluster - XGBoost Multi  0.594670"
      ]
     },
     "execution_count": 160,
     "metadata": {},
     "output_type": "execute_result"
    }
   ],
   "source": [
    "#ordena os resultados por nome do modelo crescente\n",
    "error_results = error_results.sort_values(by='Model', ascending=True)\n",
    "error_results"
   ]
  },
  {
   "cell_type": "code",
   "execution_count": null,
   "metadata": {},
   "outputs": [],
   "source": []
  }
 ],
 "metadata": {
  "colab": {
   "provenance": []
  },
  "kernelspec": {
   "display_name": "Python 3 (ipykernel)",
   "language": "python",
   "name": "python3"
  },
  "language_info": {
   "codemirror_mode": {
    "name": "ipython",
    "version": 3
   },
   "file_extension": ".py",
   "mimetype": "text/x-python",
   "name": "python",
   "nbconvert_exporter": "python",
   "pygments_lexer": "ipython3",
   "version": "3.10.9"
  }
 },
 "nbformat": 4,
 "nbformat_minor": 1
}
