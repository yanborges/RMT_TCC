{
 "cells": [
  {
   "cell_type": "markdown",
   "metadata": {},
   "source": [
    "## Importando bibliotecas "
   ]
  },
  {
   "cell_type": "code",
   "execution_count": 1,
   "metadata": {
    "id": "2cfVKzLtIRg1"
   },
   "outputs": [],
   "source": [
    "#Importando as bibliotecas necessárias\n",
    "import pandas as pd\n",
    "import numpy as np\n",
    "import math\n",
    "import config\n",
    "#import matplotlib.pyplot as plt\n",
    "\n",
    "from scipy.io.arff import loadarff\n",
    "\n",
    "from sklearn.multioutput import MultiOutputRegressor\n",
    "from sklearn.tree import DecisionTreeRegressor\n",
    "from sklearn.ensemble import RandomForestRegressor\n",
    "from sklearn.svm import SVR\n",
    "\n",
    "from sklearn.model_selection import KFold\n",
    "\n",
    "#Importando as bibliotecas referentes ao XGBoost\n",
    "import xgboost as xgb\n",
    "from xgboost import XGBRegressor\n",
    "\n",
    "#Importando as bibliotecas referentes ao ANN\n",
    "import tensorflow as tf\n",
    "from tensorflow import keras\n",
    "from keras import layers , models\n",
    "from keras.layers import Flatten, Dense, Dropout, Input\n",
    "from keras.models import Sequential\n"
   ]
  },
  {
   "cell_type": "markdown",
   "metadata": {
    "id": "RhU0QgcMSZyD"
   },
   "source": [
    "## A fazer\n",
    "\n",
    "RandomForest Global \\\n",
    "XGBoost"
   ]
  },
  {
   "cell_type": "markdown",
   "metadata": {
    "id": "xunbDQxaSAan"
   },
   "source": [
    "## Duvidas\n",
    "\n",
    "É preciso normalizar os dados?? \n",
    "Se o ANN ja esta fazendo validation_split e epochs, precisa do kfold(computacionalmente intenso)\n",
    "\n"
   ]
  },
  {
   "cell_type": "markdown",
   "metadata": {
    "id": "PUh8kiCjVxO0"
   },
   "source": [
    "## Funções"
   ]
  },
  {
   "cell_type": "markdown",
   "metadata": {},
   "source": [
    "### Modelos"
   ]
  },
  {
   "cell_type": "code",
   "execution_count": 3,
   "metadata": {
    "id": "byiB0yYdVwHx"
   },
   "outputs": [],
   "source": [
    "#DecisionTree\n",
    "def model_dtree(x_train,y_train,x_test,booster,eta,max_depth,colsample_bytree,subsample,min_child_weight,reg_lambda,num_boost,my_num):\n",
    "    bst = DecisionTreeRegressor().fit(x_train, y_train)\n",
    "    predict = bst.predict(x_test)\n",
    "    return predict\n",
    "\n",
    "#RandomForestRegressor\n",
    "def model_randomForest(x_train,y_train,x_test,my_num):\n",
    "    #booster,eta,max_depth,colsample_bytree,subsample,min_child_weight,reg_lambda,num_boost):\n",
    "    bst = RandomForestRegressor(n_estimators = my_num,n_jobs = -1).fit(x_train,y_train)\n",
    "    predict = bst.predict(x_test)\n",
    "    return predict\n",
    "\n",
    "#SVR\n",
    "def model_svr(x_train,y_train,x_test,ker,gam,c,epsi,shrink,verb,max_it):\n",
    "    bst = SVR(kernel=ker, gamma=gam, C=c, epsilon=epsi, shrinking=shrink, verbose=verb, max_iter=max_it).fit(x_train,y_train)\n",
    "    predict = bst.predict(x_test)\n",
    "    return predict\n",
    "\n",
    "def model_multi_dtree(x_train, y_train, x_test):\n",
    "    model = DecisionTreeRegressor()\n",
    "    bst = MultiOutputRegressor(model).fit(x_train, y_train)\n",
    "    predict = bst.predict(x_test)\n",
    "    return predict\n",
    "\n",
    "def model_ann_global(x_train, y_train, x_test):\n",
    "    model = Sequential()\n",
    "    model.add(Input(shape = (x_train.shape[1])))\n",
    "    model.add(Dense(64, activation='relu'))\n",
    "    model.add(Dropout(0.2))\n",
    "    model.add(Dense(32, activation='relu'))\n",
    "    model.add(Dropout(0.2))\n",
    "    model.add(Dense(y_train.shape[1], activation='linear'))\n",
    "\n",
    "    model.compile(optimizer='adam', loss='mse', metrics=['accuracy'])\n",
    "    model.fit(x_train, y_train, epochs=10, batch_size=32, verbose=0, validation_split=0.2)\n",
    "    \n",
    "    predict = model.predict(x_test)\n",
    "    return predict\n",
    "\n",
    "def model_ann_local(x_train, y_train, x_test):\n",
    "    predict_list = []\n",
    "    for i in range(y_train.shape[1]):\n",
    "        model = Sequential()\n",
    "        model.add(Input(shape = x_train.shape[1]))\n",
    "        model.add(Dense(x_train.shape[1]//2, activation='relu'))\n",
    "        model.add(Dropout(0.2))\n",
    "        model.add(Dense(x_train.shape[1]//6, activation='relu'))\n",
    "        model.add(Dropout(0.2))\n",
    "        model.add(Dense(x_train.shape[1]//18, activation='relu'))\n",
    "        model.add(Dropout(0.2))\n",
    "        model.add(Dense(1, activation='linear'))\n",
    "\n",
    "        model.compile(optimizer='adam', loss='mse', metrics=['accuracy'])\n",
    "        model.fit(x_train, y_train[:,i], epochs=10, batch_size=32, verbose=0, validation_split=0.2)\n",
    "\n",
    "        predict = model.predict(x_test)\n",
    "        predict_list.append(predict)\n",
    "    \n",
    "    predictions = np.concatenate(predict_list, axis=1)\n",
    "\n",
    "    return predictions\n",
    "    "
   ]
  },
  {
   "cell_type": "markdown",
   "metadata": {},
   "source": [
    "### Cálculo de erro "
   ]
  },
  {
   "cell_type": "code",
   "execution_count": 4,
   "metadata": {},
   "outputs": [],
   "source": [
    "def computer_RRMSE_list(real_test,result_p,real_train_mean):\n",
    "    \"\"\"RRMSE: Relative Root Mean Square Error\n",
    "        input: real_test: real test data\n",
    "              result_p: predicted data\n",
    "              real_train_mean: mean of real train data\n",
    "        output: RRMSE list \"\"\"\n",
    "\n",
    "    _list = []\n",
    "    for i in range(result_p.shape[1]):\n",
    "        fenzi = 0\n",
    "        fenmu = 0\n",
    "        for j in range(result_p.shape[0]):\n",
    "            fenzi += (result_p[j,i] - real_test[j,i])**2\n",
    "            fenmu += (real_train_mean[i] - real_test[j,i])**2\n",
    "        _list.append(math.sqrt(fenzi/fenmu))    \n",
    "    return _list"
   ]
  },
  {
   "cell_type": "markdown",
   "metadata": {
    "id": "unpvRVKQSTwF"
   },
   "source": [
    "## Implementação"
   ]
  },
  {
   "cell_type": "code",
   "execution_count": 36,
   "metadata": {
    "colab": {
     "base_uri": "https://localhost:8080/"
    },
    "id": "Ohf0EgDuYRXL",
    "outputId": "04f5473d-f761-4005-d640-dae2cb96522e"
   },
   "outputs": [
    {
     "name": "stdout",
     "output_type": "stream",
     "text": [
      "(154, 19)\n"
     ]
    }
   ],
   "source": [
    "path = \"../TCC/mtr-datasets/\"\n",
    "\n",
    "#text_file = input(\"dataset: \")\n",
    "text_file = 'edm'\n",
    "data, meta = loadarff(path + text_file + \".arff\")\n",
    "data = pd.DataFrame(data)\n",
    "\n",
    "data.reset_index(inplace=True)\n",
    "data.replace('?', np.nan, inplace=True)\n",
    "data.replace('     ?', np.nan, inplace=True)\n",
    "data = data.applymap(float)\n",
    "\n",
    "if config.all_config[text_file].get('sample_random') == True:\n",
    "    data = data.sample(frac=1,random_state = config.all_config[text_file].get('sample_random_num')).reset_index(drop=True)\n",
    "data = data.fillna(pd.Series(np.nanmean(data,axis=0),index=data.columns))\n",
    "label = data.iloc[:,-config.all_config[text_file].get('targets_num'):].values\n",
    "data = data.iloc[:,:-config.all_config[text_file].get('targets_num')].values"
   ]
  },
  {
   "cell_type": "markdown",
   "metadata": {},
   "source": [
    "#### MultiOutput Dtree"
   ]
  },
  {
   "cell_type": "code",
   "execution_count": 47,
   "metadata": {},
   "outputs": [
    {
     "name": "stdout",
     "output_type": "stream",
     "text": [
      "RRMSE:  [0.8945120735947261, 0.7071067811865476]\n",
      "RRMSE mean:  0.8008094273906368\n"
     ]
    }
   ],
   "source": [
    "# Teste Multi-dtree\n",
    "loss_list = [] \n",
    "kf = KFold(n_splits=config.all_config[text_file].get('paper_kFold'), shuffle=config.all_config[text_file].get('kfold_random'))\n",
    "for train_index , test_index in kf.split(data):\n",
    "    x_train, x_test = data[train_index], data[test_index]\n",
    "    y_train, y_test = label[train_index], label[test_index]\n",
    "    \n",
    "    result_p_train = model_multi_dtree(x_train, y_train, x_test)\n",
    "    loss_list_RRMSE = computer_RRMSE_list(y_test,result_p_train,np.mean(y_train,axis=0))\n",
    "\n",
    "print(\"RRMSE: \", loss_list_RRMSE)\n",
    "print(\"RRMSE mean: \", np.mean(loss_list_RRMSE))"
   ]
  },
  {
   "cell_type": "markdown",
   "metadata": {},
   "source": [
    "#### Random Forest Local "
   ]
  },
  {
   "cell_type": "code",
   "execution_count": 40,
   "metadata": {},
   "outputs": [
    {
     "name": "stdout",
     "output_type": "stream",
     "text": [
      "RRMSE:  [[0.57379056 0.59367751]\n",
      " [0.5142302  0.55673731]\n",
      " [0.65645042 0.45810442]\n",
      " [0.56435736 0.63305913]\n",
      " [0.16542698 0.66258362]\n",
      " [0.87163915 0.58206674]\n",
      " [1.02031143 0.67596228]\n",
      " [0.3191708  0.49182511]\n",
      " [0.61531383 1.03279808]\n",
      " [0.49860523 0.72015045]]\n",
      "RRMSE mean:  [0.5799296  0.64069646]\n"
     ]
    }
   ],
   "source": [
    "loss_list_RRMSE = []\n",
    "\n",
    "kf = KFold(n_splits=config.all_config[text_file].get('paper_kFold'),\n",
    "            shuffle=config.all_config[text_file].get('kfold_random'),\n",
    "            random_state=config.all_config[text_file].get('kfold_random_num'))\n",
    "\n",
    "for train_index, test_index in kf.split(data):\n",
    "    x_train, x_test = data[train_index], data[test_index]\n",
    "    y_train, y_test = label[train_index], label[test_index]\n",
    "\n",
    "    result_p_train = []\n",
    "    \n",
    "    for i in range(label.shape[1]):\n",
    "\n",
    "        predicted_test = None \n",
    "\n",
    "        if text_file in ['sf1', 'sf2']:\n",
    "            predicted_test = model_svr(x_train, y_train[:,i], x_test,\n",
    "                                    config.all_config[text_file].get('svr1_kernel'),\n",
    "                                    config.all_config[text_file].get('svr1_gamma'),\n",
    "                                    config.all_config[text_file].get('svr1_C'),\n",
    "                                    config.all_config[text_file].get('svr1_epsilon'),\n",
    "                                    config.all_config[text_file].get('svr1_shrinking'),\n",
    "                                    config.all_config[text_file].get('svr1_verbose'),\n",
    "                                    config.all_config[text_file].get('svr1_max_iter'))\n",
    "        else:\n",
    "            predicted_test = model_randomForest(x_train, y_train[:,i], x_test, my_num=100)\n",
    "            \n",
    "        result_p_train.append(predicted_test)\n",
    "\n",
    "    result_p_train = pd.DataFrame(result_p_train).T.values\n",
    "    real_train_mean = y_train.mean(axis=0)    \n",
    "    loss_list_RRMSE.append(computer_RRMSE_list(y_test,result_p_test,real_train_mean))\n",
    "\n",
    "\n",
    "loss_list_RRMSE_np = np.array(loss_list_RRMSE)\n",
    "print('RRMSE: ', loss_list_RRMSE_np)\n",
    "print('RRMSE mean: ',loss_list_RRMSE_np.mean(axis=0))\n"
   ]
  },
  {
   "cell_type": "markdown",
   "metadata": {},
   "source": [
    "#### ANN Global "
   ]
  },
  {
   "cell_type": "code",
   "execution_count": 42,
   "metadata": {},
   "outputs": [
    {
     "name": "stdout",
     "output_type": "stream",
     "text": [
      "1/1 [==============================] - 0s 40ms/step\n",
      "1/1 [==============================] - 0s 39ms/step\n",
      "1/1 [==============================] - 0s 43ms/step\n",
      "1/1 [==============================] - 0s 39ms/step\n",
      "1/1 [==============================] - 0s 40ms/step\n",
      "1/1 [==============================] - 0s 39ms/step\n",
      "1/1 [==============================] - 0s 40ms/step\n",
      "1/1 [==============================] - 0s 39ms/step\n",
      "1/1 [==============================] - 0s 39ms/step\n",
      "1/1 [==============================] - 0s 41ms/step\n",
      "RRMSE:  [[2.40731774 2.7391447 ]\n",
      " [4.0553366  1.11888183]\n",
      " [1.19307816 1.62058992]\n",
      " [4.4477298  1.2102089 ]\n",
      " [8.04938791 1.32459004]\n",
      " [2.65017405 1.38400914]\n",
      " [3.61227642 1.6584659 ]\n",
      " [5.15111159 1.50364246]\n",
      " [1.45767028 1.43351679]\n",
      " [1.81259779 1.99189972]]\n",
      "RRMSE mean:  [3.48366803 1.59849494]\n"
     ]
    }
   ],
   "source": [
    "loss_list_RRMSE = []\n",
    "\n",
    "kf = KFold(n_splits=config.all_config[text_file].get('paper_kFold'),\n",
    "            shuffle=config.all_config[text_file].get('kfold_random'),\n",
    "            random_state=config.all_config[text_file].get('kfold_random_num'))\n",
    "\n",
    "for train_index, test_index in kf.split(data):\n",
    "    x_train, x_test = data[train_index], data[test_index]\n",
    "    y_train, y_test = label[train_index], label[test_index]\n",
    "\n",
    "    result_p_train = model_ann_global(x_train, y_train, x_test)  # Call model_ann_global once\n",
    "    \n",
    "    real_train_mean = y_train.mean(axis=0)    \n",
    "    loss_list_RRMSE.append(computer_RRMSE_list(y_test, result_p_train, real_train_mean))\n",
    "\n",
    "loss_list_RRMSE_np = np.array(loss_list_RRMSE)\n",
    "print('RRMSE: ', loss_list_RRMSE_np)\n",
    "print('RRMSE mean: ', loss_list_RRMSE_np.mean(axis=0))"
   ]
  },
  {
   "cell_type": "markdown",
   "metadata": {},
   "source": [
    "#### ANN Local"
   ]
  },
  {
   "cell_type": "code",
   "execution_count": 41,
   "metadata": {},
   "outputs": [
    {
     "name": "stdout",
     "output_type": "stream",
     "text": [
      "1/1 [==============================] - 0s 48ms/step\n",
      "1/1 [==============================] - 0s 46ms/step\n",
      "1/1 [==============================] - 0s 45ms/step\n",
      "1/1 [==============================] - 0s 46ms/step\n",
      "1/1 [==============================] - 0s 47ms/step\n",
      "1/1 [==============================] - 0s 50ms/step\n",
      "1/1 [==============================] - 0s 45ms/step\n",
      "1/1 [==============================] - 0s 46ms/step\n",
      "1/1 [==============================] - 0s 49ms/step\n",
      "1/1 [==============================] - 0s 46ms/step\n",
      "1/1 [==============================] - 0s 44ms/step\n",
      "1/1 [==============================] - 0s 46ms/step\n",
      "1/1 [==============================] - 0s 46ms/step\n",
      "1/1 [==============================] - 0s 44ms/step\n",
      "1/1 [==============================] - 0s 49ms/step\n",
      "1/1 [==============================] - 0s 48ms/step\n",
      "1/1 [==============================] - 0s 53ms/step\n",
      "1/1 [==============================] - 0s 44ms/step\n",
      "1/1 [==============================] - 0s 45ms/step\n",
      "1/1 [==============================] - 0s 47ms/step\n",
      "RRMSE:  [[0.98918645 0.98828124]\n",
      " [0.99676859 0.98976319]\n",
      " [1.0481249  0.97595998]\n",
      " [0.97642306 0.99505678]\n",
      " [0.86068254 0.99804417]\n",
      " [1.04376054 1.00109515]\n",
      " [0.99634256 1.00144899]\n",
      " [1.04099167 0.99081032]\n",
      " [1.04024255 0.99975905]\n",
      " [1.01737861 0.99591707]]\n",
      "RRMSE mean:  [1.00099015 0.99361359]\n"
     ]
    }
   ],
   "source": [
    "loss_list_RRMSE = []\n",
    "\n",
    "kf = KFold(n_splits=config.all_config[text_file].get('paper_kFold'),\n",
    "            shuffle=config.all_config[text_file].get('kfold_random'),\n",
    "            random_state=config.all_config[text_file].get('kfold_random_num'))\n",
    "\n",
    "for train_index, test_index in kf.split(data):\n",
    "    x_train, x_test = data[train_index], data[test_index]\n",
    "    y_train, y_test = label[train_index], label[test_index]\n",
    "\n",
    "    result_p_train = model_ann_local(x_train, y_train, x_test)\n",
    "   \n",
    "    real_train_mean = y_train.mean(axis=0)    \n",
    "\n",
    "    result_p_train = pd.DataFrame(result_p_train).values\n",
    "    loss_list_RRMSE.append(computer_RRMSE_list(y_test, result_p_train, real_train_mean))\n",
    "\n",
    "    \n",
    "loss_list_RRMSE_np = np.array(loss_list_RRMSE)\n",
    "print('RRMSE: ', loss_list_RRMSE_np)\n",
    "print('RRMSE mean: ',loss_list_RRMSE_np.mean(axis=0))"
   ]
  },
  {
   "cell_type": "code",
   "execution_count": 48,
   "metadata": {},
   "outputs": [
    {
     "name": "stdout",
     "output_type": "stream",
     "text": [
      "2/2 [==============================] - 0s 2ms/step\n",
      "2/2 [==============================] - 0s 2ms/step\n",
      "2/2 [==============================] - 0s 1ms/step\n",
      "2/2 [==============================] - 0s 1ms/step\n",
      "2/2 [==============================] - 0s 1ms/step\n",
      "2/2 [==============================] - 0s 1ms/step\n",
      "2/2 [==============================] - 0s 1ms/step\n",
      "2/2 [==============================] - 0s 2ms/step\n",
      "2/2 [==============================] - 0s 1ms/step\n",
      "2/2 [==============================] - 0s 1ms/step\n",
      "2/2 [==============================] - 0s 2ms/step\n",
      "2/2 [==============================] - 0s 2ms/step\n",
      "2/2 [==============================] - 0s 1ms/step\n",
      "2/2 [==============================] - 0s 2ms/step\n",
      "2/2 [==============================] - 0s 2ms/step\n",
      "2/2 [==============================] - 0s 2ms/step\n",
      "2/2 [==============================] - 0s 1ms/step\n",
      "2/2 [==============================] - 0s 2ms/step\n",
      "2/2 [==============================] - 0s 2ms/step\n",
      "2/2 [==============================] - 0s 1ms/step\n",
      "2/2 [==============================] - 0s 1ms/step\n",
      "2/2 [==============================] - 0s 2ms/step\n",
      "2/2 [==============================] - 0s 3ms/step\n",
      "2/2 [==============================] - 0s 1ms/step\n",
      "2/2 [==============================] - 0s 1ms/step\n",
      "2/2 [==============================] - 0s 2ms/step\n",
      "2/2 [==============================] - 0s 2ms/step\n",
      "2/2 [==============================] - 0s 2ms/step\n",
      "2/2 [==============================] - 0s 1ms/step\n",
      "2/2 [==============================] - 0s 1ms/step\n",
      "2/2 [==============================] - 0s 3ms/step\n",
      "2/2 [==============================] - 0s 8ms/step\n",
      "2/2 [==============================] - 0s 2ms/step\n",
      "2/2 [==============================] - 0s 2ms/step\n",
      "2/2 [==============================] - 0s 1ms/step\n",
      "2/2 [==============================] - 0s 1ms/step\n"
     ]
    },
    {
     "ename": "ValueError",
     "evalue": "Must pass 2-d input. shape=(6, 34, 6)",
     "output_type": "error",
     "traceback": [
      "\u001b[0;31m---------------------------------------------------------------------------\u001b[0m",
      "\u001b[0;31mValueError\u001b[0m                                Traceback (most recent call last)",
      "\u001b[1;32m/Users/yangimenezborges/Documents/Faculdade/TCC/RMT_TCC.ipynb Cell 22\u001b[0m line \u001b[0;36m3\n\u001b[1;32m     <a href='vscode-notebook-cell:/Users/yangimenezborges/Documents/Faculdade/TCC/RMT_TCC.ipynb#X26sZmlsZQ%3D%3D?line=26'>27</a>\u001b[0m         predicted_test \u001b[39m=\u001b[39m model_ann_local(x_train, y_train, x_test)\n\u001b[1;32m     <a href='vscode-notebook-cell:/Users/yangimenezborges/Documents/Faculdade/TCC/RMT_TCC.ipynb#X26sZmlsZQ%3D%3D?line=28'>29</a>\u001b[0m     result_p_test\u001b[39m.\u001b[39mappend(predicted_test)\n\u001b[0;32m---> <a href='vscode-notebook-cell:/Users/yangimenezborges/Documents/Faculdade/TCC/RMT_TCC.ipynb#X26sZmlsZQ%3D%3D?line=30'>31</a>\u001b[0m result_p_test \u001b[39m=\u001b[39m pd\u001b[39m.\u001b[39;49mDataFrame(result_p_test)\u001b[39m.\u001b[39mT\u001b[39m.\u001b[39mvalues\n\u001b[1;32m     <a href='vscode-notebook-cell:/Users/yangimenezborges/Documents/Faculdade/TCC/RMT_TCC.ipynb#X26sZmlsZQ%3D%3D?line=31'>32</a>\u001b[0m real_train_mean \u001b[39m=\u001b[39m y_train\u001b[39m.\u001b[39mmean(axis\u001b[39m=\u001b[39m\u001b[39m0\u001b[39m)    \n\u001b[1;32m     <a href='vscode-notebook-cell:/Users/yangimenezborges/Documents/Faculdade/TCC/RMT_TCC.ipynb#X26sZmlsZQ%3D%3D?line=32'>33</a>\u001b[0m loss_list_RRMSE\u001b[39m.\u001b[39mappend(computer_RRMSE_list(y_test,result_p_test,real_train_mean))\n",
      "File \u001b[0;32m/opt/homebrew/lib/python3.10/site-packages/pandas/core/frame.py:761\u001b[0m, in \u001b[0;36mDataFrame.__init__\u001b[0;34m(self, data, index, columns, dtype, copy)\u001b[0m\n\u001b[1;32m    753\u001b[0m         mgr \u001b[39m=\u001b[39m arrays_to_mgr(\n\u001b[1;32m    754\u001b[0m             arrays,\n\u001b[1;32m    755\u001b[0m             columns,\n\u001b[0;32m   (...)\u001b[0m\n\u001b[1;32m    758\u001b[0m             typ\u001b[39m=\u001b[39mmanager,\n\u001b[1;32m    759\u001b[0m         )\n\u001b[1;32m    760\u001b[0m     \u001b[39melse\u001b[39;00m:\n\u001b[0;32m--> 761\u001b[0m         mgr \u001b[39m=\u001b[39m ndarray_to_mgr(\n\u001b[1;32m    762\u001b[0m             data,\n\u001b[1;32m    763\u001b[0m             index,\n\u001b[1;32m    764\u001b[0m             columns,\n\u001b[1;32m    765\u001b[0m             dtype\u001b[39m=\u001b[39;49mdtype,\n\u001b[1;32m    766\u001b[0m             copy\u001b[39m=\u001b[39;49mcopy,\n\u001b[1;32m    767\u001b[0m             typ\u001b[39m=\u001b[39;49mmanager,\n\u001b[1;32m    768\u001b[0m         )\n\u001b[1;32m    769\u001b[0m \u001b[39melse\u001b[39;00m:\n\u001b[1;32m    770\u001b[0m     mgr \u001b[39m=\u001b[39m dict_to_mgr(\n\u001b[1;32m    771\u001b[0m         {},\n\u001b[1;32m    772\u001b[0m         index,\n\u001b[0;32m   (...)\u001b[0m\n\u001b[1;32m    775\u001b[0m         typ\u001b[39m=\u001b[39mmanager,\n\u001b[1;32m    776\u001b[0m     )\n",
      "File \u001b[0;32m/opt/homebrew/lib/python3.10/site-packages/pandas/core/internals/construction.py:329\u001b[0m, in \u001b[0;36mndarray_to_mgr\u001b[0;34m(values, index, columns, dtype, copy, typ)\u001b[0m\n\u001b[1;32m    324\u001b[0m         values \u001b[39m=\u001b[39m values\u001b[39m.\u001b[39mreshape(\u001b[39m-\u001b[39m\u001b[39m1\u001b[39m, \u001b[39m1\u001b[39m)\n\u001b[1;32m    326\u001b[0m \u001b[39melse\u001b[39;00m:\n\u001b[1;32m    327\u001b[0m     \u001b[39m# by definition an array here\u001b[39;00m\n\u001b[1;32m    328\u001b[0m     \u001b[39m# the dtypes will be coerced to a single dtype\u001b[39;00m\n\u001b[0;32m--> 329\u001b[0m     values \u001b[39m=\u001b[39m _prep_ndarraylike(values, copy\u001b[39m=\u001b[39;49mcopy_on_sanitize)\n\u001b[1;32m    331\u001b[0m \u001b[39mif\u001b[39;00m dtype \u001b[39mis\u001b[39;00m \u001b[39mnot\u001b[39;00m \u001b[39mNone\u001b[39;00m \u001b[39mand\u001b[39;00m \u001b[39mnot\u001b[39;00m is_dtype_equal(values\u001b[39m.\u001b[39mdtype, dtype):\n\u001b[1;32m    332\u001b[0m     \u001b[39m# GH#40110 see similar check inside sanitize_array\u001b[39;00m\n\u001b[1;32m    333\u001b[0m     rcf \u001b[39m=\u001b[39m \u001b[39mnot\u001b[39;00m (is_integer_dtype(dtype) \u001b[39mand\u001b[39;00m values\u001b[39m.\u001b[39mdtype\u001b[39m.\u001b[39mkind \u001b[39m==\u001b[39m \u001b[39m\"\u001b[39m\u001b[39mf\u001b[39m\u001b[39m\"\u001b[39m)\n",
      "File \u001b[0;32m/opt/homebrew/lib/python3.10/site-packages/pandas/core/internals/construction.py:583\u001b[0m, in \u001b[0;36m_prep_ndarraylike\u001b[0;34m(values, copy)\u001b[0m\n\u001b[1;32m    581\u001b[0m     values \u001b[39m=\u001b[39m values\u001b[39m.\u001b[39mreshape((values\u001b[39m.\u001b[39mshape[\u001b[39m0\u001b[39m], \u001b[39m1\u001b[39m))\n\u001b[1;32m    582\u001b[0m \u001b[39melif\u001b[39;00m values\u001b[39m.\u001b[39mndim \u001b[39m!=\u001b[39m \u001b[39m2\u001b[39m:\n\u001b[0;32m--> 583\u001b[0m     \u001b[39mraise\u001b[39;00m \u001b[39mValueError\u001b[39;00m(\u001b[39mf\u001b[39m\u001b[39m\"\u001b[39m\u001b[39mMust pass 2-d input. shape=\u001b[39m\u001b[39m{\u001b[39;00mvalues\u001b[39m.\u001b[39mshape\u001b[39m}\u001b[39;00m\u001b[39m\"\u001b[39m)\n\u001b[1;32m    585\u001b[0m \u001b[39mreturn\u001b[39;00m values\n",
      "\u001b[0;31mValueError\u001b[0m: Must pass 2-d input. shape=(6, 34, 6)"
     ]
    }
   ],
   "source": [
    "# Ta errado ainda, \n",
    "# A funcao model_ann_local ta iterando sobre as colunas\n",
    "# e nesse código ta iterando de novo sobre as colunas\n",
    "\n",
    "loss_list_RRMSE = []\n",
    "\n",
    "kf = KFold(n_splits=config.all_config[text_file].get('paper_kFold'),\n",
    "            shuffle=config.all_config[text_file].get('kfold_random'),\n",
    "            random_state=config.all_config[text_file].get('kfold_random_num'))\n",
    "\n",
    "for train_index, test_index in kf.split(data):\n",
    "    x_train, x_test = data[train_index], data[test_index]\n",
    "    y_train, y_test = label[train_index], label[test_index]\n",
    "\n",
    "    result_p_test = []\n",
    "\n",
    "    for i in range(label.shape[1]):\n",
    "        \n",
    "        predicted_test = None \n",
    "\n",
    "        if text_file in ['sf1', 'sf2']:\n",
    "            predicted_test = model_svr(x_train, y_train[:,i], x_test, y_test[:,i],\n",
    "                                    config.all_config[text_file].get('svr1_kernel'),\n",
    "                                    config.all_config[text_file].get('svr1_gamma'),\n",
    "                                    config.all_config[text_file].get('svr1_C'),\n",
    "                                    config.all_config[text_file].get('svr1_epsilon'),\n",
    "                                    config.all_config[text_file].get('svr1_shrinking'),\n",
    "                                    config.all_config[text_file].get('svr1_verbose'),\n",
    "                                    config.all_config[text_file].get('svr1_max_iter'))\n",
    "        else:\n",
    "            predicted_test = model_ann_local(x_train, y_train, x_test)\n",
    "        \n",
    "        result_p_test.append(predicted_test)\n",
    "\n",
    "    result_p_test = pd.DataFrame(result_p_test).T.values\n",
    "    real_train_mean = y_train.mean(axis=0)    \n",
    "    loss_list_RRMSE.append(computer_RRMSE_list(y_test,result_p_test,real_train_mean))\n",
    "\n",
    "\n",
    "loss_list_RRMSE_np = np.array(loss_list_RRMSE)\n",
    "print('RRMSE: ',np.mean(loss_list_RRMSE_np))"
   ]
  }
 ],
 "metadata": {
  "colab": {
   "provenance": []
  },
  "kernelspec": {
   "display_name": "Python 3 (ipykernel)",
   "language": "python",
   "name": "python3"
  },
  "language_info": {
   "codemirror_mode": {
    "name": "ipython",
    "version": 3
   },
   "file_extension": ".py",
   "mimetype": "text/x-python",
   "name": "python",
   "nbconvert_exporter": "python",
   "pygments_lexer": "ipython3",
   "version": "3.10.9"
  }
 },
 "nbformat": 4,
 "nbformat_minor": 1
}
