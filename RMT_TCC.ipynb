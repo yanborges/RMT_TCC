{
 "cells": [
  {
   "cell_type": "markdown",
   "metadata": {},
   "source": [
    "## Importando bibliotecas "
   ]
  },
  {
   "cell_type": "code",
   "execution_count": 1,
   "metadata": {
    "id": "2cfVKzLtIRg1"
   },
   "outputs": [],
   "source": [
    "#Importando as bibliotecas necessárias\n",
    "import pandas as pd\n",
    "import numpy as np\n",
    "import math\n",
    "import config\n",
    "import matplotlib.pyplot as plt\n",
    "\n",
    "from scipy.io.arff import loadarff\n",
    "\n",
    "from sklearn.multioutput import MultiOutputRegressor\n",
    "from sklearn.tree import DecisionTreeRegressor\n",
    "from sklearn.ensemble import RandomForestRegressor\n",
    "from sklearn.svm import SVR\n",
    "from sklearn.preprocessing import StandardScaler\n",
    "from sklearn.multioutput import RegressorChain\n",
    "\n",
    "from sklearn.model_selection import KFold\n",
    "\n",
    "#Importando as bibliotecas referentes ao XGBoost\n",
    "import xgboost as xgb\n",
    "\n",
    "#Biblioteca do Kmeans\n",
    "from sklearn.cluster import KMeans\n",
    "from sklearn.model_selection import train_test_split\n",
    "from sklearn.metrics import silhouette_score\n"
   ]
  },
  {
   "cell_type": "markdown",
   "metadata": {
    "id": "PUh8kiCjVxO0"
   },
   "source": [
    "## Funções"
   ]
  },
  {
   "cell_type": "markdown",
   "metadata": {},
   "source": [
    "### Modelos"
   ]
  },
  {
   "cell_type": "code",
   "execution_count": 2,
   "metadata": {
    "id": "byiB0yYdVwHx"
   },
   "outputs": [],
   "source": [
    "#DecisionTree\n",
    "def model_dtree(x_train,y_train,x_test, max_depth):\n",
    "    bst = DecisionTreeRegressor(max_depth=max_depth).fit(x_train, y_train, max_depth)\n",
    "    predict = bst.predict(x_test)\n",
    "    return predict\n",
    "\n",
    "#RandomForestRegressor\n",
    "def model_randomForest(x_train,y_train,x_test,my_num, max_depth):\n",
    "    #booster,eta,max_depth,colsample_bytree,subsample,min_child_weight,reg_lambda,num_boost):\n",
    "    bst = RandomForestRegressor(n_estimators = my_num,n_jobs = -1, random_state=0, max_depth=max_depth).fit(x_train,y_train)\n",
    "    predict = bst.predict(x_test)\n",
    "    return predict\n",
    "\n",
    "#SVR\n",
    "#Não uso em nada\n",
    "def model_svr(x_train,y_train,x_test,ker,gam,c,epsi,shrink,verb,max_it):\n",
    "    bst = SVR(kernel=ker, gamma=gam, C=c, epsilon=epsi, shrinking=shrink, verbose=verb, max_iter=max_it).fit(x_train,y_train)\n",
    "    predict = bst.predict(x_test)\n",
    "    return predict\n",
    "\n",
    "def model_multi_dtree(x_train, y_train, x_test):\n",
    "    model = DecisionTreeRegressor()\n",
    "    bst = MultiOutputRegressor(model).fit(x_train, y_train)\n",
    "    predict = bst.predict(x_test)\n",
    "    return predict\n",
    "\n",
    "def model_xgboost(x_train, y_train, x_test):\n",
    "    param = {'max_depth': 4,\n",
    "             'eta': 0.05, \n",
    "             'objective': 'reg:squarederror',\n",
    "             'booster': 'gbtree',\n",
    "            }\n",
    "    bst = xgb.XGBRegressor(**param, n_estimators=100)\n",
    "    bst.fit(x_train, y_train) \n",
    "    predict = bst.predict(x_test)\n",
    "    return predict"
   ]
  },
  {
   "cell_type": "markdown",
   "metadata": {},
   "source": [
    "### Cálculo de erro "
   ]
  },
  {
   "cell_type": "code",
   "execution_count": 3,
   "metadata": {},
   "outputs": [],
   "source": [
    "def computer_RRMSE_list(real_test,result_p,real_train_mean):\n",
    "    \"\"\"RRMSE: Relative Root Mean Square Error\n",
    "        input: real_test: real test data\n",
    "              result_p: predicted data\n",
    "              real_train_mean: mean of real train data\n",
    "        output: RRMSE list \"\"\"\n",
    "\n",
    "    _list = []\n",
    "    for i in range(result_p.shape[1]):\n",
    "        fenzi = 0\n",
    "        fenmu = 0\n",
    "        for j in range(result_p.shape[0]):\n",
    "            fenzi += (result_p[j,i] - real_test[j,i])**2\n",
    "            fenmu += (real_train_mean[i] - real_test[j,i])**2\n",
    "        _list.append(math.sqrt(fenzi/fenmu))    \n",
    "    return _list\n",
    "\n",
    "# def calculate_RRMSE(targets, valor, targets_mean):\n",
    "#     loss_list_RRMSE = computer_RRMSE_list(targets, valor, targets_mean)\n",
    "#     loss_list_RRMSE_np = np.array(loss_list_RRMSE)\n",
    "#     mean_error = loss_list_RRMSE_np.mean(axis=0)\n",
    "#     return mean_error\n",
    "\n",
    "def calculate_RRMSE(targets, valor):\n",
    "    targets_mean = np.mean(targets, axis=0)\n",
    "    loss_list_RRMSE = computer_RRMSE_list(targets, valor, targets_mean)\n",
    "    mean_error = np.array(loss_list_RRMSE).mean(axis=0)\n",
    "    return mean_error\n"
   ]
  },
  {
   "cell_type": "markdown",
   "metadata": {
    "id": "unpvRVKQSTwF"
   },
   "source": [
    "## Implementação"
   ]
  },
  {
   "cell_type": "code",
   "execution_count": 4,
   "metadata": {
    "colab": {
     "base_uri": "https://localhost:8080/"
    },
    "id": "Ohf0EgDuYRXL",
    "outputId": "04f5473d-f761-4005-d640-dae2cb96522e"
   },
   "outputs": [],
   "source": [
    "path = \"../TCC/mtr-datasets/\"\n",
    "\n",
    "#text_file = input(\"dataset: \")\n",
    "text_file = 'atp1d'\n",
    "data, meta = loadarff(path + text_file + \".arff\")\n",
    "data = pd.DataFrame(data)\n",
    "\n",
    "data.reset_index(inplace=True)\n",
    "data.replace('?', np.nan, inplace=True)\n",
    "data.replace('     ?', np.nan, inplace=True)\n",
    "data = data.applymap(float)\n",
    "\n",
    "#Normalização\n",
    "scaler = StandardScaler()\n",
    "data = pd.DataFrame(scaler.fit_transform(data), columns=data.columns)\n",
    "\n",
    "\n",
    "if config.all_config[text_file].get('sample_random') == True:\n",
    "    data = data.sample(frac=1,random_state = config.all_config[text_file].get('sample_random_num')).reset_index(drop=True)\n",
    "data = data.fillna(pd.Series(np.nanmean(data,axis=0),index=data.columns))\n",
    "label = data.iloc[:,-config.all_config[text_file].get('targets_num'):].values\n",
    "data = data.iloc[:,:-config.all_config[text_file].get('targets_num')].values\n",
    "\n",
    "#Lista para comparar resultados de teste no final\n",
    "error_results = []"
   ]
  },
  {
   "cell_type": "markdown",
   "metadata": {},
   "source": [
    "### Separação dos dados em Treino e Teste \n"
   ]
  },
  {
   "cell_type": "code",
   "execution_count": 5,
   "metadata": {},
   "outputs": [],
   "source": [
    "x_train, x_test, y_train, y_test = train_test_split(data, label, test_size=0.25, random_state=42)\n",
    "\n",
    "# Variables to calculate RRMSE\n",
    "# real_test_mean = y_test.mean(axis=0)\n",
    "# real_train_mean = y_train.mean(axis=0)\n",
    "label_mean = label.mean(axis=0)"
   ]
  },
  {
   "cell_type": "markdown",
   "metadata": {},
   "source": [
    "### Baseline Regressor \n"
   ]
  },
  {
   "cell_type": "code",
   "execution_count": 6,
   "metadata": {},
   "outputs": [],
   "source": [
    "from sklearn.model_selection import cross_validate\n",
    "from sklearn.metrics import make_scorer\n",
    "\n",
    "RRMSE_scorer = make_scorer(calculate_RRMSE, greater_is_better=False)\n",
    "kfold = KFold(n_splits=5, shuffle=True, random_state=42)"
   ]
  },
  {
   "cell_type": "markdown",
   "metadata": {},
   "source": [
    "#### Random Forest e Decision Tree com cross validate "
   ]
  },
  {
   "cell_type": "code",
   "execution_count": 42,
   "metadata": {},
   "outputs": [
    {
     "data": {
      "text/plain": [
       "0.6249733671272005"
      ]
     },
     "execution_count": 42,
     "metadata": {},
     "output_type": "execute_result"
    }
   ],
   "source": [
    "score = cross_validate(RandomForestRegressor(n_estimators = 50,n_jobs = -1, random_state= 0), data, label, cv=kfold, scoring=RRMSE_scorer)\n",
    "score = np.sqrt(-score['test_score']).mean()\n",
    "score"
   ]
  },
  {
   "cell_type": "code",
   "execution_count": 41,
   "metadata": {},
   "outputs": [
    {
     "data": {
      "text/plain": [
       "0.7273992142677389"
      ]
     },
     "execution_count": 41,
     "metadata": {},
     "output_type": "execute_result"
    }
   ],
   "source": [
    "score = cross_validate(DecisionTreeRegressor(), data, label, cv=kfold, scoring=RRMSE_scorer)\n",
    "score = np.sqrt(-score['test_score']).mean()\n",
    "score"
   ]
  },
  {
   "cell_type": "markdown",
   "metadata": {},
   "source": [
    "Teste para definir bons parâmetros de decision tree"
   ]
  },
  {
   "cell_type": "code",
   "execution_count": 9,
   "metadata": {},
   "outputs": [
    {
     "name": "stdout",
     "output_type": "stream",
     "text": [
      "Best Max Depth: 3, Score: 0.70765\n",
      "Best Min Samples Leaf: 6, Score: 0.69388\n"
     ]
    }
   ],
   "source": [
    "def find_best_param(param_name):\n",
    "    errors = np.zeros(9)\n",
    "    for i in range(1, 10):\n",
    "        params = {'max_depth': i} if param_name == 'max_depth' else {'min_samples_leaf': i}\n",
    "        score = cross_validate(DecisionTreeRegressor(**params), data, label, cv=kfold, scoring=RRMSE_scorer)\n",
    "        score = np.sqrt(-score['test_score']).mean()\n",
    "        errors[i-1] = score\n",
    "\n",
    "    min_score = np.min(errors)\n",
    "    min_index = np.argmin(errors) + 1\n",
    "    return min_index, min_score\n",
    "\n",
    "best_max_depth, min_depth_score = find_best_param('max_depth')\n",
    "best_min_samples_leaf, min_leaf_score = find_best_param('min_samples_leaf')\n",
    "\n",
    "print(\"Best Max Depth: {}, Score: {:.5f}\".format(best_max_depth, min_depth_score))\n",
    "print(\"Best Min Samples Leaf: {}, Score: {:.5f}\".format(best_min_samples_leaf, min_leaf_score))"
   ]
  },
  {
   "cell_type": "code",
   "execution_count": 10,
   "metadata": {},
   "outputs": [
    {
     "name": "stdout",
     "output_type": "stream",
     "text": [
      "Melhor valor para max_depth: 9, min_samples_leaf: 6\n",
      "Erro mínimo encontrado: 0.69096\n"
     ]
    }
   ],
   "source": [
    "\n",
    "matrix_errors = np.zeros((9, 9))  # Matriz de zeros para armazenar os erros\n",
    "\n",
    "for i in range(1, 10):\n",
    "    for j in range(1, 10):\n",
    "        score = cross_validate(DecisionTreeRegressor(max_depth=i, min_samples_leaf=j), data, label, cv=kfold, scoring=RRMSE_scorer)\n",
    "        score = np.sqrt(-score['test_score']).mean()\n",
    "        matrix_errors[i-1][j-1] = score  # Salva o erro na posição correspondente da matriz\n",
    "\n",
    "min_score = np.min(matrix_errors)  # Encontra o menor erro na matriz\n",
    "best_max_depth, best_min_samples_leaf = np.unravel_index(np.argmin(matrix_errors), matrix_errors.shape)  # Encontra os índices do menor erro\n",
    "\n",
    "print(\"Melhor valor para max_depth: {}, min_samples_leaf: {}\".format(best_max_depth+1, best_min_samples_leaf+1))\n",
    "print(\"Erro mínimo encontrado: {:.5f}\".format(min_score))"
   ]
  },
  {
   "cell_type": "markdown",
   "metadata": {},
   "source": [
    "#### Decision Tree Local "
   ]
  },
  {
   "cell_type": "markdown",
   "metadata": {},
   "source": [
    "Esta errado pq nao esta usando cross validate "
   ]
  },
  {
   "cell_type": "code",
   "execution_count": 11,
   "metadata": {},
   "outputs": [
    {
     "name": "stderr",
     "output_type": "stream",
     "text": [
      "/opt/homebrew/lib/python3.10/site-packages/sklearn/model_selection/_validation.py:778: UserWarning: Scoring failed. The score on this train-test partition for these parameters will be set to nan. Details: \n",
      "Traceback (most recent call last):\n",
      "  File \"/opt/homebrew/lib/python3.10/site-packages/sklearn/model_selection/_validation.py\", line 767, in _score\n",
      "    scores = scorer(estimator, X_test, y_test)\n",
      "  File \"/opt/homebrew/lib/python3.10/site-packages/sklearn/metrics/_scorer.py\", line 234, in __call__\n",
      "    return self._score(\n",
      "  File \"/opt/homebrew/lib/python3.10/site-packages/sklearn/metrics/_scorer.py\", line 282, in _score\n",
      "    return self._sign * self._score_func(y_true, y_pred, **self._kwargs)\n",
      "  File \"/var/folders/0f/cyrznsrn06xcrs6sr4j3d8100000gn/T/ipykernel_850/317816274.py\", line 26, in calculate_RRMSE\n",
      "    loss_list_RRMSE = computer_RRMSE_list(targets, valor, targets_mean)\n",
      "  File \"/var/folders/0f/cyrznsrn06xcrs6sr4j3d8100000gn/T/ipykernel_850/317816274.py\", line 9, in computer_RRMSE_list\n",
      "    for i in range(result_p.shape[1]):\n",
      "IndexError: tuple index out of range\n",
      "\n",
      "  warnings.warn(\n",
      "/opt/homebrew/lib/python3.10/site-packages/sklearn/model_selection/_validation.py:778: UserWarning: Scoring failed. The score on this train-test partition for these parameters will be set to nan. Details: \n",
      "Traceback (most recent call last):\n",
      "  File \"/opt/homebrew/lib/python3.10/site-packages/sklearn/model_selection/_validation.py\", line 767, in _score\n",
      "    scores = scorer(estimator, X_test, y_test)\n",
      "  File \"/opt/homebrew/lib/python3.10/site-packages/sklearn/metrics/_scorer.py\", line 234, in __call__\n",
      "    return self._score(\n",
      "  File \"/opt/homebrew/lib/python3.10/site-packages/sklearn/metrics/_scorer.py\", line 282, in _score\n",
      "    return self._sign * self._score_func(y_true, y_pred, **self._kwargs)\n",
      "  File \"/var/folders/0f/cyrznsrn06xcrs6sr4j3d8100000gn/T/ipykernel_850/317816274.py\", line 26, in calculate_RRMSE\n",
      "    loss_list_RRMSE = computer_RRMSE_list(targets, valor, targets_mean)\n",
      "  File \"/var/folders/0f/cyrznsrn06xcrs6sr4j3d8100000gn/T/ipykernel_850/317816274.py\", line 9, in computer_RRMSE_list\n",
      "    for i in range(result_p.shape[1]):\n",
      "IndexError: tuple index out of range\n",
      "\n",
      "  warnings.warn(\n",
      "/opt/homebrew/lib/python3.10/site-packages/sklearn/model_selection/_validation.py:778: UserWarning: Scoring failed. The score on this train-test partition for these parameters will be set to nan. Details: \n",
      "Traceback (most recent call last):\n",
      "  File \"/opt/homebrew/lib/python3.10/site-packages/sklearn/model_selection/_validation.py\", line 767, in _score\n",
      "    scores = scorer(estimator, X_test, y_test)\n",
      "  File \"/opt/homebrew/lib/python3.10/site-packages/sklearn/metrics/_scorer.py\", line 234, in __call__\n",
      "    return self._score(\n",
      "  File \"/opt/homebrew/lib/python3.10/site-packages/sklearn/metrics/_scorer.py\", line 282, in _score\n",
      "    return self._sign * self._score_func(y_true, y_pred, **self._kwargs)\n",
      "  File \"/var/folders/0f/cyrznsrn06xcrs6sr4j3d8100000gn/T/ipykernel_850/317816274.py\", line 26, in calculate_RRMSE\n",
      "    loss_list_RRMSE = computer_RRMSE_list(targets, valor, targets_mean)\n",
      "  File \"/var/folders/0f/cyrznsrn06xcrs6sr4j3d8100000gn/T/ipykernel_850/317816274.py\", line 9, in computer_RRMSE_list\n",
      "    for i in range(result_p.shape[1]):\n",
      "IndexError: tuple index out of range\n",
      "\n",
      "  warnings.warn(\n",
      "/opt/homebrew/lib/python3.10/site-packages/sklearn/model_selection/_validation.py:778: UserWarning: Scoring failed. The score on this train-test partition for these parameters will be set to nan. Details: \n",
      "Traceback (most recent call last):\n",
      "  File \"/opt/homebrew/lib/python3.10/site-packages/sklearn/model_selection/_validation.py\", line 767, in _score\n",
      "    scores = scorer(estimator, X_test, y_test)\n",
      "  File \"/opt/homebrew/lib/python3.10/site-packages/sklearn/metrics/_scorer.py\", line 234, in __call__\n",
      "    return self._score(\n",
      "  File \"/opt/homebrew/lib/python3.10/site-packages/sklearn/metrics/_scorer.py\", line 282, in _score\n",
      "    return self._sign * self._score_func(y_true, y_pred, **self._kwargs)\n",
      "  File \"/var/folders/0f/cyrznsrn06xcrs6sr4j3d8100000gn/T/ipykernel_850/317816274.py\", line 26, in calculate_RRMSE\n",
      "    loss_list_RRMSE = computer_RRMSE_list(targets, valor, targets_mean)\n",
      "  File \"/var/folders/0f/cyrznsrn06xcrs6sr4j3d8100000gn/T/ipykernel_850/317816274.py\", line 9, in computer_RRMSE_list\n",
      "    for i in range(result_p.shape[1]):\n",
      "IndexError: tuple index out of range\n",
      "\n",
      "  warnings.warn(\n",
      "/opt/homebrew/lib/python3.10/site-packages/sklearn/model_selection/_validation.py:778: UserWarning: Scoring failed. The score on this train-test partition for these parameters will be set to nan. Details: \n",
      "Traceback (most recent call last):\n",
      "  File \"/opt/homebrew/lib/python3.10/site-packages/sklearn/model_selection/_validation.py\", line 767, in _score\n",
      "    scores = scorer(estimator, X_test, y_test)\n",
      "  File \"/opt/homebrew/lib/python3.10/site-packages/sklearn/metrics/_scorer.py\", line 234, in __call__\n",
      "    return self._score(\n",
      "  File \"/opt/homebrew/lib/python3.10/site-packages/sklearn/metrics/_scorer.py\", line 282, in _score\n",
      "    return self._sign * self._score_func(y_true, y_pred, **self._kwargs)\n",
      "  File \"/var/folders/0f/cyrznsrn06xcrs6sr4j3d8100000gn/T/ipykernel_850/317816274.py\", line 26, in calculate_RRMSE\n",
      "    loss_list_RRMSE = computer_RRMSE_list(targets, valor, targets_mean)\n",
      "  File \"/var/folders/0f/cyrznsrn06xcrs6sr4j3d8100000gn/T/ipykernel_850/317816274.py\", line 9, in computer_RRMSE_list\n",
      "    for i in range(result_p.shape[1]):\n",
      "IndexError: tuple index out of range\n",
      "\n",
      "  warnings.warn(\n",
      "/opt/homebrew/lib/python3.10/site-packages/sklearn/model_selection/_validation.py:778: UserWarning: Scoring failed. The score on this train-test partition for these parameters will be set to nan. Details: \n",
      "Traceback (most recent call last):\n",
      "  File \"/opt/homebrew/lib/python3.10/site-packages/sklearn/model_selection/_validation.py\", line 767, in _score\n",
      "    scores = scorer(estimator, X_test, y_test)\n",
      "  File \"/opt/homebrew/lib/python3.10/site-packages/sklearn/metrics/_scorer.py\", line 234, in __call__\n",
      "    return self._score(\n",
      "  File \"/opt/homebrew/lib/python3.10/site-packages/sklearn/metrics/_scorer.py\", line 282, in _score\n",
      "    return self._sign * self._score_func(y_true, y_pred, **self._kwargs)\n",
      "  File \"/var/folders/0f/cyrznsrn06xcrs6sr4j3d8100000gn/T/ipykernel_850/317816274.py\", line 26, in calculate_RRMSE\n",
      "    loss_list_RRMSE = computer_RRMSE_list(targets, valor, targets_mean)\n",
      "  File \"/var/folders/0f/cyrznsrn06xcrs6sr4j3d8100000gn/T/ipykernel_850/317816274.py\", line 9, in computer_RRMSE_list\n",
      "    for i in range(result_p.shape[1]):\n",
      "IndexError: tuple index out of range\n",
      "\n",
      "  warnings.warn(\n",
      "/opt/homebrew/lib/python3.10/site-packages/sklearn/model_selection/_validation.py:778: UserWarning: Scoring failed. The score on this train-test partition for these parameters will be set to nan. Details: \n",
      "Traceback (most recent call last):\n",
      "  File \"/opt/homebrew/lib/python3.10/site-packages/sklearn/model_selection/_validation.py\", line 767, in _score\n",
      "    scores = scorer(estimator, X_test, y_test)\n",
      "  File \"/opt/homebrew/lib/python3.10/site-packages/sklearn/metrics/_scorer.py\", line 234, in __call__\n",
      "    return self._score(\n",
      "  File \"/opt/homebrew/lib/python3.10/site-packages/sklearn/metrics/_scorer.py\", line 282, in _score\n",
      "    return self._sign * self._score_func(y_true, y_pred, **self._kwargs)\n",
      "  File \"/var/folders/0f/cyrznsrn06xcrs6sr4j3d8100000gn/T/ipykernel_850/317816274.py\", line 26, in calculate_RRMSE\n",
      "    loss_list_RRMSE = computer_RRMSE_list(targets, valor, targets_mean)\n",
      "  File \"/var/folders/0f/cyrznsrn06xcrs6sr4j3d8100000gn/T/ipykernel_850/317816274.py\", line 9, in computer_RRMSE_list\n",
      "    for i in range(result_p.shape[1]):\n",
      "IndexError: tuple index out of range\n",
      "\n",
      "  warnings.warn(\n",
      "/opt/homebrew/lib/python3.10/site-packages/sklearn/model_selection/_validation.py:778: UserWarning: Scoring failed. The score on this train-test partition for these parameters will be set to nan. Details: \n",
      "Traceback (most recent call last):\n",
      "  File \"/opt/homebrew/lib/python3.10/site-packages/sklearn/model_selection/_validation.py\", line 767, in _score\n",
      "    scores = scorer(estimator, X_test, y_test)\n",
      "  File \"/opt/homebrew/lib/python3.10/site-packages/sklearn/metrics/_scorer.py\", line 234, in __call__\n",
      "    return self._score(\n",
      "  File \"/opt/homebrew/lib/python3.10/site-packages/sklearn/metrics/_scorer.py\", line 282, in _score\n",
      "    return self._sign * self._score_func(y_true, y_pred, **self._kwargs)\n",
      "  File \"/var/folders/0f/cyrznsrn06xcrs6sr4j3d8100000gn/T/ipykernel_850/317816274.py\", line 26, in calculate_RRMSE\n",
      "    loss_list_RRMSE = computer_RRMSE_list(targets, valor, targets_mean)\n",
      "  File \"/var/folders/0f/cyrznsrn06xcrs6sr4j3d8100000gn/T/ipykernel_850/317816274.py\", line 9, in computer_RRMSE_list\n",
      "    for i in range(result_p.shape[1]):\n",
      "IndexError: tuple index out of range\n",
      "\n",
      "  warnings.warn(\n",
      "/opt/homebrew/lib/python3.10/site-packages/sklearn/model_selection/_validation.py:778: UserWarning: Scoring failed. The score on this train-test partition for these parameters will be set to nan. Details: \n",
      "Traceback (most recent call last):\n",
      "  File \"/opt/homebrew/lib/python3.10/site-packages/sklearn/model_selection/_validation.py\", line 767, in _score\n",
      "    scores = scorer(estimator, X_test, y_test)\n",
      "  File \"/opt/homebrew/lib/python3.10/site-packages/sklearn/metrics/_scorer.py\", line 234, in __call__\n",
      "    return self._score(\n",
      "  File \"/opt/homebrew/lib/python3.10/site-packages/sklearn/metrics/_scorer.py\", line 282, in _score\n",
      "    return self._sign * self._score_func(y_true, y_pred, **self._kwargs)\n",
      "  File \"/var/folders/0f/cyrznsrn06xcrs6sr4j3d8100000gn/T/ipykernel_850/317816274.py\", line 26, in calculate_RRMSE\n",
      "    loss_list_RRMSE = computer_RRMSE_list(targets, valor, targets_mean)\n",
      "  File \"/var/folders/0f/cyrznsrn06xcrs6sr4j3d8100000gn/T/ipykernel_850/317816274.py\", line 9, in computer_RRMSE_list\n",
      "    for i in range(result_p.shape[1]):\n",
      "IndexError: tuple index out of range\n",
      "\n",
      "  warnings.warn(\n",
      "/opt/homebrew/lib/python3.10/site-packages/sklearn/model_selection/_validation.py:778: UserWarning: Scoring failed. The score on this train-test partition for these parameters will be set to nan. Details: \n",
      "Traceback (most recent call last):\n",
      "  File \"/opt/homebrew/lib/python3.10/site-packages/sklearn/model_selection/_validation.py\", line 767, in _score\n",
      "    scores = scorer(estimator, X_test, y_test)\n",
      "  File \"/opt/homebrew/lib/python3.10/site-packages/sklearn/metrics/_scorer.py\", line 234, in __call__\n",
      "    return self._score(\n",
      "  File \"/opt/homebrew/lib/python3.10/site-packages/sklearn/metrics/_scorer.py\", line 282, in _score\n",
      "    return self._sign * self._score_func(y_true, y_pred, **self._kwargs)\n",
      "  File \"/var/folders/0f/cyrznsrn06xcrs6sr4j3d8100000gn/T/ipykernel_850/317816274.py\", line 26, in calculate_RRMSE\n",
      "    loss_list_RRMSE = computer_RRMSE_list(targets, valor, targets_mean)\n",
      "  File \"/var/folders/0f/cyrznsrn06xcrs6sr4j3d8100000gn/T/ipykernel_850/317816274.py\", line 9, in computer_RRMSE_list\n",
      "    for i in range(result_p.shape[1]):\n",
      "IndexError: tuple index out of range\n",
      "\n",
      "  warnings.warn(\n",
      "/opt/homebrew/lib/python3.10/site-packages/sklearn/model_selection/_validation.py:778: UserWarning: Scoring failed. The score on this train-test partition for these parameters will be set to nan. Details: \n",
      "Traceback (most recent call last):\n",
      "  File \"/opt/homebrew/lib/python3.10/site-packages/sklearn/model_selection/_validation.py\", line 767, in _score\n",
      "    scores = scorer(estimator, X_test, y_test)\n",
      "  File \"/opt/homebrew/lib/python3.10/site-packages/sklearn/metrics/_scorer.py\", line 234, in __call__\n",
      "    return self._score(\n",
      "  File \"/opt/homebrew/lib/python3.10/site-packages/sklearn/metrics/_scorer.py\", line 282, in _score\n",
      "    return self._sign * self._score_func(y_true, y_pred, **self._kwargs)\n",
      "  File \"/var/folders/0f/cyrznsrn06xcrs6sr4j3d8100000gn/T/ipykernel_850/317816274.py\", line 26, in calculate_RRMSE\n",
      "    loss_list_RRMSE = computer_RRMSE_list(targets, valor, targets_mean)\n",
      "  File \"/var/folders/0f/cyrznsrn06xcrs6sr4j3d8100000gn/T/ipykernel_850/317816274.py\", line 9, in computer_RRMSE_list\n",
      "    for i in range(result_p.shape[1]):\n",
      "IndexError: tuple index out of range\n",
      "\n",
      "  warnings.warn(\n",
      "/opt/homebrew/lib/python3.10/site-packages/sklearn/model_selection/_validation.py:778: UserWarning: Scoring failed. The score on this train-test partition for these parameters will be set to nan. Details: \n",
      "Traceback (most recent call last):\n",
      "  File \"/opt/homebrew/lib/python3.10/site-packages/sklearn/model_selection/_validation.py\", line 767, in _score\n",
      "    scores = scorer(estimator, X_test, y_test)\n",
      "  File \"/opt/homebrew/lib/python3.10/site-packages/sklearn/metrics/_scorer.py\", line 234, in __call__\n",
      "    return self._score(\n",
      "  File \"/opt/homebrew/lib/python3.10/site-packages/sklearn/metrics/_scorer.py\", line 282, in _score\n",
      "    return self._sign * self._score_func(y_true, y_pred, **self._kwargs)\n",
      "  File \"/var/folders/0f/cyrznsrn06xcrs6sr4j3d8100000gn/T/ipykernel_850/317816274.py\", line 26, in calculate_RRMSE\n",
      "    loss_list_RRMSE = computer_RRMSE_list(targets, valor, targets_mean)\n",
      "  File \"/var/folders/0f/cyrznsrn06xcrs6sr4j3d8100000gn/T/ipykernel_850/317816274.py\", line 9, in computer_RRMSE_list\n",
      "    for i in range(result_p.shape[1]):\n",
      "IndexError: tuple index out of range\n",
      "\n",
      "  warnings.warn(\n",
      "/opt/homebrew/lib/python3.10/site-packages/sklearn/model_selection/_validation.py:778: UserWarning: Scoring failed. The score on this train-test partition for these parameters will be set to nan. Details: \n",
      "Traceback (most recent call last):\n",
      "  File \"/opt/homebrew/lib/python3.10/site-packages/sklearn/model_selection/_validation.py\", line 767, in _score\n",
      "    scores = scorer(estimator, X_test, y_test)\n",
      "  File \"/opt/homebrew/lib/python3.10/site-packages/sklearn/metrics/_scorer.py\", line 234, in __call__\n",
      "    return self._score(\n",
      "  File \"/opt/homebrew/lib/python3.10/site-packages/sklearn/metrics/_scorer.py\", line 282, in _score\n",
      "    return self._sign * self._score_func(y_true, y_pred, **self._kwargs)\n",
      "  File \"/var/folders/0f/cyrznsrn06xcrs6sr4j3d8100000gn/T/ipykernel_850/317816274.py\", line 26, in calculate_RRMSE\n",
      "    loss_list_RRMSE = computer_RRMSE_list(targets, valor, targets_mean)\n",
      "  File \"/var/folders/0f/cyrznsrn06xcrs6sr4j3d8100000gn/T/ipykernel_850/317816274.py\", line 9, in computer_RRMSE_list\n",
      "    for i in range(result_p.shape[1]):\n",
      "IndexError: tuple index out of range\n",
      "\n",
      "  warnings.warn(\n",
      "/opt/homebrew/lib/python3.10/site-packages/sklearn/model_selection/_validation.py:778: UserWarning: Scoring failed. The score on this train-test partition for these parameters will be set to nan. Details: \n",
      "Traceback (most recent call last):\n",
      "  File \"/opt/homebrew/lib/python3.10/site-packages/sklearn/model_selection/_validation.py\", line 767, in _score\n",
      "    scores = scorer(estimator, X_test, y_test)\n",
      "  File \"/opt/homebrew/lib/python3.10/site-packages/sklearn/metrics/_scorer.py\", line 234, in __call__\n",
      "    return self._score(\n",
      "  File \"/opt/homebrew/lib/python3.10/site-packages/sklearn/metrics/_scorer.py\", line 282, in _score\n",
      "    return self._sign * self._score_func(y_true, y_pred, **self._kwargs)\n",
      "  File \"/var/folders/0f/cyrznsrn06xcrs6sr4j3d8100000gn/T/ipykernel_850/317816274.py\", line 26, in calculate_RRMSE\n",
      "    loss_list_RRMSE = computer_RRMSE_list(targets, valor, targets_mean)\n",
      "  File \"/var/folders/0f/cyrznsrn06xcrs6sr4j3d8100000gn/T/ipykernel_850/317816274.py\", line 9, in computer_RRMSE_list\n",
      "    for i in range(result_p.shape[1]):\n",
      "IndexError: tuple index out of range\n",
      "\n",
      "  warnings.warn(\n",
      "/opt/homebrew/lib/python3.10/site-packages/sklearn/model_selection/_validation.py:778: UserWarning: Scoring failed. The score on this train-test partition for these parameters will be set to nan. Details: \n",
      "Traceback (most recent call last):\n",
      "  File \"/opt/homebrew/lib/python3.10/site-packages/sklearn/model_selection/_validation.py\", line 767, in _score\n",
      "    scores = scorer(estimator, X_test, y_test)\n",
      "  File \"/opt/homebrew/lib/python3.10/site-packages/sklearn/metrics/_scorer.py\", line 234, in __call__\n",
      "    return self._score(\n",
      "  File \"/opt/homebrew/lib/python3.10/site-packages/sklearn/metrics/_scorer.py\", line 282, in _score\n",
      "    return self._sign * self._score_func(y_true, y_pred, **self._kwargs)\n",
      "  File \"/var/folders/0f/cyrznsrn06xcrs6sr4j3d8100000gn/T/ipykernel_850/317816274.py\", line 26, in calculate_RRMSE\n",
      "    loss_list_RRMSE = computer_RRMSE_list(targets, valor, targets_mean)\n",
      "  File \"/var/folders/0f/cyrznsrn06xcrs6sr4j3d8100000gn/T/ipykernel_850/317816274.py\", line 9, in computer_RRMSE_list\n",
      "    for i in range(result_p.shape[1]):\n",
      "IndexError: tuple index out of range\n",
      "\n",
      "  warnings.warn(\n",
      "/opt/homebrew/lib/python3.10/site-packages/sklearn/model_selection/_validation.py:778: UserWarning: Scoring failed. The score on this train-test partition for these parameters will be set to nan. Details: \n",
      "Traceback (most recent call last):\n",
      "  File \"/opt/homebrew/lib/python3.10/site-packages/sklearn/model_selection/_validation.py\", line 767, in _score\n",
      "    scores = scorer(estimator, X_test, y_test)\n",
      "  File \"/opt/homebrew/lib/python3.10/site-packages/sklearn/metrics/_scorer.py\", line 234, in __call__\n",
      "    return self._score(\n",
      "  File \"/opt/homebrew/lib/python3.10/site-packages/sklearn/metrics/_scorer.py\", line 282, in _score\n",
      "    return self._sign * self._score_func(y_true, y_pred, **self._kwargs)\n",
      "  File \"/var/folders/0f/cyrznsrn06xcrs6sr4j3d8100000gn/T/ipykernel_850/317816274.py\", line 26, in calculate_RRMSE\n",
      "    loss_list_RRMSE = computer_RRMSE_list(targets, valor, targets_mean)\n",
      "  File \"/var/folders/0f/cyrznsrn06xcrs6sr4j3d8100000gn/T/ipykernel_850/317816274.py\", line 9, in computer_RRMSE_list\n",
      "    for i in range(result_p.shape[1]):\n",
      "IndexError: tuple index out of range\n",
      "\n",
      "  warnings.warn(\n",
      "/opt/homebrew/lib/python3.10/site-packages/sklearn/model_selection/_validation.py:778: UserWarning: Scoring failed. The score on this train-test partition for these parameters will be set to nan. Details: \n",
      "Traceback (most recent call last):\n",
      "  File \"/opt/homebrew/lib/python3.10/site-packages/sklearn/model_selection/_validation.py\", line 767, in _score\n",
      "    scores = scorer(estimator, X_test, y_test)\n",
      "  File \"/opt/homebrew/lib/python3.10/site-packages/sklearn/metrics/_scorer.py\", line 234, in __call__\n",
      "    return self._score(\n",
      "  File \"/opt/homebrew/lib/python3.10/site-packages/sklearn/metrics/_scorer.py\", line 282, in _score\n",
      "    return self._sign * self._score_func(y_true, y_pred, **self._kwargs)\n",
      "  File \"/var/folders/0f/cyrznsrn06xcrs6sr4j3d8100000gn/T/ipykernel_850/317816274.py\", line 26, in calculate_RRMSE\n",
      "    loss_list_RRMSE = computer_RRMSE_list(targets, valor, targets_mean)\n",
      "  File \"/var/folders/0f/cyrznsrn06xcrs6sr4j3d8100000gn/T/ipykernel_850/317816274.py\", line 9, in computer_RRMSE_list\n",
      "    for i in range(result_p.shape[1]):\n",
      "IndexError: tuple index out of range\n",
      "\n",
      "  warnings.warn(\n",
      "/opt/homebrew/lib/python3.10/site-packages/sklearn/model_selection/_validation.py:778: UserWarning: Scoring failed. The score on this train-test partition for these parameters will be set to nan. Details: \n",
      "Traceback (most recent call last):\n",
      "  File \"/opt/homebrew/lib/python3.10/site-packages/sklearn/model_selection/_validation.py\", line 767, in _score\n",
      "    scores = scorer(estimator, X_test, y_test)\n",
      "  File \"/opt/homebrew/lib/python3.10/site-packages/sklearn/metrics/_scorer.py\", line 234, in __call__\n",
      "    return self._score(\n",
      "  File \"/opt/homebrew/lib/python3.10/site-packages/sklearn/metrics/_scorer.py\", line 282, in _score\n",
      "    return self._sign * self._score_func(y_true, y_pred, **self._kwargs)\n",
      "  File \"/var/folders/0f/cyrznsrn06xcrs6sr4j3d8100000gn/T/ipykernel_850/317816274.py\", line 26, in calculate_RRMSE\n",
      "    loss_list_RRMSE = computer_RRMSE_list(targets, valor, targets_mean)\n",
      "  File \"/var/folders/0f/cyrznsrn06xcrs6sr4j3d8100000gn/T/ipykernel_850/317816274.py\", line 9, in computer_RRMSE_list\n",
      "    for i in range(result_p.shape[1]):\n",
      "IndexError: tuple index out of range\n",
      "\n",
      "  warnings.warn(\n",
      "/opt/homebrew/lib/python3.10/site-packages/sklearn/model_selection/_validation.py:778: UserWarning: Scoring failed. The score on this train-test partition for these parameters will be set to nan. Details: \n",
      "Traceback (most recent call last):\n",
      "  File \"/opt/homebrew/lib/python3.10/site-packages/sklearn/model_selection/_validation.py\", line 767, in _score\n",
      "    scores = scorer(estimator, X_test, y_test)\n",
      "  File \"/opt/homebrew/lib/python3.10/site-packages/sklearn/metrics/_scorer.py\", line 234, in __call__\n",
      "    return self._score(\n",
      "  File \"/opt/homebrew/lib/python3.10/site-packages/sklearn/metrics/_scorer.py\", line 282, in _score\n",
      "    return self._sign * self._score_func(y_true, y_pred, **self._kwargs)\n",
      "  File \"/var/folders/0f/cyrznsrn06xcrs6sr4j3d8100000gn/T/ipykernel_850/317816274.py\", line 26, in calculate_RRMSE\n",
      "    loss_list_RRMSE = computer_RRMSE_list(targets, valor, targets_mean)\n",
      "  File \"/var/folders/0f/cyrznsrn06xcrs6sr4j3d8100000gn/T/ipykernel_850/317816274.py\", line 9, in computer_RRMSE_list\n",
      "    for i in range(result_p.shape[1]):\n",
      "IndexError: tuple index out of range\n",
      "\n",
      "  warnings.warn(\n",
      "/opt/homebrew/lib/python3.10/site-packages/sklearn/model_selection/_validation.py:778: UserWarning: Scoring failed. The score on this train-test partition for these parameters will be set to nan. Details: \n",
      "Traceback (most recent call last):\n",
      "  File \"/opt/homebrew/lib/python3.10/site-packages/sklearn/model_selection/_validation.py\", line 767, in _score\n",
      "    scores = scorer(estimator, X_test, y_test)\n",
      "  File \"/opt/homebrew/lib/python3.10/site-packages/sklearn/metrics/_scorer.py\", line 234, in __call__\n",
      "    return self._score(\n",
      "  File \"/opt/homebrew/lib/python3.10/site-packages/sklearn/metrics/_scorer.py\", line 282, in _score\n",
      "    return self._sign * self._score_func(y_true, y_pred, **self._kwargs)\n",
      "  File \"/var/folders/0f/cyrznsrn06xcrs6sr4j3d8100000gn/T/ipykernel_850/317816274.py\", line 26, in calculate_RRMSE\n",
      "    loss_list_RRMSE = computer_RRMSE_list(targets, valor, targets_mean)\n",
      "  File \"/var/folders/0f/cyrznsrn06xcrs6sr4j3d8100000gn/T/ipykernel_850/317816274.py\", line 9, in computer_RRMSE_list\n",
      "    for i in range(result_p.shape[1]):\n",
      "IndexError: tuple index out of range\n",
      "\n",
      "  warnings.warn(\n",
      "/opt/homebrew/lib/python3.10/site-packages/sklearn/model_selection/_validation.py:778: UserWarning: Scoring failed. The score on this train-test partition for these parameters will be set to nan. Details: \n",
      "Traceback (most recent call last):\n",
      "  File \"/opt/homebrew/lib/python3.10/site-packages/sklearn/model_selection/_validation.py\", line 767, in _score\n",
      "    scores = scorer(estimator, X_test, y_test)\n",
      "  File \"/opt/homebrew/lib/python3.10/site-packages/sklearn/metrics/_scorer.py\", line 234, in __call__\n",
      "    return self._score(\n",
      "  File \"/opt/homebrew/lib/python3.10/site-packages/sklearn/metrics/_scorer.py\", line 282, in _score\n",
      "    return self._sign * self._score_func(y_true, y_pred, **self._kwargs)\n",
      "  File \"/var/folders/0f/cyrznsrn06xcrs6sr4j3d8100000gn/T/ipykernel_850/317816274.py\", line 26, in calculate_RRMSE\n",
      "    loss_list_RRMSE = computer_RRMSE_list(targets, valor, targets_mean)\n",
      "  File \"/var/folders/0f/cyrznsrn06xcrs6sr4j3d8100000gn/T/ipykernel_850/317816274.py\", line 9, in computer_RRMSE_list\n",
      "    for i in range(result_p.shape[1]):\n",
      "IndexError: tuple index out of range\n",
      "\n",
      "  warnings.warn(\n",
      "/opt/homebrew/lib/python3.10/site-packages/sklearn/model_selection/_validation.py:778: UserWarning: Scoring failed. The score on this train-test partition for these parameters will be set to nan. Details: \n",
      "Traceback (most recent call last):\n",
      "  File \"/opt/homebrew/lib/python3.10/site-packages/sklearn/model_selection/_validation.py\", line 767, in _score\n",
      "    scores = scorer(estimator, X_test, y_test)\n",
      "  File \"/opt/homebrew/lib/python3.10/site-packages/sklearn/metrics/_scorer.py\", line 234, in __call__\n",
      "    return self._score(\n",
      "  File \"/opt/homebrew/lib/python3.10/site-packages/sklearn/metrics/_scorer.py\", line 282, in _score\n",
      "    return self._sign * self._score_func(y_true, y_pred, **self._kwargs)\n",
      "  File \"/var/folders/0f/cyrznsrn06xcrs6sr4j3d8100000gn/T/ipykernel_850/317816274.py\", line 26, in calculate_RRMSE\n",
      "    loss_list_RRMSE = computer_RRMSE_list(targets, valor, targets_mean)\n",
      "  File \"/var/folders/0f/cyrznsrn06xcrs6sr4j3d8100000gn/T/ipykernel_850/317816274.py\", line 9, in computer_RRMSE_list\n",
      "    for i in range(result_p.shape[1]):\n",
      "IndexError: tuple index out of range\n",
      "\n",
      "  warnings.warn(\n",
      "/opt/homebrew/lib/python3.10/site-packages/sklearn/model_selection/_validation.py:778: UserWarning: Scoring failed. The score on this train-test partition for these parameters will be set to nan. Details: \n",
      "Traceback (most recent call last):\n",
      "  File \"/opt/homebrew/lib/python3.10/site-packages/sklearn/model_selection/_validation.py\", line 767, in _score\n",
      "    scores = scorer(estimator, X_test, y_test)\n",
      "  File \"/opt/homebrew/lib/python3.10/site-packages/sklearn/metrics/_scorer.py\", line 234, in __call__\n",
      "    return self._score(\n",
      "  File \"/opt/homebrew/lib/python3.10/site-packages/sklearn/metrics/_scorer.py\", line 282, in _score\n",
      "    return self._sign * self._score_func(y_true, y_pred, **self._kwargs)\n",
      "  File \"/var/folders/0f/cyrznsrn06xcrs6sr4j3d8100000gn/T/ipykernel_850/317816274.py\", line 26, in calculate_RRMSE\n",
      "    loss_list_RRMSE = computer_RRMSE_list(targets, valor, targets_mean)\n",
      "  File \"/var/folders/0f/cyrznsrn06xcrs6sr4j3d8100000gn/T/ipykernel_850/317816274.py\", line 9, in computer_RRMSE_list\n",
      "    for i in range(result_p.shape[1]):\n",
      "IndexError: tuple index out of range\n",
      "\n",
      "  warnings.warn(\n",
      "/opt/homebrew/lib/python3.10/site-packages/sklearn/model_selection/_validation.py:778: UserWarning: Scoring failed. The score on this train-test partition for these parameters will be set to nan. Details: \n",
      "Traceback (most recent call last):\n",
      "  File \"/opt/homebrew/lib/python3.10/site-packages/sklearn/model_selection/_validation.py\", line 767, in _score\n",
      "    scores = scorer(estimator, X_test, y_test)\n",
      "  File \"/opt/homebrew/lib/python3.10/site-packages/sklearn/metrics/_scorer.py\", line 234, in __call__\n",
      "    return self._score(\n",
      "  File \"/opt/homebrew/lib/python3.10/site-packages/sklearn/metrics/_scorer.py\", line 282, in _score\n",
      "    return self._sign * self._score_func(y_true, y_pred, **self._kwargs)\n",
      "  File \"/var/folders/0f/cyrznsrn06xcrs6sr4j3d8100000gn/T/ipykernel_850/317816274.py\", line 26, in calculate_RRMSE\n",
      "    loss_list_RRMSE = computer_RRMSE_list(targets, valor, targets_mean)\n",
      "  File \"/var/folders/0f/cyrznsrn06xcrs6sr4j3d8100000gn/T/ipykernel_850/317816274.py\", line 9, in computer_RRMSE_list\n",
      "    for i in range(result_p.shape[1]):\n",
      "IndexError: tuple index out of range\n",
      "\n",
      "  warnings.warn(\n",
      "/opt/homebrew/lib/python3.10/site-packages/sklearn/model_selection/_validation.py:778: UserWarning: Scoring failed. The score on this train-test partition for these parameters will be set to nan. Details: \n",
      "Traceback (most recent call last):\n",
      "  File \"/opt/homebrew/lib/python3.10/site-packages/sklearn/model_selection/_validation.py\", line 767, in _score\n",
      "    scores = scorer(estimator, X_test, y_test)\n",
      "  File \"/opt/homebrew/lib/python3.10/site-packages/sklearn/metrics/_scorer.py\", line 234, in __call__\n",
      "    return self._score(\n",
      "  File \"/opt/homebrew/lib/python3.10/site-packages/sklearn/metrics/_scorer.py\", line 282, in _score\n",
      "    return self._sign * self._score_func(y_true, y_pred, **self._kwargs)\n",
      "  File \"/var/folders/0f/cyrznsrn06xcrs6sr4j3d8100000gn/T/ipykernel_850/317816274.py\", line 26, in calculate_RRMSE\n",
      "    loss_list_RRMSE = computer_RRMSE_list(targets, valor, targets_mean)\n",
      "  File \"/var/folders/0f/cyrznsrn06xcrs6sr4j3d8100000gn/T/ipykernel_850/317816274.py\", line 9, in computer_RRMSE_list\n",
      "    for i in range(result_p.shape[1]):\n",
      "IndexError: tuple index out of range\n",
      "\n",
      "  warnings.warn(\n"
     ]
    },
    {
     "name": "stdout",
     "output_type": "stream",
     "text": [
      "Scores:  [nan nan nan nan nan nan]\n",
      "Mean Score:  nan\n"
     ]
    },
    {
     "name": "stderr",
     "output_type": "stream",
     "text": [
      "/opt/homebrew/lib/python3.10/site-packages/sklearn/model_selection/_validation.py:778: UserWarning: Scoring failed. The score on this train-test partition for these parameters will be set to nan. Details: \n",
      "Traceback (most recent call last):\n",
      "  File \"/opt/homebrew/lib/python3.10/site-packages/sklearn/model_selection/_validation.py\", line 767, in _score\n",
      "    scores = scorer(estimator, X_test, y_test)\n",
      "  File \"/opt/homebrew/lib/python3.10/site-packages/sklearn/metrics/_scorer.py\", line 234, in __call__\n",
      "    return self._score(\n",
      "  File \"/opt/homebrew/lib/python3.10/site-packages/sklearn/metrics/_scorer.py\", line 282, in _score\n",
      "    return self._sign * self._score_func(y_true, y_pred, **self._kwargs)\n",
      "  File \"/var/folders/0f/cyrznsrn06xcrs6sr4j3d8100000gn/T/ipykernel_850/317816274.py\", line 26, in calculate_RRMSE\n",
      "    loss_list_RRMSE = computer_RRMSE_list(targets, valor, targets_mean)\n",
      "  File \"/var/folders/0f/cyrznsrn06xcrs6sr4j3d8100000gn/T/ipykernel_850/317816274.py\", line 9, in computer_RRMSE_list\n",
      "    for i in range(result_p.shape[1]):\n",
      "IndexError: tuple index out of range\n",
      "\n",
      "  warnings.warn(\n",
      "/opt/homebrew/lib/python3.10/site-packages/sklearn/model_selection/_validation.py:778: UserWarning: Scoring failed. The score on this train-test partition for these parameters will be set to nan. Details: \n",
      "Traceback (most recent call last):\n",
      "  File \"/opt/homebrew/lib/python3.10/site-packages/sklearn/model_selection/_validation.py\", line 767, in _score\n",
      "    scores = scorer(estimator, X_test, y_test)\n",
      "  File \"/opt/homebrew/lib/python3.10/site-packages/sklearn/metrics/_scorer.py\", line 234, in __call__\n",
      "    return self._score(\n",
      "  File \"/opt/homebrew/lib/python3.10/site-packages/sklearn/metrics/_scorer.py\", line 282, in _score\n",
      "    return self._sign * self._score_func(y_true, y_pred, **self._kwargs)\n",
      "  File \"/var/folders/0f/cyrznsrn06xcrs6sr4j3d8100000gn/T/ipykernel_850/317816274.py\", line 26, in calculate_RRMSE\n",
      "    loss_list_RRMSE = computer_RRMSE_list(targets, valor, targets_mean)\n",
      "  File \"/var/folders/0f/cyrznsrn06xcrs6sr4j3d8100000gn/T/ipykernel_850/317816274.py\", line 9, in computer_RRMSE_list\n",
      "    for i in range(result_p.shape[1]):\n",
      "IndexError: tuple index out of range\n",
      "\n",
      "  warnings.warn(\n",
      "/opt/homebrew/lib/python3.10/site-packages/sklearn/model_selection/_validation.py:778: UserWarning: Scoring failed. The score on this train-test partition for these parameters will be set to nan. Details: \n",
      "Traceback (most recent call last):\n",
      "  File \"/opt/homebrew/lib/python3.10/site-packages/sklearn/model_selection/_validation.py\", line 767, in _score\n",
      "    scores = scorer(estimator, X_test, y_test)\n",
      "  File \"/opt/homebrew/lib/python3.10/site-packages/sklearn/metrics/_scorer.py\", line 234, in __call__\n",
      "    return self._score(\n",
      "  File \"/opt/homebrew/lib/python3.10/site-packages/sklearn/metrics/_scorer.py\", line 282, in _score\n",
      "    return self._sign * self._score_func(y_true, y_pred, **self._kwargs)\n",
      "  File \"/var/folders/0f/cyrznsrn06xcrs6sr4j3d8100000gn/T/ipykernel_850/317816274.py\", line 26, in calculate_RRMSE\n",
      "    loss_list_RRMSE = computer_RRMSE_list(targets, valor, targets_mean)\n",
      "  File \"/var/folders/0f/cyrznsrn06xcrs6sr4j3d8100000gn/T/ipykernel_850/317816274.py\", line 9, in computer_RRMSE_list\n",
      "    for i in range(result_p.shape[1]):\n",
      "IndexError: tuple index out of range\n",
      "\n",
      "  warnings.warn(\n",
      "/opt/homebrew/lib/python3.10/site-packages/sklearn/model_selection/_validation.py:778: UserWarning: Scoring failed. The score on this train-test partition for these parameters will be set to nan. Details: \n",
      "Traceback (most recent call last):\n",
      "  File \"/opt/homebrew/lib/python3.10/site-packages/sklearn/model_selection/_validation.py\", line 767, in _score\n",
      "    scores = scorer(estimator, X_test, y_test)\n",
      "  File \"/opt/homebrew/lib/python3.10/site-packages/sklearn/metrics/_scorer.py\", line 234, in __call__\n",
      "    return self._score(\n",
      "  File \"/opt/homebrew/lib/python3.10/site-packages/sklearn/metrics/_scorer.py\", line 282, in _score\n",
      "    return self._sign * self._score_func(y_true, y_pred, **self._kwargs)\n",
      "  File \"/var/folders/0f/cyrznsrn06xcrs6sr4j3d8100000gn/T/ipykernel_850/317816274.py\", line 26, in calculate_RRMSE\n",
      "    loss_list_RRMSE = computer_RRMSE_list(targets, valor, targets_mean)\n",
      "  File \"/var/folders/0f/cyrznsrn06xcrs6sr4j3d8100000gn/T/ipykernel_850/317816274.py\", line 9, in computer_RRMSE_list\n",
      "    for i in range(result_p.shape[1]):\n",
      "IndexError: tuple index out of range\n",
      "\n",
      "  warnings.warn(\n",
      "/opt/homebrew/lib/python3.10/site-packages/sklearn/model_selection/_validation.py:778: UserWarning: Scoring failed. The score on this train-test partition for these parameters will be set to nan. Details: \n",
      "Traceback (most recent call last):\n",
      "  File \"/opt/homebrew/lib/python3.10/site-packages/sklearn/model_selection/_validation.py\", line 767, in _score\n",
      "    scores = scorer(estimator, X_test, y_test)\n",
      "  File \"/opt/homebrew/lib/python3.10/site-packages/sklearn/metrics/_scorer.py\", line 234, in __call__\n",
      "    return self._score(\n",
      "  File \"/opt/homebrew/lib/python3.10/site-packages/sklearn/metrics/_scorer.py\", line 282, in _score\n",
      "    return self._sign * self._score_func(y_true, y_pred, **self._kwargs)\n",
      "  File \"/var/folders/0f/cyrznsrn06xcrs6sr4j3d8100000gn/T/ipykernel_850/317816274.py\", line 26, in calculate_RRMSE\n",
      "    loss_list_RRMSE = computer_RRMSE_list(targets, valor, targets_mean)\n",
      "  File \"/var/folders/0f/cyrznsrn06xcrs6sr4j3d8100000gn/T/ipykernel_850/317816274.py\", line 9, in computer_RRMSE_list\n",
      "    for i in range(result_p.shape[1]):\n",
      "IndexError: tuple index out of range\n",
      "\n",
      "  warnings.warn(\n"
     ]
    }
   ],
   "source": [
    "def decision_tree(x_train, y_train):\n",
    "    model = DecisionTreeRegressor(max_depth=best_max_depth, min_samples_leaf=best_min_samples_leaf).fit(x_train, y_train)\n",
    "    return model\n",
    "\n",
    "\n",
    "scores = np.zeros(label.shape[1])\n",
    "\n",
    "for target in range(label.shape[1]):\n",
    "\n",
    "    score = cross_validate(decision_tree(data,label), data, label[:,target], cv=kfold, scoring=RRMSE_scorer)\n",
    "\n",
    "    scores[target] = np.sqrt(-score['test_score']).mean()\n",
    "\n",
    "print(\"Scores: \", scores)\n",
    "print(\"Mean Score: \", scores.mean())\n"
   ]
  },
  {
   "cell_type": "code",
   "execution_count": 12,
   "metadata": {},
   "outputs": [],
   "source": [
    "# AInda nao consegui fazer funcionar\n",
    "# Decision tree local usando cross validation\n",
    "\n",
    "# def calculate_RRMSE_local(targets, valor, targets_mean):\n",
    "    \n",
    "#     loss_list_RRMSE = computer_RRMSE_list(targets, valor, targets_mean)\n",
    "#     loss_list_RRMSE_np = np.array(loss_list_RRMSE)\n",
    "#     mean_error = loss_list_RRMSE_np.mean(axis=0)\n",
    "#     return mean_error\n",
    "\n",
    "# predicted_score = []\n",
    "\n",
    "# for target in range(label.shape[1]):\n",
    "#     label_mean = label[:, target].mean(axis=0)\n",
    "#     RRMSE_scorer_local = make_scorer(calculate_RRMSE_local, greater_is_better=False, targets_mean=label_mean)\n",
    "#     score = cross_validate(DecisionTreeRegressor(max_depth=3), data, label[:,target], cv=kfold, scoring=RRMSE_scorer_local)\n",
    "#     score = score['test_score'].mean()\n",
    "#     predicted_score.append(score)\n",
    "\n",
    "#     # print(score)\n",
    "\n",
    "# print(np.mean(predicted_score))\n",
    "    \n"
   ]
  },
  {
   "cell_type": "markdown",
   "metadata": {},
   "source": [
    "#### Multi Output Decision Tree"
   ]
  },
  {
   "cell_type": "code",
   "execution_count": 40,
   "metadata": {},
   "outputs": [
    {
     "name": "stdout",
     "output_type": "stream",
     "text": [
      "MultiOutputRegressor:  0.7206199024627673\n"
     ]
    }
   ],
   "source": [
    "score = cross_validate(MultiOutputRegressor(DecisionTreeRegressor()), data, label, cv=kfold, scoring=RRMSE_scorer)\n",
    "score = np.sqrt(-score['test_score']).mean()\n",
    "\n",
    "print(\"MultiOutputRegressor: \", score)"
   ]
  },
  {
   "cell_type": "markdown",
   "metadata": {},
   "source": [
    "### Matriz de Dissimilaridade "
   ]
  },
  {
   "cell_type": "code",
   "execution_count": 14,
   "metadata": {},
   "outputs": [
    {
     "data": {
      "image/png": "[encoded data removed]",
      "text/plain": [
       "<Figure size 640x480 with 2 Axes>"
      ]
     },
     "metadata": {},
     "output_type": "display_data"
    }
   ],
   "source": [
    "matriz_dissimilaridade = 1 - np.corrcoef(y_train.T)\n",
    "\n",
    "plt.imshow(matriz_dissimilaridade, cmap='viridis')\n",
    "plt.colorbar(label='Dissimilarity')\n",
    "plt.title('Dissimilarity Matrix')\n",
    "plt.show()"
   ]
  },
  {
   "cell_type": "code",
   "execution_count": 15,
   "metadata": {},
   "outputs": [
    {
     "name": "stderr",
     "output_type": "stream",
     "text": [
      "/var/folders/0f/cyrznsrn06xcrs6sr4j3d8100000gn/T/ipykernel_850/21108651.py:4: ClusterWarning: scipy.cluster: The symmetric non-negative hollow observation matrix looks suspiciously like an uncondensed distance matrix\n",
      "  linkage_matrix = linkage(matriz_dissimilaridade, method='average')\n"
     ]
    },
    {
     "data": {
      "image/png": "[encoded data removed]",
      "text/plain": [
       "<Figure size 800x600 with 1 Axes>"
      ]
     },
     "metadata": {},
     "output_type": "display_data"
    }
   ],
   "source": [
    "from scipy.cluster.hierarchy import linkage, dendrogram, fcluster\n",
    "# from scipy.spatial.distance import squareform\n",
    "\n",
    "linkage_matrix = linkage(matriz_dissimilaridade, method='average')\n",
    "\n",
    "plt.figure(figsize=(8, 6))\n",
    "dendrogram(linkage_matrix)\n",
    "plt.title('Dendrograma Hierárquico')\n",
    "plt.xlabel('Índices dos Dados')\n",
    "plt.ylabel('Distância')\n",
    "plt.show()"
   ]
  },
  {
   "cell_type": "code",
   "execution_count": 16,
   "metadata": {},
   "outputs": [
    {
     "data": {
      "image/png": "[encoded data removed]",
      "text/plain": [
       "<Figure size 640x480 with 1 Axes>"
      ]
     },
     "metadata": {},
     "output_type": "display_data"
    }
   ],
   "source": [
    "silhouette_scores = []\n",
    "\n",
    "min_clusters = 2\n",
    "if y_train.shape[1] < 10:\n",
    "    max_clusters = y_train.shape[1]+1\n",
    "else:\n",
    "    max_clusters = 10\n",
    "\n",
    "for n_clusters in range(min_clusters, max_clusters):\n",
    "    cluster_labels = fcluster(linkage_matrix, n_clusters, criterion='maxclust')\n",
    "    silhouette_scores.append(silhouette_score(matriz_dissimilaridade, cluster_labels))\n",
    "\n",
    "plt.plot(range(min_clusters, max_clusters), silhouette_scores, marker='o')\n",
    "plt.xlabel('Número de Clusters')\n",
    "plt.ylabel('Silhouette Score')\n",
    "plt.title('Silhouette Score por Número de Clusters')\n",
    "plt.show()\n"
   ]
  },
  {
   "cell_type": "markdown",
   "metadata": {},
   "source": [
    "antigo"
   ]
  },
  {
   "cell_type": "code",
   "execution_count": 17,
   "metadata": {},
   "outputs": [
    {
     "name": "stdout",
     "output_type": "stream",
     "text": [
      "Best number of clusters: 2\n",
      "Cluster: 2, Target: 0\n",
      "Cluster: 2, Target: 1\n",
      "Cluster: 1, Target: 2\n",
      "Cluster: 1, Target: 3\n",
      "Cluster: 2, Target: 4\n",
      "Cluster: 1, Target: 5\n"
     ]
    }
   ],
   "source": [
    "best_cut = silhouette_scores.index(max(silhouette_scores)) + min_clusters\n",
    "print('Best number of clusters:', best_cut)\n",
    "\n",
    "clusters = fcluster(linkage_matrix, best_cut, criterion='maxclust')\n",
    "\n",
    "y_train_cluster = [[] for _ in range(max(clusters))]\n",
    "y_test_cluster = [[] for _ in range(max(clusters))]\n",
    "\n",
    "# Split the targets into clusters\n",
    "for i, cluster in enumerate(clusters):\n",
    "    y_train_cluster[cluster-1].append(y_train[:, i])\n",
    "    print('Cluster: {}, Target: {}'.format(cluster, i))\n",
    "    y_test_cluster[cluster-1].append(y_test[:, i]) "
   ]
  },
  {
   "cell_type": "code",
   "execution_count": 83,
   "metadata": {},
   "outputs": [
    {
     "name": "stdout",
     "output_type": "stream",
     "text": [
      "Best number of clusters: 2\n",
      "Cluster: 1, Target: 0\n",
      "Cluster: 1, Target: 1\n",
      "Cluster: 0, Target: 2\n",
      "Cluster: 0, Target: 3\n",
      "Cluster: 1, Target: 4\n",
      "Cluster: 0, Target: 5\n"
     ]
    }
   ],
   "source": [
    "best_cut = silhouette_scores.index(max(silhouette_scores)) + min_clusters\n",
    "print('Best number of clusters:', best_cut)\n",
    "\n",
    "clusters = fcluster(linkage_matrix, best_cut, criterion='maxclust')\n",
    "\n",
    "label_cluster = [[] for _ in range(max(clusters))]\n",
    "\n",
    "# Split the targets into clusters\n",
    "for i, cluster in enumerate(clusters):\n",
    "    label_cluster[cluster-1].append(label[:, i])\n",
    "    print('Cluster: {}, Target: {}'.format(cluster-1, i))"
   ]
  },
  {
   "cell_type": "markdown",
   "metadata": {},
   "source": [
    "#### Regressor Chain de Random forest Clusterizado"
   ]
  },
  {
   "cell_type": "code",
   "execution_count": 92,
   "metadata": {},
   "outputs": [
    {
     "name": "stdout",
     "output_type": "stream",
     "text": [
      "Regressor chain of Random Forest:  0.6108789042568139\n"
     ]
    }
   ],
   "source": [
    "# Define the train_regressor function\n",
    "def Chain_RandomForest():\n",
    "    reg_chain = RegressorChain(RandomForestRegressor(random_state=0, n_jobs=-1))\n",
    "    return reg_chain\n",
    "\n",
    "\n",
    "errors = []\n",
    "regressors = []\n",
    "for i in range(len(y_train_cluster)):\n",
    "    \n",
    "    regressors.append(Chain_RandomForest())\n",
    "    score = cross_validate(regressors[i], data, np.array(label_cluster[i]).T, cv=kfold, scoring=RRMSE_scorer)\n",
    "    score = np.sqrt(-score['test_score']).mean()\n",
    "    errors.append(score)\n",
    "    # print(score)\n",
    "\n",
    "print(\"Regressor chain of Random Forest Clusterizado: \", np.mean(errors))\n"
   ]
  },
  {
   "cell_type": "markdown",
   "metadata": {},
   "source": [
    "#### Regressor Chain de Decision Tree Clusterizado"
   ]
  },
  {
   "cell_type": "code",
   "execution_count": 97,
   "metadata": {},
   "outputs": [
    {
     "name": "stdout",
     "output_type": "stream",
     "text": [
      "Regressor chain of Decision Tree Clusterizado:  0.6852034220839256\n"
     ]
    }
   ],
   "source": [
    "# Define the train_regressor function\n",
    "def Chain_DecisionTree():\n",
    "    reg_chain = RegressorChain(DecisionTreeRegressor(max_depth=best_max_depth, min_samples_leaf=best_min_samples_leaf))\n",
    "    return reg_chain\n",
    "\n",
    "\n",
    "errors = []\n",
    "regressors = []\n",
    "for i in range(len(y_train_cluster)):\n",
    "    regressors.append(Chain_DecisionTree())\n",
    "    score = cross_validate(regressors[i], data, np.array(label_cluster[i]).T, cv=kfold, scoring=RRMSE_scorer)\n",
    "    score = np.sqrt(-score['test_score']).mean()\n",
    "    errors.append(score)\n",
    "    # print(score)\n",
    "\n",
    "print(\"Regressor chain of Decision Tree Clusterizado: \", np.mean(errors))"
   ]
  },
  {
   "cell_type": "markdown",
   "metadata": {},
   "source": [
    "#### Random forest Clusterizado"
   ]
  },
  {
   "cell_type": "code",
   "execution_count": 100,
   "metadata": {},
   "outputs": [
    {
     "name": "stdout",
     "output_type": "stream",
     "text": [
      "Random Forest Clusterizado:  0.6038325347822753\n"
     ]
    }
   ],
   "source": [
    "def model_randomForest():\n",
    "    regressor = RandomForestRegressor(n_estimators = 50,n_jobs = -1, random_state=0)\n",
    "    return regressor\n",
    "\n",
    "errors = []\n",
    "regressors = []\n",
    "for i in range(len(y_train_cluster)):\n",
    "    regressors.append(model_randomForest())\n",
    "    score = cross_validate(regressors[i], data, np.array(label_cluster[i]).T, cv=kfold, scoring=RRMSE_scorer)\n",
    "    score = np.sqrt(-score['test_score']).mean()\n",
    "    errors.append(score)\n",
    "    # print(score)\n",
    "\n",
    "print(\"Random Forest Clusterizado: \", np.mean(errors))"
   ]
  },
  {
   "cell_type": "code",
   "execution_count": 103,
   "metadata": {},
   "outputs": [
    {
     "name": "stdout",
     "output_type": "stream",
     "text": [
      "Decision Tree Clusterizado:  0.6770787811375321\n"
     ]
    }
   ],
   "source": [
    "def model_dtree():\n",
    "    regressor = DecisionTreeRegressor(max_depth=best_max_depth, min_samples_leaf=best_min_samples_leaf)\n",
    "    return regressor\n",
    "\n",
    "errors = []\n",
    "regressors = []\n",
    "for i in range(len(y_train_cluster)):\n",
    "    regressors.append(model_dtree())\n",
    "    score = cross_validate(regressors[i], data, np.array(label_cluster[i]).T, cv=kfold, scoring=RRMSE_scorer)\n",
    "    score = np.sqrt(-score['test_score']).mean()\n",
    "    errors.append(score)\n",
    "    # print(score)\n",
    "\n",
    "print(\"Decision Tree Clusterizado: \", np.mean(errors))"
   ]
  },
  {
   "cell_type": "markdown",
   "metadata": {},
   "source": [
    "### Regressor Chain Padrão"
   ]
  },
  {
   "cell_type": "code",
   "execution_count": 90,
   "metadata": {},
   "outputs": [
    {
     "name": "stdout",
     "output_type": "stream",
     "text": [
      "Regressor chain of Random Forest Padrão:  0.6158861607891393\n"
     ]
    }
   ],
   "source": [
    "#Define important variables\n",
    "RANDOM_STATE = 0 \n",
    "\n",
    "loss_list_RRMSE = []\n",
    "\n",
    "reg_chain = RegressorChain(RandomForestRegressor(random_state=RANDOM_STATE, n_jobs=-1))\n",
    "score = cross_validate(reg_chain, data, label, cv=kfold, scoring=RRMSE_scorer)\n",
    "score = np.sqrt(-score['test_score']).mean()\n",
    "print(\"Regressor chain of Random Forest: \", score)"
   ]
  },
  {
   "cell_type": "markdown",
   "metadata": {},
   "source": [
    "### Kmeans dos dados (Antigo)"
   ]
  },
  {
   "cell_type": "code",
   "execution_count": 23,
   "metadata": {},
   "outputs": [
    {
     "data": {
      "image/png": "[encoded data removed]",
      "text/plain": [
       "<Figure size 640x480 with 1 Axes>"
      ]
     },
     "metadata": {},
     "output_type": "display_data"
    }
   ],
   "source": [
    "inertia_values = []\n",
    "for i in range(1, 10):\n",
    "    kmeans = KMeans(n_clusters=i, random_state=0, n_init='auto').fit(x_train)\n",
    "    inertia_values.append(kmeans.inertia_)\n",
    "\n",
    "plt.plot(range(1, 10), inertia_values, marker='o')\n",
    "plt.xlabel('Number of clusters')\n",
    "plt.ylabel('Inertia')\n",
    "plt.title('Elbow Method')\n",
    "plt.show()"
   ]
  },
  {
   "cell_type": "code",
   "execution_count": 24,
   "metadata": {},
   "outputs": [],
   "source": [
    "NUM_CLUSTER = config.all_config[text_file].get('num_cluster')\n",
    "kmeans_optimal = KMeans(n_clusters=NUM_CLUSTER, random_state=0, n_init='auto').fit(x_train)\n",
    "cluster_labels = kmeans_optimal.labels_"
   ]
  },
  {
   "cell_type": "markdown",
   "metadata": {},
   "source": [
    "#### Kmeans só dos targets"
   ]
  },
  {
   "cell_type": "code",
   "execution_count": 25,
   "metadata": {},
   "outputs": [
    {
     "data": {
      "image/png": "[encoded data removed]",
      "text/plain": [
       "<Figure size 640x480 with 1 Axes>"
      ]
     },
     "metadata": {},
     "output_type": "display_data"
    }
   ],
   "source": [
    "inertia_values = []\n",
    "\n",
    "for i in range(1, 10):\n",
    "    kmeans = KMeans(n_clusters=i, random_state=0, n_init='auto').fit(y_train)\n",
    "    inertia_values.append(kmeans.inertia_)\n",
    "\n",
    "plt.plot(range(1, 10), inertia_values, marker='o')\n",
    "plt.xlabel('Number of clusters')\n",
    "plt.ylabel('Inertia')\n",
    "plt.title('Elbow Method')\n",
    "plt.show()"
   ]
  },
  {
   "cell_type": "code",
   "execution_count": 26,
   "metadata": {},
   "outputs": [],
   "source": [
    "k_optimal = config.all_config[text_file].get(\"num_cluster_targets\")\n",
    "kmeans_optimal = KMeans(n_clusters=k_optimal, random_state=0, n_init='auto').fit(y_train)\n",
    "\n",
    "cluster_labels_target = kmeans_optimal.labels_"
   ]
  },
  {
   "cell_type": "markdown",
   "metadata": {},
   "source": [
    "#### Regressor Chain pelos grupos dos Kmeans"
   ]
  },
  {
   "cell_type": "code",
   "execution_count": 27,
   "metadata": {},
   "outputs": [],
   "source": [
    "# Define the train_regressor function\n",
    "def train_regressor(cluster_data, label):\n",
    "    indices = cluster_data.index\n",
    "    y_cluster = label[indices]\n",
    "\n",
    "    reg_chain = RegressorChain(RandomForestRegressor(random_state=RANDOM_STATE))\n",
    "    reg_chain.fit(cluster_data, y_cluster)  \n",
    "\n",
    "    y_pred = reg_chain.predict(cluster_data)\n",
    "\n",
    "    real_train_mean_cluster = y_cluster.mean(axis=0)\n",
    "\n",
    "    error = calculate_RRMSE(y_cluster, y_pred, real_train_mean_cluster)\n",
    "   \n",
    "    print(error)\n",
    "\n",
    "    return reg_chain"
   ]
  },
  {
   "cell_type": "markdown",
   "metadata": {},
   "source": [
    "Caso de treino"
   ]
  },
  {
   "cell_type": "code",
   "execution_count": 28,
   "metadata": {},
   "outputs": [
    {
     "ename": "TypeError",
     "evalue": "calculate_RRMSE() takes 2 positional arguments but 3 were given",
     "output_type": "error",
     "traceback": [
      "\u001b[0;31m---------------------------------------------------------------------------\u001b[0m",
      "\u001b[0;31mTypeError\u001b[0m                                 Traceback (most recent call last)",
      "Cell \u001b[0;32mIn[28], line 9\u001b[0m\n\u001b[1;32m      6\u001b[0m train_cluster \u001b[38;5;241m=\u001b[39m {cluster_label: data_cluster[data_cluster[\u001b[38;5;124m'\u001b[39m\u001b[38;5;124mcluster\u001b[39m\u001b[38;5;124m'\u001b[39m] \u001b[38;5;241m==\u001b[39m cluster_label]\u001b[38;5;241m.\u001b[39mdrop([\u001b[38;5;124m'\u001b[39m\u001b[38;5;124mcluster\u001b[39m\u001b[38;5;124m'\u001b[39m], axis\u001b[38;5;241m=\u001b[39m\u001b[38;5;241m1\u001b[39m) \u001b[38;5;28;01mfor\u001b[39;00m cluster_label \u001b[38;5;129;01min\u001b[39;00m \u001b[38;5;28mrange\u001b[39m(NUM_CLUSTER)}\n\u001b[1;32m      8\u001b[0m \u001b[38;5;66;03m# Train regressors for each cluster\u001b[39;00m\n\u001b[0;32m----> 9\u001b[0m trained_regressors \u001b[38;5;241m=\u001b[39m {cluster_label: train_regressor(cluster_train_data, label) \u001b[38;5;28;01mfor\u001b[39;00m cluster_label, cluster_train_data \u001b[38;5;129;01min\u001b[39;00m train_cluster\u001b[38;5;241m.\u001b[39mitems()}\n",
      "Cell \u001b[0;32mIn[28], line 9\u001b[0m, in \u001b[0;36m<dictcomp>\u001b[0;34m(.0)\u001b[0m\n\u001b[1;32m      6\u001b[0m train_cluster \u001b[38;5;241m=\u001b[39m {cluster_label: data_cluster[data_cluster[\u001b[38;5;124m'\u001b[39m\u001b[38;5;124mcluster\u001b[39m\u001b[38;5;124m'\u001b[39m] \u001b[38;5;241m==\u001b[39m cluster_label]\u001b[38;5;241m.\u001b[39mdrop([\u001b[38;5;124m'\u001b[39m\u001b[38;5;124mcluster\u001b[39m\u001b[38;5;124m'\u001b[39m], axis\u001b[38;5;241m=\u001b[39m\u001b[38;5;241m1\u001b[39m) \u001b[38;5;28;01mfor\u001b[39;00m cluster_label \u001b[38;5;129;01min\u001b[39;00m \u001b[38;5;28mrange\u001b[39m(NUM_CLUSTER)}\n\u001b[1;32m      8\u001b[0m \u001b[38;5;66;03m# Train regressors for each cluster\u001b[39;00m\n\u001b[0;32m----> 9\u001b[0m trained_regressors \u001b[38;5;241m=\u001b[39m {cluster_label: \u001b[43mtrain_regressor\u001b[49m\u001b[43m(\u001b[49m\u001b[43mcluster_train_data\u001b[49m\u001b[43m,\u001b[49m\u001b[43m \u001b[49m\u001b[43mlabel\u001b[49m\u001b[43m)\u001b[49m \u001b[38;5;28;01mfor\u001b[39;00m cluster_label, cluster_train_data \u001b[38;5;129;01min\u001b[39;00m train_cluster\u001b[38;5;241m.\u001b[39mitems()}\n",
      "Cell \u001b[0;32mIn[27], line 13\u001b[0m, in \u001b[0;36mtrain_regressor\u001b[0;34m(cluster_data, label)\u001b[0m\n\u001b[1;32m      9\u001b[0m y_pred \u001b[38;5;241m=\u001b[39m reg_chain\u001b[38;5;241m.\u001b[39mpredict(cluster_data)\n\u001b[1;32m     11\u001b[0m real_train_mean_cluster \u001b[38;5;241m=\u001b[39m y_cluster\u001b[38;5;241m.\u001b[39mmean(axis\u001b[38;5;241m=\u001b[39m\u001b[38;5;241m0\u001b[39m)\n\u001b[0;32m---> 13\u001b[0m error \u001b[38;5;241m=\u001b[39m \u001b[43mcalculate_RRMSE\u001b[49m\u001b[43m(\u001b[49m\u001b[43my_cluster\u001b[49m\u001b[43m,\u001b[49m\u001b[43m \u001b[49m\u001b[43my_pred\u001b[49m\u001b[43m,\u001b[49m\u001b[43m \u001b[49m\u001b[43mreal_train_mean_cluster\u001b[49m\u001b[43m)\u001b[49m\n\u001b[1;32m     15\u001b[0m \u001b[38;5;28mprint\u001b[39m(error)\n\u001b[1;32m     17\u001b[0m \u001b[38;5;28;01mreturn\u001b[39;00m reg_chain\n",
      "\u001b[0;31mTypeError\u001b[0m: calculate_RRMSE() takes 2 positional arguments but 3 were given"
     ]
    }
   ],
   "source": [
    "# Create a DataFrame with x_train data\n",
    "data_cluster = pd.DataFrame(x_train)\n",
    "data_cluster['cluster'] = cluster_labels\n",
    "\n",
    "# Split the data into clusters\n",
    "train_cluster = {cluster_label: data_cluster[data_cluster['cluster'] == cluster_label].drop(['cluster'], axis=1) for cluster_label in range(NUM_CLUSTER)}\n",
    "\n",
    "# Train regressors for each cluster\n",
    "trained_regressors = {cluster_label: train_regressor(cluster_train_data, label) for cluster_label, cluster_train_data in train_cluster.items()}"
   ]
  },
  {
   "cell_type": "markdown",
   "metadata": {},
   "source": [
    "Caso de teste"
   ]
  },
  {
   "cell_type": "code",
   "execution_count": null,
   "metadata": {},
   "outputs": [
    {
     "name": "stdout",
     "output_type": "stream",
     "text": [
      "1.6601984753697885\n"
     ]
    }
   ],
   "source": [
    "y_pred_dict = {cluster_label: regressor.predict(x_test) for cluster_label, regressor in trained_regressors.items()}\n",
    "error = np.array([])\n",
    "\n",
    "for chave, value in y_pred_dict.items():\n",
    "    error_RRMSE = calculate_RRMSE(y_test, y_pred_dict[chave], real_test_mean)\n",
    "    error = np.append(error, error_RRMSE)\n",
    "\n",
    "\n",
    "RRMSE = error.mean(axis=0)\n",
    "print(RRMSE)\n",
    "\n",
    "# List to store the results\n",
    "error_results.append(('Regressor Chain Cluster', RRMSE))"
   ]
  },
  {
   "cell_type": "markdown",
   "metadata": {},
   "source": [
    "### Ensemble Regressor Chain "
   ]
  },
  {
   "cell_type": "markdown",
   "metadata": {},
   "source": [
    "Caso de treino"
   ]
  },
  {
   "cell_type": "code",
   "execution_count": null,
   "metadata": {},
   "outputs": [
    {
     "name": "stdout",
     "output_type": "stream",
     "text": [
      "Caso de Treino:  0.13862822217430446\n",
      "Caso de Teste:  0.3975720859837461\n"
     ]
    }
   ],
   "source": [
    "num_chain = label.shape[1]\n",
    "\n",
    "ensemble = [RegressorChain(RandomForestRegressor(random_state=i)) for i in range(num_chain)]\n",
    "reg_chains = [reg_chain.fit(x_train, y_train[:, [i]]) for i, reg_chain in enumerate(ensemble)]\n",
    "y_preds = np.column_stack([reg_chain.predict(x_train) for reg_chain in reg_chains])\n",
    "\n",
    "error = calculate_RRMSE(y_train, y_preds, real_train_mean)\n",
    "print(\"Caso de Treino: \", error)\n",
    "\n",
    "# Caso de teste\n",
    "\n",
    "y_preds = []\n",
    "y_preds = np.column_stack([reg_chain.predict(x_test) for reg_chain in reg_chains])\n",
    "\n",
    "error = calculate_RRMSE(y_test, y_preds, real_test_mean)\n",
    "print(\"Caso de Teste: \",error)\n",
    "\n",
    "error_results.append(('Ensemble de Regressor Chain', error))"
   ]
  },
  {
   "cell_type": "markdown",
   "metadata": {},
   "source": [
    "## Modelos"
   ]
  },
  {
   "cell_type": "markdown",
   "metadata": {},
   "source": [
    "#### XGBoost Local"
   ]
  },
  {
   "cell_type": "markdown",
   "metadata": {},
   "source": [
    "!!! Colocar da mesma forma q os outros !!!"
   ]
  },
  {
   "cell_type": "code",
   "execution_count": 105,
   "metadata": {},
   "outputs": [
    {
     "name": "stdout",
     "output_type": "stream",
     "text": [
      "XGBoost:  0.6100128516029643\n"
     ]
    }
   ],
   "source": [
    "def model_xgboost(x_train, y_train):\n",
    "    param = {'max_depth': 4,\n",
    "             'eta': 0.05, \n",
    "             'objective': 'reg:squarederror',\n",
    "             'booster': 'gbtree',\n",
    "            }\n",
    "    bst = xgb.XGBRegressor(**param, n_estimators=100)\n",
    "    bst.fit(x_train, y_train) \n",
    "    return bst\n",
    "\n",
    "\n",
    "xgboost = model_xgboost(data, label)\n",
    "score = cross_validate(xgboost, data, label, cv=kfold, scoring=RRMSE_scorer)\n",
    "score = np.sqrt(-score['test_score']).mean()\n",
    "print(\"XGBoost: \", score)"
   ]
  },
  {
   "cell_type": "code",
   "execution_count": null,
   "metadata": {},
   "outputs": [
    {
     "name": "stdout",
     "output_type": "stream",
     "text": [
      "RRMSE mean:  [0.49146055 0.49935981 0.40610491 0.21972201 0.49727372 0.19733626]\n"
     ]
    }
   ],
   "source": [
    "loss_list_RRMSE = []\n",
    "\n",
    "kf = KFold(n_splits=config.all_config[text_file].get('paper_kFold'),\n",
    "            shuffle=config.all_config[text_file].get('kfold_random'),\n",
    "            random_state=config.all_config[text_file].get('kfold_random_num'))\n",
    "\n",
    "for train_index, test_index in kf.split(data):\n",
    "    x_train, x_test = data[train_index], data[test_index]\n",
    "    y_train, y_test = label[train_index], label[test_index]\n",
    "\n",
    "    result_p_train = model_xgboost(x_train, y_train, x_test)\n",
    "    \n",
    "    real_train_mean = y_train.mean(axis=0)    \n",
    "    loss_list_RRMSE.append(computer_RRMSE_list(y_test, result_p_train, real_train_mean))\n",
    "\n",
    "loss_list_RRMSE_np = np.array(loss_list_RRMSE)\n",
    "error_results.append(('XGBoost Local', loss_list_RRMSE_np.mean(axis=0)))\n",
    "# print('RRMSE: ', loss_list_RRMSE_np)\n",
    "print('RRMSE mean: ', loss_list_RRMSE_np.mean(axis=0))"
   ]
  },
  {
   "cell_type": "code",
   "execution_count": null,
   "metadata": {},
   "outputs": [
    {
     "name": "stdout",
     "output_type": "stream",
     "text": [
      "Regressor Chain Padrão RRMSE: 0.4154982687282572\n",
      "Regressor Chain Cluster RRMSE: 1.6601984753697885\n",
      "Ensemble de Regressor Chain RRMSE: 0.3975720859837461\n",
      "MultiOutput Decision Tree:  RRMSE: 0.43959964356259484\n",
      "XGBoost Local RRMSE: [0.49146055 0.49935981 0.40610491 0.21972201 0.49727372 0.19733626]\n"
     ]
    }
   ],
   "source": [
    "# print the name and value of each model's error result\n",
    "for model, error in error_results:\n",
    "    print(f'{model} RRMSE: {error}')"
   ]
  }
 ],
 "metadata": {
  "colab": {
   "provenance": []
  },
  "kernelspec": {
   "display_name": "Python 3 (ipykernel)",
   "language": "python",
   "name": "python3"
  },
  "language_info": {
   "codemirror_mode": {
    "name": "ipython",
    "version": 3
   },
   "file_extension": ".py",
   "mimetype": "text/x-python",
   "name": "python",
   "nbconvert_exporter": "python",
   "pygments_lexer": "ipython3",
   "version": "3.10.9"
  }
 },
 "nbformat": 4,
 "nbformat_minor": 1
}
